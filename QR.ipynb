{
 "cells": [
  {
   "cell_type": "code",
   "execution_count": 21,
   "metadata": {
    "collapsed": true
   },
   "outputs": [],
   "source": [
    "import numpy as np\n",
    "def cgs_qr(A):\n",
    "    m, n = A.shape\n",
    "    A = A.copy()\n",
    "    Q = np.zeros((m,n))\n",
    "    R = np.zeros((n,n))\n",
    "    for k in range(n):\n",
    "        R[k,k] = np.linalg.norm(A[:,k],ord=2)\n",
    "        Q[:,k] = A[:,k]/R[k, k]\n",
    "        R[k,k+1:] = np.dot(Q[:,k].T, A[:,k+1:])\n",
    "        A[:,k+1:] = A[:,k+1:] - np.dot(Q[:,k:k+1], R[k:k+1, k+1:])\n",
    "    return Q, R"
   ]
  },
  {
   "cell_type": "code",
   "execution_count": 22,
   "metadata": {},
   "outputs": [],
   "source": [
    "B = np.array([[6, 5, 0], [5, -1, 4], [5, 1, -14], [0, 4, 3]], dtype=np.float)"
   ]
  },
  {
   "cell_type": "code",
   "execution_count": 23,
   "metadata": {},
   "outputs": [
    {
     "data": {
      "text/plain": [
       "(array([[ 0.64699664,  0.50964401,  0.17989978],\n",
       "        [ 0.53916387, -0.48110395,  0.57427139],\n",
       "        [ 0.53916387, -0.13046887, -0.79015113],\n",
       "        [ 0.        ,  0.70127016,  0.1162309 ]]),\n",
       " array([[  9.2736185 ,   3.2349832 ,  -5.39163866],\n",
       "        [  0.        ,   5.70393581,   2.00595884],\n",
       "        [  0.        ,   0.        ,  13.70789414]]))"
      ]
     },
     "execution_count": 23,
     "metadata": {},
     "output_type": "execute_result"
    }
   ],
   "source": [
    "cgs_qr(B)"
   ]
  },
  {
   "cell_type": "code",
   "execution_count": 24,
   "metadata": {
    "collapsed": true
   },
   "outputs": [],
   "source": [
    "import numpy as np\n",
    "def mgs_qr(A):\n",
    "    m, n = A.shape\n",
    "    A = A.copy()\n",
    "    Q = np.zeros((m,n))\n",
    "    R = np.zeros((n,n))\n",
    "    for k in range(n):\n",
    "        R[k,k] = np.linalg.norm(A[:,k],ord=2)\n",
    "        Q[:,k] = A[:,k]/R[k, k]\n",
    "        R[k,k+1:] = np.dot(Q[:,k].T, Q[:,k+1:])\n",
    "        A[:,k+1:] = A[:,k+1:] - np.dot(Q[:,k:k+1], R[k:k+1, k+1:])\n",
    "    return Q, R"
   ]
  },
  {
   "cell_type": "code",
   "execution_count": 25,
   "metadata": {
    "collapsed": true
   },
   "outputs": [],
   "source": [
    "C = np.array([[6, 5, 0], [5, -1, 4], [5, 1, -14], [0, 4, 3]], dtype=np.float)"
   ]
  },
  {
   "cell_type": "code",
   "execution_count": 26,
   "metadata": {},
   "outputs": [
    {
     "data": {
      "text/plain": [
       "(array([[ 0.64699664,  0.76249285,  0.        ],\n",
       "        [ 0.53916387, -0.15249857,  0.26906912],\n",
       "        [ 0.53916387,  0.15249857, -0.94174191],\n",
       "        [ 0.        ,  0.60999428,  0.20180184]]),\n",
       " array([[  9.2736185 ,   0.        ,   0.        ],\n",
       "        [  0.        ,   6.55743852,   0.        ],\n",
       "        [  0.        ,   0.        ,  14.86606875]]))"
      ]
     },
     "execution_count": 26,
     "metadata": {},
     "output_type": "execute_result"
    }
   ],
   "source": [
    "mgs_qr(C)"
   ]
  },
  {
   "cell_type": "code",
   "execution_count": null,
   "metadata": {
    "collapsed": true
   },
   "outputs": [],
   "source": []
  }
 ],
 "metadata": {
  "kernelspec": {
   "display_name": "Python 3",
   "language": "python",
   "name": "python3"
  },
  "language_info": {
   "codemirror_mode": {
    "name": "ipython",
    "version": 3
   },
   "file_extension": ".py",
   "mimetype": "text/x-python",
   "name": "python",
   "nbconvert_exporter": "python",
   "pygments_lexer": "ipython3",
   "version": "3.6.1"
  }
 },
 "nbformat": 4,
 "nbformat_minor": 2
}
