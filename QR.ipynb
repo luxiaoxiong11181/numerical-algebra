{
 "cells": [
  {
   "cell_type": "code",
   "execution_count": 2,
   "metadata": {
    "collapsed": true
   },
   "outputs": [],
   "source": [
    "import numpy as np\n",
    "def cgs_qr(A):\n",
    "    m, n = A.shape\n",
    "    A = A.copy()\n",
    "    Q = np.zeros((m,n))\n",
    "    R = np.zeros((n,n))\n",
    "    for k in range(n):\n",
    "        R[k,k] = np.linalg.norm(A[:,k],ord=2)\n",
    "        Q[:,k] = A[:,k]/R[k, k]\n",
    "        R[k,k+1:] = np.dot(Q[:,k].T, A[:,k+1:])\n",
    "        A[:,k+1:] = A[:,k+1:] - np.dot(Q[:,k:k+1], R[k:k+1, k+1:])\n",
    "    return Q, R"
   ]
  },
  {
   "cell_type": "code",
   "execution_count": 3,
   "metadata": {
    "collapsed": true
   },
   "outputs": [],
   "source": [
    "B = np.array([[6, 5, 0], [5, -1, 4], [5, 1, -14], [0, 4, 3]], dtype=np.float)"
   ]
  },
  {
   "cell_type": "code",
   "execution_count": 8,
   "metadata": {
    "collapsed": false
   },
   "outputs": [
    {
     "data": {
      "text/plain": [
       "array([[  6.00000000e+00,   5.00000000e+00,   7.93587073e-20],\n",
       "       [  5.00000000e+00,  -1.00000000e+00,   4.00000000e+00],\n",
       "       [  5.00000000e+00,   1.00000000e+00,  -1.40000000e+01],\n",
       "       [  0.00000000e+00,   4.00000000e+00,   3.00000000e+00]])"
      ]
     },
     "execution_count": 8,
     "metadata": {},
     "output_type": "execute_result"
    }
   ],
   "source": [
    "Q, R = cgs_qr(B)\n",
    "Q@R"
   ]
  },
  {
   "cell_type": "code",
   "execution_count": 20,
   "metadata": {
    "collapsed": true
   },
   "outputs": [],
   "source": [
    "import numpy as np\n",
    "def mgs_qr(A):\n",
    "    m, n = A.shape\n",
    "    A = A.copy()\n",
    "    Q = np.zeros((m,n))\n",
    "    R = np.zeros((n,n))\n",
    "    for i in range(n):\n",
    "        Q[:,i] = A[:,i]\n",
    "        for j in range(i):\n",
    "            R[j, i] = np.dot(Q[:, j], Q[:, i])\n",
    "            Q[:, i] -= R[j, i]*Q[:, j]\n",
    "        R[i, i] = np.linalg.norm(Q[:, i], ord=2)\n",
    "        Q[:, i] /= R[i, i]\n",
    "    return Q, R"
   ]
  },
  {
   "cell_type": "code",
   "execution_count": 23,
   "metadata": {
    "collapsed": false
   },
   "outputs": [
    {
     "data": {
      "text/plain": [
       "array([[  6.00000000e+00,   5.00000000e+00,   7.93587073e-20],\n",
       "       [  5.00000000e+00,  -1.00000000e+00,   4.00000000e+00],\n",
       "       [  5.00000000e+00,   1.00000000e+00,  -1.40000000e+01],\n",
       "       [  0.00000000e+00,   4.00000000e+00,   3.00000000e+00]])"
      ]
     },
     "execution_count": 23,
     "metadata": {},
     "output_type": "execute_result"
    }
   ],
   "source": [
    "Q, R=mgs_qr(B)\n",
    "Q.transpose()@Q\n",
    "Q@R"
   ]
  },
  {
   "cell_type": "code",
   "execution_count": 35,
   "metadata": {
    "collapsed": true
   },
   "outputs": [],
   "source": [
    "import numpy as np\n",
    "def cgs_qr1(A):\n",
    "    m, n = A.shape\n",
    "    A = A.copy()\n",
    "    Q = np.zeros((m,n))\n",
    "    R = np.zeros((n,n))\n",
    "    R[0, 0] = np.linalg.norm(A[:, 0])\n",
    "    Q[:, 0] = A[:, 0]/R[0, 0]\n",
    "    for i in range(1, n):\n",
    "        Q[:, i] = A[:, i]\n",
    "        R[0:i, i] = A[:, i]@Q[:, 0:i]\n",
    "        Q[:, i] -= Q[:, 0:i]@R[0:i, i]\n",
    "        R[i, i] = np.linalg.norm(Q[:, i])\n",
    "        Q[:, i] /= R[i, i]\n",
    "    return Q, R"
   ]
  },
  {
   "cell_type": "code",
   "execution_count": 37,
   "metadata": {
    "collapsed": false
   },
   "outputs": [
    {
     "data": {
      "text/plain": [
       "array([[  1.00000000e+00,   1.27587578e-16,  -6.38676574e-17],\n",
       "       [  1.27587578e-16,   1.00000000e+00,   1.65877472e-17],\n",
       "       [ -6.38676574e-17,   1.65877472e-17,   1.00000000e+00]])"
      ]
     },
     "execution_count": 37,
     "metadata": {},
     "output_type": "execute_result"
    }
   ],
   "source": [
    "Q, R = cgs_qr1(B)\n",
    "Q.transpose()@Q"
   ]
  },
  {
   "cell_type": "code",
   "execution_count": null,
   "metadata": {
    "collapsed": true
   },
   "outputs": [],
   "source": []
  }
 ],
 "metadata": {
  "kernelspec": {
   "display_name": "Python 3",
   "language": "python",
   "name": "python3"
  },
  "language_info": {
   "codemirror_mode": {
    "name": "ipython",
    "version": 3
   },
   "file_extension": ".py",
   "mimetype": "text/x-python",
   "name": "python",
   "nbconvert_exporter": "python",
   "pygments_lexer": "ipython3",
   "version": "3.5.2"
  },
  "latex_envs": {
   "bibliofile": "biblio.bib",
   "cite_by": "apalike",
   "current_citInitial": 1,
   "eqLabelWithNumbers": true,
   "eqNumInitial": 0
  }
 },
 "nbformat": 4,
 "nbformat_minor": 2
}
