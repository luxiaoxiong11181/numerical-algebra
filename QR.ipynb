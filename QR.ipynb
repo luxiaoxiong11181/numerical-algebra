{
 "cells": [
  {
   "cell_type": "code",
   "execution_count": 74,
   "metadata": {
    "collapsed": true
   },
   "outputs": [],
   "source": [
    "import numpy as np\n",
    "def cgs_qr(A):\n",
    "    m, n = A.shape\n",
    "    A = A.copy()\n",
    "    Q = np.zeros((m,n))\n",
    "    R = np.zeros((n,n))\n",
    "    for k in range(n):\n",
    "        R[k,k] = np.linalg.norm(A[:,k],ord=2)\n",
    "        Q[:,k] = A[:,k]/R[k, k]\n",
    "        R[k,k+1:] = np.dot(Q[:,k].T, A[:,k+1:])\n",
    "        A[:,k+1:] = A[:,k+1:] - np.dot(Q[:,k:k+1], R[k:k+1, k+1:])\n",
    "    return Q, R"
   ]
  },
  {
   "cell_type": "code",
   "execution_count": 75,
   "metadata": {
    "collapsed": true
   },
   "outputs": [],
   "source": [
    "B = np.array([[12, -51, 4], [6, 167, -68], [-4, 24, -41]], dtype=np.float)"
   ]
  },
  {
   "cell_type": "code",
   "execution_count": 76,
   "metadata": {},
   "outputs": [
    {
     "data": {
      "text/plain": [
       "(array([[ 0.85714286, -0.39428571, -0.33142857],\n",
       "        [ 0.42857143,  0.90285714,  0.03428571],\n",
       "        [-0.28571429,  0.17142857, -0.94285714]]),\n",
       " array([[  14.,   21.,  -14.],\n",
       "        [   0.,  175.,  -70.],\n",
       "        [   0.,    0.,   35.]]))"
      ]
     },
     "execution_count": 76,
     "metadata": {},
     "output_type": "execute_result"
    }
   ],
   "source": [
    "cgs_qr(B)"
   ]
  },
  {
   "cell_type": "code",
   "execution_count": null,
   "metadata": {
    "collapsed": true
   },
   "outputs": [],
   "source": []
  }
 ],
 "metadata": {
  "kernelspec": {
   "display_name": "Python 3",
   "language": "python",
   "name": "python3"
  },
  "language_info": {
   "codemirror_mode": {
    "name": "ipython",
    "version": 3
   },
   "file_extension": ".py",
   "mimetype": "text/x-python",
   "name": "python",
   "nbconvert_exporter": "python",
   "pygments_lexer": "ipython3",
   "version": "3.6.1"
  }
 },
 "nbformat": 4,
 "nbformat_minor": 2
}
