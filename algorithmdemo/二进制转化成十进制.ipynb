{
 "cells": [
  {
   "cell_type": "markdown",
   "metadata": {},
   "source": [
    "### 关于二进制转化成十进制的程序"
   ]
  },
  {
   "cell_type": "code",
   "execution_count": 5,
   "metadata": {},
   "outputs": [
    {
     "name": "stdout",
     "output_type": "stream",
     "text": [
      "5\n"
     ]
    }
   ],
   "source": [
    "from functools import reduce\n",
    "def transform(var , unit_1 = 2,unit_2 = 10):\n",
    "    num = reduce(lambda x,y: unit_1*x+y,list(map(lambda x:int(x),var)))\n",
    "    str_num =''\n",
    "    while num != 0:\n",
    "        num,rem = [num//unit_2, num%unit_2]\n",
    "        str_num = str(rem)+str_num\n",
    "        return str_num\n",
    "ans = transform(var = '101')\n",
    "print(ans)"
   ]
  },
  {
   "cell_type": "code",
   "execution_count": 3,
   "metadata": {},
   "outputs": [
    {
     "name": "stdout",
     "output_type": "stream",
     "text": [
      "a=1111\n",
      "num = 15\n"
     ]
    }
   ],
   "source": [
    "import numpy as np\n",
    "a = np.zeros(323)\n",
    "a = input(\"a=\")\n",
    "num = 0\n",
    "i = 0\n",
    "for i in range(len(a)):\n",
    "    num = num * 2\n",
    "    num = num + int(a [i]) \n",
    "print('num =',num)\n"
   ]
  },
  {
   "cell_type": "code",
   "execution_count": null,
   "metadata": {},
   "outputs": [],
   "source": []
  }
 ],
 "metadata": {
  "kernelspec": {
   "display_name": "Python 3",
   "language": "python",
   "name": "python3"
  },
  "language_info": {
   "codemirror_mode": {
    "name": "ipython",
    "version": 3
   },
   "file_extension": ".py",
   "mimetype": "text/x-python",
   "name": "python",
   "nbconvert_exporter": "python",
   "pygments_lexer": "ipython3",
   "version": "3.5.2"
  }
 },
 "nbformat": 4,
 "nbformat_minor": 2
}
