{
 "cells": [
  {
   "cell_type": "code",
   "execution_count": 11,
   "metadata": {
    "collapsed": true
   },
   "outputs": [],
   "source": [
    "import numpy as np\n",
    "A0 = np.array([[4, 2, 1, 5], \n",
    "               [8, 7, 2, 10], \n",
    "               [4, 8, 3, 6],\n",
    "               [6, 8, 4, 9]], dtype=float)"
   ]
  },
  {
   "cell_type": "code",
   "execution_count": 9,
   "metadata": {
    "collapsed": true
   },
   "outputs": [],
   "source": [
    "def algorithm_2_2(A):\n",
    "    n = len(A)\n",
    "    P, L, U = np.eye(n), np.zeros((n, n)), np.zeros((n, n))\n",
    "    for i in range(n - 1):\n",
    "        m = np.argmax(np.abs(A[i:, i])) + i\n",
    "        if A[m, i] == 0:\n",
    "            raise ValueError(\"matrix is singular.\")\n",
    "        else:\n",
    "            if m != i:\n",
    "                A[[i, m], :] = A[[m, i], :]\n",
    "                L[[i, m], :] = L[[m, i], :]\n",
    "                P[[i, m], :] = P[[m, i], :]\n",
    "            for j in range(i + 1, n):\n",
    "                L[j, i] = A[j, i] / A[i, i]\n",
    "\n",
    "            for j in range(i, n):\n",
    "                U[i, j] = A[i, j]\n",
    "\n",
    "            for j in range(i + 1, n):\n",
    "                for k in range(i + 1, n):\n",
    "                    A[j, k] -= L[j, i] * U[i, k]\n",
    "\n",
    "    P = P.T\n",
    "    L += np.eye(n)\n",
    "    U[-1, -1] = A[-1, -1]\n",
    "    return A, P, L, U"
   ]
  },
  {
   "cell_type": "code",
   "execution_count": 12,
   "metadata": {
    "collapsed": false
   },
   "outputs": [
    {
     "name": "stdout",
     "output_type": "stream",
     "text": [
      "[[  4.   2.   1.   5.]\n",
      " [  8.   7.   2.  10.]\n",
      " [  4.   8.   3.   6.]\n",
      " [  6.   8.   4.   9.]]\n",
      "[[ 0.  0.  0.  1.]\n",
      " [ 1.  0.  0.  0.]\n",
      " [ 0.  1.  0.  0.]\n",
      " [ 0.  0.  1.  0.]]\n",
      "[[ 1.          0.          0.          0.        ]\n",
      " [ 0.5         1.          0.          0.        ]\n",
      " [ 0.75        0.61111111  1.          0.        ]\n",
      " [ 0.5        -0.33333333  0.52173913  1.        ]]\n",
      "[[  8.           7.           2.          10.        ]\n",
      " [  0.           4.5          2.           1.        ]\n",
      " [  0.           0.           1.27777778   0.88888889]\n",
      " [  0.           0.           0.          -0.13043478]]\n",
      "[[  0.00000000e+00   0.00000000e+00   0.00000000e+00  -8.88178420e-16]\n",
      " [  0.00000000e+00   0.00000000e+00   0.00000000e+00   0.00000000e+00]\n",
      " [  0.00000000e+00   0.00000000e+00   0.00000000e+00   0.00000000e+00]\n",
      " [  0.00000000e+00   0.00000000e+00   0.00000000e+00   0.00000000e+00]]\n"
     ]
    }
   ],
   "source": [
    "A, P, L, U = algorithm_2_2(A0.copy())\n",
    "print(A0)\n",
    "print(P)\n",
    "print(L)\n",
    "print(U)\n",
    "print(A0 - P@L@U)"
   ]
  },
  {
   "cell_type": "code",
   "execution_count": 13,
   "metadata": {
    "collapsed": true
   },
   "outputs": [],
   "source": [
    "def algorithm_2_3(A):\n",
    "    n = len(A)\n",
    "    P = np.eye(n)\n",
    "\n",
    "    for i in range(n - 1):\n",
    "\n",
    "        m = np.argmax(np.abs(A[i:, i])) + i\n",
    "\n",
    "        if A[m, i] == 0:\n",
    "            raise ValueError(\"matrix is singular.\")\n",
    "        else:\n",
    "            if m != i:\n",
    "                A[[i, m], :] = A[[m, i], :]\n",
    "                P[[i, m], :] = P[[m, i], :]\n",
    "\n",
    "            for j in range(i + 1, n):\n",
    "                A[j, i] = A[j, i] / A[i, i]\n",
    "\n",
    "            for j in range(i + 1, n):\n",
    "                for k in range(i + 1, n):\n",
    "                    A[j, k] -= A[j, i] * A[i, k]\n",
    "\n",
    "    P = P.T\n",
    "    L = np.tril(A, -1) + np.eye(n)\n",
    "    U = np.triu(A, 0)\n",
    "    return A, P, L, U"
   ]
  },
  {
   "cell_type": "code",
   "execution_count": 14,
   "metadata": {
    "collapsed": false
   },
   "outputs": [
    {
     "name": "stdout",
     "output_type": "stream",
     "text": [
      "[[  4.   2.   1.   5.]\n",
      " [  8.   7.   2.  10.]\n",
      " [  4.   8.   3.   6.]\n",
      " [  6.   8.   4.   9.]]\n",
      "[[ 0.  0.  0.  1.]\n",
      " [ 1.  0.  0.  0.]\n",
      " [ 0.  1.  0.  0.]\n",
      " [ 0.  0.  1.  0.]]\n",
      "[[ 1.          0.          0.          0.        ]\n",
      " [ 0.5         1.          0.          0.        ]\n",
      " [ 0.75        0.61111111  1.          0.        ]\n",
      " [ 0.5        -0.33333333  0.52173913  1.        ]]\n",
      "[[  8.           7.           2.          10.        ]\n",
      " [  0.           4.5          2.           1.        ]\n",
      " [  0.           0.           1.27777778   0.88888889]\n",
      " [  0.           0.           0.          -0.13043478]]\n",
      "[[  0.00000000e+00   0.00000000e+00   0.00000000e+00  -8.88178420e-16]\n",
      " [  0.00000000e+00   0.00000000e+00   0.00000000e+00   0.00000000e+00]\n",
      " [  0.00000000e+00   0.00000000e+00   0.00000000e+00   0.00000000e+00]\n",
      " [  0.00000000e+00   0.00000000e+00   0.00000000e+00   0.00000000e+00]]\n"
     ]
    }
   ],
   "source": [
    "A, P, L, U = algorithm_2_3(A0.copy())\n",
    "print(A0)\n",
    "print(P)\n",
    "print(L)\n",
    "print(U)\n",
    "print(A0 - P@L@U)"
   ]
  },
  {
   "cell_type": "code",
   "execution_count": 16,
   "metadata": {
    "collapsed": true
   },
   "outputs": [],
   "source": [
    "def algorithm_2_4(A):\n",
    "    n = len(A)\n",
    "    P = np.eye(n)\n",
    "\n",
    "    for i in range(n - 1):\n",
    "        m = np.argmax(np.abs(A[i:, i])) + i\n",
    "\n",
    "        if A[m, i] == 0:\n",
    "            raise ValueError(\"matrix is singular.\")\n",
    "        else:\n",
    "            if m != i:\n",
    "                A[[i, m], :] = A[[m, i], :]\n",
    "                P[[i, m], :] = P[[m, i], :]\n",
    "\n",
    "            A[(i + 1):, i] = A[(i + 1):, i] / A[i, i]\n",
    "            A[(i + 1):, (i + 1):] -= A[(i + 1):, i].reshape(-1, 1)*A[i, (i + 1):]\n",
    "\n",
    "    P = P.T\n",
    "    L = np.tril(A, -1) + np.eye(n)\n",
    "    U = np.triu(A, 0)\n",
    "    return A, P, L, U"
   ]
  },
  {
   "cell_type": "code",
   "execution_count": 17,
   "metadata": {
    "collapsed": false
   },
   "outputs": [
    {
     "name": "stdout",
     "output_type": "stream",
     "text": [
      "[[  4.   2.   1.   5.]\n",
      " [  8.   7.   2.  10.]\n",
      " [  4.   8.   3.   6.]\n",
      " [  6.   8.   4.   9.]]\n",
      "[[ 0.  0.  0.  1.]\n",
      " [ 1.  0.  0.  0.]\n",
      " [ 0.  1.  0.  0.]\n",
      " [ 0.  0.  1.  0.]]\n",
      "[[ 1.          0.          0.          0.        ]\n",
      " [ 0.5         1.          0.          0.        ]\n",
      " [ 0.75        0.61111111  1.          0.        ]\n",
      " [ 0.5        -0.33333333  0.52173913  1.        ]]\n",
      "[[  8.           7.           2.          10.        ]\n",
      " [  0.           4.5          2.           1.        ]\n",
      " [  0.           0.           1.27777778   0.88888889]\n",
      " [  0.           0.           0.          -0.13043478]]\n",
      "[[  0.00000000e+00   0.00000000e+00   0.00000000e+00  -8.88178420e-16]\n",
      " [  0.00000000e+00   0.00000000e+00   0.00000000e+00   0.00000000e+00]\n",
      " [  0.00000000e+00   0.00000000e+00   0.00000000e+00   0.00000000e+00]\n",
      " [  0.00000000e+00   0.00000000e+00   0.00000000e+00   0.00000000e+00]]\n"
     ]
    }
   ],
   "source": [
    "A, P, L, U = algorithm_2_4(A0.copy())\n",
    "print(A0)\n",
    "print(P)\n",
    "print(L)\n",
    "print(U)\n",
    "print(A0 - P@L@U)"
   ]
  },
  {
   "cell_type": "code",
   "execution_count": null,
   "metadata": {
    "collapsed": true
   },
   "outputs": [],
   "source": []
  }
 ],
 "metadata": {
  "kernelspec": {
   "display_name": "Python 3",
   "language": "python",
   "name": "python3"
  },
  "language_info": {
   "codemirror_mode": {
    "name": "ipython",
    "version": 3
   },
   "file_extension": ".py",
   "mimetype": "text/x-python",
   "name": "python",
   "nbconvert_exporter": "python",
   "pygments_lexer": "ipython3",
   "version": "3.5.2"
  },
  "latex_envs": {
   "bibliofile": "biblio.bib",
   "cite_by": "apalike",
   "current_citInitial": 1,
   "eqLabelWithNumbers": true,
   "eqNumInitial": 0
  }
 },
 "nbformat": 4,
 "nbformat_minor": 1
}
