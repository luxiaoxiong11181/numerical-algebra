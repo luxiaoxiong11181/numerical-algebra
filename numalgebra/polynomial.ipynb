{
 "cells": [
  {
   "cell_type": "code",
   "execution_count": 8,
   "metadata": {},
   "outputs": [
    {
     "data": {
      "image/png": "[encoded data removed]",
      "text/plain": [
       "<matplotlib.figure.Figure at 0x275e2be7e80>"
      ]
     },
     "metadata": {},
     "output_type": "display_data"
    }
   ],
   "source": [
    "import matplotlib.pyplot as plt\n",
    "import numpy as np\n",
    "%matplotlib inline\n",
    "\n",
    "def p1(x):\n",
    "    return (x-2)**9\n",
    "\n",
    "def p2(x):\n",
    "    c = [1, -18, 144, -672, 2016, -4032, 5376,\n",
    "         -4608, 2304, -512]\n",
    "    p = c[0]\n",
    "    for i in range(1, len(c)):\n",
    "        p = x*p + c[i]\n",
    "        \n",
    "    return p\n",
    "\n",
    "x = np.linspace(1.92, 2.08, num=8000, endpoint=True)\n",
    "y1 = p1(x)\n",
    "y2 = p2(x)\n",
    "fig = plt.figure()\n",
    "a1 = fig.add_subplot(1, 2, 1)\n",
    "a2 = fig.add_subplot(1, 2, 2)\n",
    "a1.plot(x, y1, 'r.', markersize=0.1)\n",
    "a2.plot(x, y2, 'k.', markersize=0.1)\n",
    "plt.show()"
   ]
  },
  {
   "cell_type": "code",
   "execution_count": 14,
   "metadata": {},
   "outputs": [
    {
     "name": "stdout",
     "output_type": "stream",
     "text": [
      "x1= 1.9999999934434889\n",
      "x2= 2.028171235918999\n"
     ]
    }
   ],
   "source": [
    "def bisect(p, xl, xh, tol=1e-8):\n",
    "    \"\"\"find a root of p(x)=0 in [xl, xh].\n",
    "        assuming p(xl)*p(xh) < 0\n",
    "        stop is zero found to within \\pm tol\n",
    "    \"\"\"\n",
    "    pl = p(xl)\n",
    "    ph = p(xh)\n",
    "    while (xh - xl) > 2*tol:\n",
    "        xm = (xl + xh)/2\n",
    "        pm = p(xm)\n",
    "        if pm*pl < 0:\n",
    "            xh = xm\n",
    "            ph = pm\n",
    "        elif pm*ph < 0:\n",
    "            xl = xm\n",
    "            pl = pm\n",
    "        else:\n",
    "            xl = xm\n",
    "            xh = xm\n",
    "    r = (xl+xh)/2\n",
    "    return r\n",
    "x1 = bisect(p1, 1.89, 2.15)\n",
    "x2 = bisect(p2, 1.89, 2.15)\n",
    "print('x1=', x1)\n",
    "print('x2=', x2)"
   ]
  },
  {
   "cell_type": "code",
   "execution_count": 15,
   "metadata": {},
   "outputs": [
    {
     "data": {
      "text/plain": [
       "255"
      ]
     },
     "execution_count": 15,
     "metadata": {},
     "output_type": "execute_result"
    }
   ],
   "source": [
    "int('1'*8, 2)"
   ]
  },
  {
   "cell_type": "code",
   "execution_count": 16,
   "metadata": {},
   "outputs": [
    {
     "data": {
      "text/plain": [
       "5.960464477539063e-08"
      ]
     },
     "execution_count": 16,
     "metadata": {},
     "output_type": "execute_result"
    }
   ],
   "source": [
    "2**(-24)"
   ]
  },
  {
   "cell_type": "code",
   "execution_count": 17,
   "metadata": {},
   "outputs": [
    {
     "data": {
      "text/plain": [
       "1.1754943508222875e-38"
      ]
     },
     "execution_count": 17,
     "metadata": {},
     "output_type": "execute_result"
    }
   ],
   "source": [
    "2**(-126)"
   ]
  },
  {
   "cell_type": "code",
   "execution_count": null,
   "metadata": {
    "collapsed": true
   },
   "outputs": [],
   "source": []
  }
 ],
 "metadata": {
  "kernelspec": {
   "display_name": "Python 3",
   "language": "python",
   "name": "python3"
  },
  "language_info": {
   "codemirror_mode": {
    "name": "ipython",
    "version": 3
   },
   "file_extension": ".py",
   "mimetype": "text/x-python",
   "name": "python",
   "nbconvert_exporter": "python",
   "pygments_lexer": "ipython3",
   "version": "3.5.2"
  }
 },
 "nbformat": 4,
 "nbformat_minor": 2
}
