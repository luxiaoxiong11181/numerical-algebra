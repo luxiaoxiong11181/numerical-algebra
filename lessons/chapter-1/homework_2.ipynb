{
 "cells": [
  {
   "cell_type": "markdown",
   "metadata": {},
   "source": [
    " 性质 1 \n",
    " $$\n",
    " \\quad\n",
    " $$证明：\n",
    " $$\n",
    " \\quad\n",
    " $$\n",
    " 由 $\\lVert A\\rVert = \\max\\limits_{x\\neq0}\\frac{\\lVert Ax\\rVert}{\\lVert x\\rVert}$ \n",
    " $$\n",
    " \\quad\n",
    " $$\n",
    " $\\Rightarrow$ 当 $x\\neq0$ 时，\n",
    " $$\n",
    " \\frac{\\lVert Ax\\rVert}{\\lVert x\\rVert}\\leq\\lVert A\\rVert\n",
    " $$\n",
    " $$\n",
    " \\quad\n",
    " $$\n",
    " $$\n",
    " \\Rightarrow \\lVert Ax\\rVert\\leq\\lVert A\\rVert\\lVert x\\rVert\n",
    " $$\n",
    " $$\n",
    " \\quad\n",
    " $$\n",
    " 进一步，当 $x = 0$ 时，\n",
    " $$\n",
    " \\lVert Ax\\rVert\\leq\\lVert A\\rVert\\lVert x\\rVert\n",
    " $$\n",
    " 显然成立"
   ]
  },
  {
   "cell_type": "markdown",
   "metadata": {},
   "source": [
    " 性质 2 $$\n",
    " \\quad\n",
    " $$\n",
    " 证明：\n",
    " $$\n",
    " \\quad\n",
    " $$由 $\\lVert A\\rVert = \\max\\limits_{x\\neq0}\\frac{\\lVert Ax\\rVert}{\\lVert x\\rVert}$ 可以得到 $\\lVert Ax\\rVert\\leq\\lVert A\\rVert\\lVert x\\rVert$\n",
    "$$\n",
    "\\quad\n",
    "$$\n",
    "由相容性条件 $\\lVert Ax\\rVert\\leq\\lVert A\\rVert\\lVert x\\rVert$ ,有\n",
    "$$\n",
    "\\lVert ABx\\rVert\\leq\\lVert A\\rVert\\lVert Bx\\rVert\\leq\\lVert A\\rVert\\lVert B\\rVert\\lVert x\\rVert\n",
    "$$\n",
    "当 $x\\neq0$ 时，有\n",
    "$$\n",
    "\\frac{\\lVert ABx\\rVert}{\\lVert x\\rVert}\\leq\\lVert A\\rVert\\lVert B\\rVert\n",
    "$$\n",
    "故\n",
    "$$\n",
    "\\lVert AB\\rVert = \\max\\limits\\frac{\\lVert ABx\\rVert}{\\lVert x\\rVert}\\leq\\lVert A\\rVert\\lVert B\\rVert\n",
    "$$"
   ]
  },
  {
   "cell_type": "markdown",
   "metadata": {},
   "source": [
    "性质 3 \n",
    "$$\n",
    "\\quad\n",
    "$$\n",
    "证明： 1、最大范数不是算子范数$\\quad$ 取 $x = (1, 0, 1)^T$ ，$A = \\begin{bmatrix}\n",
    "1 & 0 & 1 \\\\\n",
    "0 & \\frac{3}{2} & 0 \\\\\n",
    "0 & 1 &0\n",
    "\\end{bmatrix}$ ,\n",
    "$ Ax = \\begin{bmatrix}\n",
    "2 \\\\\n",
    "0 \\\\\n",
    "0 \n",
    "\\end{bmatrix}$ , 其中\n",
    "$$\n",
    "\\lVert x\\rVert_{max} = 1\n",
    "$$\n",
    "$$\n",
    "\\quad\\lVert A\\rVert_{max} = \\frac{3}{2}\\\\\n",
    "$$\n",
    "利用最大范数计算的算子范数为：\n",
    "$$\n",
    "\\lVert A\\rVert_{max} = max_{x\\neq0}\\frac{\\lVert Ax\\rVert_{max}}{\\lVert x\\rVert_{max}} = max_{x\\neq0}\\lVert Ax\\rVert_{max} = 2\n",
    "$$\n",
    "因此，最大范数不是算子范数\n",
    "$$\n",
    "\\quad\n",
    "$$\n",
    "2、 $F$ 范数不是算子范数 $\\qquad$ 取 $x = (\\frac{\\sqrt{2}}{2}, 0, \\frac{\\sqrt{2}}{2})$ $A = \\begin{bmatrix}\n",
    "1 & 0 & 0 \\\\\n",
    "0 & 2 & 0 \\\\\n",
    "0 & 0 & 2\n",
    "\\end{bmatrix}$ ,\n",
    "$ Ax = \\begin{bmatrix}\n",
    "\\frac{\\sqrt{2}}{2} \\\\\n",
    "0 \\\\\n",
    "\\sqrt{2} \n",
    "\\end{bmatrix}$ ,其中\n",
    "$$\n",
    "\\lVert x\\rVert_{F} = 1\n",
    "$$\n",
    "$$\n",
    "\\lVert A\\rVert_{max} = 3\n",
    "$$\n",
    "利用 $F$ 范数计算的算子范数为：\n",
    "$$\n",
    "\\lVert A\\rVert_{F} = max_{x\\neq0}\\frac{\\lVert Ax\\rVert_{F}}{\\lVert x\\rVert_{F}} = max_{x\\neq0}\\lVert Ax\\rVert_{F} = \\frac{\\sqrt{10}}{2}\n",
    "$$\n",
    "因此， $F$ 范数不是算子范数"
   ]
  },
  {
   "cell_type": "markdown",
   "metadata": {},
   "source": [
    "性质4. $\\quad\\left \\| QAZ \\right \\|=\\left \\| A \\right \\|$ ,   当Q和Z是正交阵和酉阵时，对Frobenius范数及由$\\left \\| \\cdot  \\right \\|_2$导出的算子范数成立 .\n",
    "\n",
    "\n",
    "证明    首先证明$\\forall A \\in C^{m\\times n}$成立\n",
    "$$\\left \\| A \\right \\|_F^2 = tr(A^HA) = tr(AA^H)\n",
    "$$\n",
    "事实上 $A^HA$的$i$行$i$列的元素为\n",
    "$$\\sum_{k=1}^m \\overline{a_{ki}}a_{ki} = \\sum_{k=1}^m\\left|a_{ki}\\right|^2\n",
    "$$\n",
    "因此\n",
    "$$tr(A^HA) = \\sum_{i=1}^n\\sum_{k=1}^m\\left|a_{ki}\\right|^2 = \\left \\| A \\right \\|_F^2\n",
    "$$\n",
    "于是\n",
    "$$\\left \\| A \\right \\|_F^2 = \\left \\| A^H \\right \\|_F^2 = tr((A^H)^HA^H) = tr(AA^H)\n",
    "$$"
   ]
  },
  {
   "cell_type": "markdown",
   "metadata": {},
   "source": [
    "下证   当Q和Z是酉阵时（正交阵同理可证），对Frobenius范数满足\n",
    "$$\\left \\| QAZ \\right \\|_F=\\left \\| A \\right \\|_F\n",
    "$$"
   ]
  },
  {
   "cell_type": "markdown",
   "metadata": {},
   "source": [
    "因为\n",
    "$$\\left \\| QAZ \\right \\|_F^2 = tr((QAZ)^H(QAZ)) = tr(Z^HA^HQ^HQAZ) = tr(Z^HA^HAZ) = tr(A^HA) = \\left \\| A \\right \\|_F^2\n",
    "$$"
   ]
  },
  {
   "cell_type": "markdown",
   "metadata": {},
   "source": [
    "故\n",
    "$$\\left \\| QAZ \\right \\|_F=\\left \\| A \\right \\|_F\n",
    "$$"
   ]
  },
  {
   "cell_type": "markdown",
   "metadata": {},
   "source": [
    "证明   当Q和Z是酉阵时（正交阵同理可证），对由$\\left \\| \\cdot  \\right \\|_2$导出的算子范数成立\n",
    "$$\\left \\| QAZ \\right \\|_2=\\left \\| A \\right \\|_2\n",
    "$$"
   ]
  },
  {
   "cell_type": "markdown",
   "metadata": {},
   "source": [
    "因为\n",
    "$$\\left \\| QAZ \\right \\|_2 = \\sqrt{\\lambda_{max}((QAZ)^H(QAZ))} =\\sqrt{\\lambda_{max}(Z^HA^HQ^HQAZ)} = \\sqrt{\\lambda_{max}(Z^HA^HAZ)} = \\sqrt{\\lambda_{max}(A^HA)} = \\left \\| A \\right \\|_2\n",
    "$$"
   ]
  },
  {
   "cell_type": "markdown",
   "metadata": {},
   "source": [
    "故\n",
    "$$\\left \\| QAZ \\right \\|_2=\\left \\| A \\right \\|_2\n",
    "$$"
   ]
  },
  {
   "cell_type": "markdown",
   "metadata": {},
   "source": [
    "性质 5 $\\quad\\left \\| A \\right \\|_\\infty \\equiv\\max_{x\\neq0}\\frac{\\left \\| Ax \\right \\|_\\infty}{\\left \\| x \\right \\|_\\infty} = \\max_i\\sum_j\\left|a_{ij}\\right|$ = 最大的绝对值行和\n",
    "$$\n",
    "\\quad\n",
    "$$\n",
    "证明： $\\quad$ 设 $x = (x_1,x_2,\\cdots,x_n)^T\\neq0$ ,不妨设 $A\\neq0$ .记\n",
    "$$\n",
    "t = \\lVert x\\rVert_\\infty = \\max\\limits_{1\\leq i\\leq n}|x_i|,\\quad\\mu = \\max\\limits_{1\\leq i\\leq n}\\sum_{j = 1}^n|a_{ij}|\n",
    "$$\n",
    "则\n",
    "$$\n",
    "\\lVert Ax\\rVert_\\infty = \\max\\limits_{1\\leq i\\leq n}|\\sum_{j = 1}^na_{ij}x_j\\;|\\leq \\max\\limits_{1\\leq i\\leq n}\\sum_{j = 1}^n|a_ij||x_j|\\leq t \\max_i\\sum_{j = 1}^n|a_{ij}|\n",
    "$$\n",
    "这就说明对任意的非零 $x\\in R^n$ ,有\n",
    "$$\n",
    "\\frac{\\lVert Ax\\rVert_\\infty}{\\lVert x\\rVert_\\infty}\\leq\\mu\n",
    "$$\n",
    "下面来说明有一向量 $x_0\\neq0$ ,使 $\\frac{\\lVert Ax\\rVert_\\infty}{\\lVert x\\rVert_\\infty}  = \\mu$ .设 $\\mu = \\sum_{j = 1}^n|a_{i_0j}|$ ,取向量 $x_0 = (x_1,x_2,\\cdots,x_n)^T$ ,其中 $x_j = sign(a_{i_0j})(j = 1, 2, \\cdots, n)$ .\n",
    "$$\n",
    "\\quad\n",
    "$$\n",
    "显然 $\\lVert x_0\\rVert_\\infty = 1$ ,且 $Ax_0$ 的第 $i_0$ 个分量为 $\\sum_{i = 1}^na_{i_0j}x_j = \\sum_{j = 1}^n |a_{i_0j}|$ ,这说明\n",
    "$$\n",
    "\\lVert Ax_0\\rVert_\\infty = \\max_{1\\leq i\\leq n}|\\sum_{j = 1}^na_{ij}x_j\\;| = \\sum_{j = 1}^n|a_{i_0j}| = \\mu\n",
    "$$"
   ]
  },
  {
   "cell_type": "markdown",
   "metadata": {},
   "source": [
    "性质6.$\\quad\\left \\| A \\right \\|_1\\equiv\\max_{x\\neq0}\\frac{\\left \\| Ax \\right \\|_1}{\\left \\| x \\right \\|_1} = \\left \\| A^T \\right \\|_\\infty = \\max_j\\sum_i\\left|a_{ij}\\right|$ = 最大的绝对值列和"
   ]
  },
  {
   "cell_type": "markdown",
   "metadata": {},
   "source": [
    "证明 设$x=(x_1,x_2,\\cdots,x_n)^T\\neq 0,$ 不妨设$A\\neq 0.$ 记$t=max\\left|x_i\\right|, \\qquad \\mu =  \\max_j\\sum_i\\left|a_{ij}\\right|$,  $\\qquad$则"
   ]
  },
  {
   "cell_type": "markdown",
   "metadata": {},
   "source": [
    "$$\\left \\| A \\right \\|_1 = \\max_j\\left|\\sum_ia_{ij}x_j\\right|\\le \\max_j\\sum_i\\left|a_{ij}\\right|\\left|x_j\\right| \\le t\\max_j\\sum_i\\left|a_{ij}\\right|\n",
    "$$\n",
    "这说明，对于任何非零$x$,有\n",
    "$$\\frac{\\left \\| Ax \\right \\|_1}{\\left \\| x \\right \\|_1}\\le\\mu\n",
    "$$"
   ]
  },
  {
   "cell_type": "markdown",
   "metadata": {},
   "source": [
    "下面说明有一向量$x_0\\neq0$, 使$\\frac{\\left \\| Ax \\right \\|_1}{\\left \\| x \\right \\|_1} = \\mu$.  设$\\mu = \\sum_i\\left|a_{ij_0}\\right|$,$\\quad$取向量"
   ]
  },
  {
   "cell_type": "markdown",
   "metadata": {},
   "source": [
    "$$x_0=(x_1,x_2,\\cdots,x_n)^T\n",
    "$$\n",
    "其中$$x_i = sgn(a_{ij_0}) \\qquad (i = 1,2,\\cdots,n)\n",
    "$$\n",
    "显然$\\left \\| x_0 \\right \\|_1 = 1$,$\\qquad$且$Ax_0$的第$j_0$个分量为$\\sum_ia_{ij_0}x_i = \\sum_i\\left|a_{ij_0}\\right|$,$\\qquad$这说明"
   ]
  },
  {
   "cell_type": "markdown",
   "metadata": {},
   "source": [
    "$$\\left \\| Ax_0 \\right \\|_1 =  \\max_j\\sum_i\\left|a_{ij}x_i\\right| = \\sum_i\\left|a_{ij_0}\\right| = \\mu\n",
    "$$"
   ]
  },
  {
   "cell_type": "markdown",
   "metadata": {},
   "source": [
    "故$$\\left \\| A \\right \\|_1\\equiv\\max_{x\\neq0}\\frac{\\left \\| Ax \\right \\|_1}{\\left \\| x \\right \\|_1} = \\left \\| A^T \\right \\|_\\infty = \\max_j\\sum_i\\left|a_{ij}\\right| = 最大的绝对值列和\n",
    "$$"
   ]
  },
  {
   "cell_type": "markdown",
   "metadata": {},
   "source": [
    "性质8.$\\qquad\\left \\| A \\right \\|_2 = \\left \\| A^T \\right \\|_2$"
   ]
  },
  {
   "cell_type": "markdown",
   "metadata": {},
   "source": [
    "证明 $\\quad$首先证明$\\qquad$若 A 和 B都是$n\\times n$阶矩阵，则AB和BA有相同的特征值"
   ]
  },
  {
   "cell_type": "markdown",
   "metadata": {},
   "source": [
    "$\\quad$设$\\lambda$是AB的一个特征值，$X$是对应于$\\lambda$的一个特征向量.则$$\\quad(AB)X = \\lambda X\\quad \\quad$$等式两边左乘B.$\\quad$得到\n",
    "$$BA(BX) = \\lambda(BX)\n",
    "$$"
   ]
  },
  {
   "cell_type": "markdown",
   "metadata": {},
   "source": [
    "当$BX = 0$时，$\\lambda X = A(BX) = 0$,而$X\\neq 0$,则$\\lambda = 0$,于是\n",
    "$$\\left| AB -0E \\right| = \\left| AB \\right| = \\left| BA \\right| = \\left| BA -0E \\right| = 0\n",
    "$$\n",
    "所以$\\lambda = 0$ 是BA的特征值"
   ]
  },
  {
   "cell_type": "markdown",
   "metadata": {},
   "source": [
    "当$BX \\neq 0$时，由定义有非零向量$BX$就是$BA$对应于特征值$\\lambda$的特征向量，所以$\\lambda$也是$BA$的特征值"
   ]
  },
  {
   "cell_type": "markdown",
   "metadata": {},
   "source": [
    "故$$\\left \\| A \\right \\|_2 = \\sqrt{\\lambda_{max}(A^TA)} =\\sqrt{\\lambda_{max}(AA^T)} = \\left \\| A^T\\right \\|_2\n",
    "$$"
   ]
  },
  {
   "cell_type": "markdown",
   "metadata": {},
   "source": [
    "性质 9  $$\n",
    "{\\lVert A\\rVert}_2 = \\max\\limits_i|\\lambda_i(A)|,当A是正规阵，即AA^* = A^*A时成立\n",
    "$$\n",
    "证明： $\\quad$ $A$ 是正规阵，必然存在酉阵 $Q$ 满足 $Q^* AQ = D$ , $D$ 为对角阵且对角线的元素都是 $A$ 的特征值。记 $D = diag({\\lambda_1, \\lambda_2, \\cdots, \\lambda_n})$ \n",
    "$$\n",
    "\\quad\n",
    "$$ \n",
    "所以\n",
    "$$\n",
    "{\\lVert A\\rVert}_2 = {\\lVert Q^*AQ\\rVert}_2 = {\\lVert D\\rVert}_2 = (\\lambda_{max}(D^*D))^{\\frac{1}{2}}\n",
    "$$\n",
    "又 \n",
    "$$D*D = diag(\\overline{\\lambda_1}\\lambda_1, \\overline{\\lambda_2}\\lambda_2,\\cdots,\\overline{\\lambda_n}\\lambda_n)\n",
    "$$\n",
    "$$\n",
    "{\\lVert A\\rVert}_2 = (\\lambda_{max}(D^*D))^{\\frac{1}{2}} = (max_i( \\overline{\\lambda_i}\\lambda_i))^{\\frac{1}{2}} = (max_i(|\\lambda_i|^2)^{\\frac{1}{2}} = max_i|\\lambda_i|\n",
    "$$"
   ]
  },
  {
   "cell_type": "markdown",
   "metadata": {},
   "source": [
    "性质10.$\\quad若 A 是$$n\\times n$阶矩阵，$\\quad$则$n^{-1/2}\\left \\| A \\right \\|_2 \\le\\left \\| A \\right \\|_1\\le n^{1/2}\\left \\| A \\right \\|_2$."
   ]
  },
  {
   "cell_type": "markdown",
   "metadata": {},
   "source": [
    "证明 首先，设 $\\lambda_1,\\lambda_2,\\cdots,\\lambda_n$ 是矩阵 $A^TA$ 的特征值。"
   ]
  },
  {
   "cell_type": "markdown",
   "metadata": {},
   "source": [
    "对于左边的不等式$$\\left \\| A \\right \\|_2^2 = \\lambda_{max}(A^TA) \\le \\lambda_1 + \\lambda_2 + \\cdots + \\lambda_n = tr(A^TA) = \\sum_i\\left| a_{i1} \\right|^2 + \\sum_i\\left| a_{i2} \\right|^2 + \\cdots + \\sum_i\\left| a_{in} \\right|^2 = \\sum_j\\sum_i\\left| a_{ij} \\right|^2 = \\sum_i\\sum_j\\left| a_{ij} \\right|^2 = \\sum_j\\left| a_{1j} \\right|^2 + \\sum_j\\left| a_{2j} \\right|^2 + \\cdots + \\sum_j\\left| a_{nj} \\right|^2 \\le n \\max_j\\left(\\sum_i\\left| a_{ij}\\right)| \\right)^2 = n\\left \\| A \\right \\|_1^2\n",
    "$$"
   ]
  },
  {
   "cell_type": "markdown",
   "metadata": {},
   "source": [
    "所以$$n^{-1/2}\\left \\| A \\right \\|_2 \\le\\left \\| A \\right \\|_1\n",
    "$$"
   ]
  },
  {
   "cell_type": "markdown",
   "metadata": {},
   "source": [
    "对于右边的不等式$$\\left \\| A \\right \\|_1^2 = \\max_j\\left(\\sum_i\\left| a_{ij}\\right|\\right)^2 \\le \\sum_j\\left| a_{1j} \\right|^2 + \\sum_j\\left| a_{2j} \\right|^2 + \\cdots + \\sum_j\\left| a_{nj} \\right|^2 = \\sum_i\\sum_j\\left| a_{ij} \\right|^2 = \\sum_j\\sum_i\\left| a_{ij} \\right|^2 = \\sum_i\\left| a_{i1} \\right|^2 + \\sum_i\\left| a_{i2} \\right|^2 + \\cdots + \\sum_i\\left| a_{in} \\right|^2 = tr(A^TA) = \\lambda_1 + \\lambda_2 + \\cdots + \\lambda_n \\le n\\lambda_{max}(A^TA) = n\\left \\| A \\right \\|_2^2\n",
    "$$ "
   ]
  },
  {
   "cell_type": "markdown",
   "metadata": {},
   "source": [
    "故$$n^{-1/2}\\left \\| A \\right \\|_2 \\le\\left \\| A \\right \\|_1\\le n^{1/2}\\left \\| A \\right \\|_2\n",
    "$$"
   ]
  },
  {
   "cell_type": "markdown",
   "metadata": {},
   "source": [
    "性质 11 \n",
    "$$\n",
    "\\quad\n",
    "$$\n",
    "证明 : $\\quad$首先，定义 $\\lambda_1,\\lambda_2,\\cdots,\\lambda_n$ 是矩阵 $A^TA$ 的特征值。\n",
    "$$\n",
    "\\quad\n",
    "$$\n",
    "对于左边的不等式，有\n",
    "$$\n",
    "\\lVert A\\rVert_2^2 = \\max_{1\\leq i\\leq n}\\lambda_i(A^TA)\\leq \\lambda_1(A^TA) + \\lambda_2(A^TA) + \\cdots + \\lambda_n(A^TA) \\\\= tr(A^TA) = \\sum_{i=1}^n|a_{i1}|^2 +\\sum_{i=1}^n|a_{i2}|^2 + \\cdots +\\sum_{i=1}^n|a_{in}|^2   \\\\ =\\sum_{i=1}^n\\sum_{j=1}^n|a_{ij}|^2 = \\sum_{j=1}^n|a_{1j}|^2 +\\sum_{j=1}^n|a_{2j}|^2 + \\cdots +\\sum_{j=1}^n|a_{nj}|^2 \\\\\\leq n \\max\\limits_j \\left( \\sum_{i = 1}^n |a_{ij}| \\right)^2 = n\\lVert A\\rVert_\\infty^2\n",
    "$$\n",
    "即： $n^{\\frac{-1}{2}}\\lVert A\\rVert_2 \\leq \\lVert A\\rVert_\\infty$\n",
    "对于右边的不等式，我们有\n",
    "$$\n",
    "\\lVert A\\rVert_\\infty^2 =  \\max\\limits_j \\left( \\sum_{i = 1}^n |a_{ij}| \\right) ^2 \\leq\\sum_{j=1}^n|a_{1j}|^2 +\\sum_{j=1}^n|a_{2j}|^2 + \\cdots +\\sum_{j=1}^n|a_{nj}|^2 \\\\=\\sum_{j=1}^n\\sum_{i=1}^n|a_{ij}|^2 = \\sum_{i=1}^n|a_{i1}|^2 +\\sum_{i=1}^n|a_{i2}|^2 + \\cdots +\\sum_{i=1}^n|a_{in}|^2 \\\\ = tr(A^TA) = \\lambda_1(A^TA) + \\lambda_2(A^TA) + \\cdots + \\lambda_n(A^TA)\\\\ \\leq n \\max_{1\\leq i\\leq n}\\lambda_i(A^TA) = n\\lVert A\\rVert_2^2\n",
    "$$\n",
    "即： $\\lVert A\\rVert_\\infty \\leq n^{\\frac{1}{2}}\\lVert A\\rVert_2$\n",
    "故\n",
    "$$\n",
    "n^{\\frac{-1}{2}}\\lVert A\\rVert_2 \\leq\\lVert A\\rVert_\\infty \\leq n^{\\frac{1}{2}}\\lVert A\\rVert_2\n",
    "$$"
   ]
  },
  {
   "cell_type": "markdown",
   "metadata": {},
   "source": [
    "性质12.$\\quad若 A 是$$n\\times n$阶矩阵，$\\quad$则$n^{-1}\\left \\| A \\right \\|_\\infty \\le\\left \\| A \\right \\|_1\\le n\\left \\| A \\right \\|_\\infty$."
   ]
  },
  {
   "cell_type": "markdown",
   "metadata": {},
   "source": [
    "证明\n",
    "对于右边的不等式$$\\left \\| A \\right \\|_1 = \\max_j\\sum_i\\left| a_{ij} \\right| \\le \\sum_i\\left| a_{i1} \\right| + \\sum_i\\left| a_{i2} \\right| + \\cdots + \\sum_i\\left| a_{in} \\right| = \\sum_j\\sum_i\\left| a_{ij} \\right| = \\sum_i\\sum_j\\left| a_{ij} \\right| = \\sum_j\\left| a_{1j} \\right| + \\sum_j\\left| a_{2j} \\right| + \\cdots + \\sum_j\\left| a_{nj} \\right| \\le n \\max_i\\sum_j\\left| a_{ij}\\right| =  n\\left \\| A \\right \\|_\\infty\n",
    "$$"
   ]
  },
  {
   "cell_type": "markdown",
   "metadata": {},
   "source": [
    "对于左边的不等式$$\\left \\| A \\right \\|_\\infty = \\max_i\\sum_j\\left| a_{ij}\\right| \\le \\sum_j\\left| a_{1j} \\right| + \\sum_j\\left| a_{2j} \\right| + \\cdots + \\sum_j\\left| a_{nj} \\right| = \\sum_i\\sum_j\\left| a_{ij} \\right| = \\sum_j\\sum_i\\left| a_{ij} \\right| = \\sum_i\\left| a_{i1} \\right| + \\sum_i\\left| a_{i2} \\right| + \\cdots + \\sum_i\\left| a_{in} \\right|\\le n \\max_j\\sum_i\\left| a_{ij}\\right| = n\\left \\| A \\right \\|_1\n",
    "$$ \n",
    "所以$$n^{-1}\\left \\| A \\right \\|_\\infty \\le\\left \\| A \\right \\|_1\n",
    "$$"
   ]
  },
  {
   "cell_type": "markdown",
   "metadata": {},
   "source": [
    "故$$n^{-1}\\left \\| A \\right \\|_\\infty \\le\\left \\| A \\right \\|_1\\le n\\left \\| A \\right \\|_\\infty\n",
    "$$"
   ]
  },
  {
   "cell_type": "markdown",
   "metadata": {},
   "source": [
    "性质 13 \n",
    "$$\n",
    "\\quad\n",
    "$$\n",
    "证明：$\\quad$有定义可以知道 \n",
    "$$\n",
    "\\lVert A\\rVert_1^2 = \\max\\limits_i\\sum_{j = 1}^n |a_{ij}|\n",
    "$$\n",
    "因此\n",
    "$$\n",
    "\\lVert A\\rVert_1^2 = \\max\\limits_i(\\sum_{j = 1}^n |a_{ij}|)^2\\leq\\sum_{i=1}^n|a_{i1}|^2 +\\sum_{i=1}^n|a_{i2}|^2 + \\cdots +\\sum_{i=1}^n|a_{in}|^2 = \\sum_{i = 1}^n\\sum_{j = 1}^n|a_{ij}|^2 = \\lVert A\\rVert_F^2\n",
    "$$\n",
    "即： $\\lVert A\\rVert_1 \\leq\\lVert A\\rVert_F$\n",
    "$$\n",
    "\\quad\n",
    "$$\n",
    "对于右边的不等式，定义 $\\lambda_1,\\lambda_2,\\cdots,\\lambda_n$ 是矩阵 $A$ 的特征值，那么有\n",
    "$$\n",
    "\\lVert A\\rVert_F^2 =  \\sum_{i = 1}^n\\sum_{j = 1}^n|a_{ij}|^2 = \\sum_{i=1}^n|a_{i1}|^2 +\\sum_{i=1}^n|a_{i2}|^2 + \\cdots +\\sum_{i=1}^n|a_{in}|^2  \\\\ = tr(A^TA) = \\lambda_1(A^TA) + \\lambda_2(A^TA) + \\cdots + \\lambda_n(A^TA)\\\\\\leq n \\max_{1\\leq i\\leq n}\\lambda_i(A^TA) = n\\lVert A\\rVert_2^2\n",
    "$$\n",
    "即： $\\lVert A\\rVert_F \\leq n^{\\frac{1}{2}}\\lVert A\\rVert_2$\n",
    "$$\n",
    "\\quad\n",
    "$$\n",
    "故\n",
    "$$\n",
    "\\lVert A\\rVert_1 \\leq\\lVert A\\rVert_F \\leq n^{\\frac{1}{2}}\\lVert A\\rVert_2\n",
    "$$"
   ]
  },
  {
   "cell_type": "code",
   "execution_count": null,
   "metadata": {
    "collapsed": true
   },
   "outputs": [],
   "source": []
  }
 ],
 "metadata": {
  "kernelspec": {
   "display_name": "Python 3",
   "language": "python",
   "name": "python3"
  },
  "language_info": {
   "codemirror_mode": {
    "name": "ipython",
    "version": 3
   },
   "file_extension": ".py",
   "mimetype": "text/x-python",
   "name": "python",
   "nbconvert_exporter": "python",
   "pygments_lexer": "ipython3",
   "version": "3.6.1"
  }
 },
 "nbformat": 4,
 "nbformat_minor": 2
}
