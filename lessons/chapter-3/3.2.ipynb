{
 "cells": [
  {
   "cell_type": "markdown",
   "metadata": {},
   "source": [
    "# Matrix Factoriaztions That Solve the Linear Least Squares Problem"
   ]
  },
  {
   "cell_type": "markdown",
   "metadata": {},
   "source": [
    "Mehtods:\n",
    "1. normal equations,\n",
    "    + fastest\n",
    "    + least accurate\n",
    "    + suitable to small condtion number \n",
    "2. QR decomposition,\n",
    "    + standard method \n",
    "    + cost twice than first method\n",
    "3. SVD,\n",
    "    + ill-conditioned problem ( $A$ is not full rank)\n",
    "    + several times more \n",
    "    + not efficient with sparse matrices\n",
    "4. transformation to a linear system\n",
    "    + iterative refinement to improve the solution when the problem is ill-conditioned"
   ]
  },
  {
   "cell_type": "markdown",
   "metadata": {},
   "source": [
    "## 3.2.1 Normal Equations"
   ]
  },
  {
   "cell_type": "markdown",
   "metadata": {},
   "source": [
    "* gradient vanish\n",
    "* $A^TAx=A^Tb$"
   ]
  },
  {
   "cell_type": "markdown",
   "metadata": {},
   "source": [
    "* minimizer? PYthagorean theorem"
   ]
  },
  {
   "cell_type": "markdown",
   "metadata": {},
   "source": [
    "* Cholesky decomposition \n",
    "* $n^2m+\\frac{1}{3}n^3+O(n^2)$"
   ]
  },
  {
   "cell_type": "markdown",
   "metadata": {},
   "source": [
    "## 3.2.2 QR Decomposition"
   ]
  },
  {
   "cell_type": "markdown",
   "metadata": {},
   "source": [
    "**Theorem 3.1**. $$A=QR$$"
   ]
  },
  {
   "cell_type": "markdown",
   "metadata": {},
   "source": [
    "**Algorithm 3.1** CGS and MGS for $A=QR$\n",
    "* the equivalent of CGS and MGS"
   ]
  },
  {
   "cell_type": "markdown",
   "metadata": {},
   "source": [
    "CGS:\n",
    "* numerically unstable, when the columns of A are nearly linearly dependent \n",
    "MGS:\n",
    "* more stable\n",
    "* $\\|Q^TA - I\\|$ being far larger than $\\epsilon$ if $A$ is ill-conditined "
   ]
  },
  {
   "cell_type": "markdown",
   "metadata": {},
   "source": []
  }
 ],
 "metadata": {
  "kernelspec": {
   "display_name": "Python 3",
   "language": "python",
   "name": "python3"
  },
  "language_info": {
   "codemirror_mode": {
    "name": "ipython",
    "version": 3
   },
   "file_extension": ".py",
   "mimetype": "text/x-python",
   "name": "python",
   "nbconvert_exporter": "python",
   "pygments_lexer": "ipython3",
   "version": "3.5.2"
  },
  "latex_envs": {
   "bibliofile": "biblio.bib",
   "cite_by": "apalike",
   "current_citInitial": 1,
   "eqLabelWithNumbers": true,
   "eqNumInitial": 0
  }
 },
 "nbformat": 4,
 "nbformat_minor": 1
}
