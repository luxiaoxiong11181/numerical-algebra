{
 "cells": [
  {
   "cell_type": "markdown",
   "metadata": {},
   "source": [
    "# Introduction "
   ]
  },
  {
   "cell_type": "markdown",
   "metadata": {},
   "source": [
    "* the linear least squares problem\n",
    "    + overdetermined\n",
    "    + underdetermined "
   ]
  },
  {
   "cell_type": "markdown",
   "metadata": {},
   "source": [
    "Application:\n",
    "\n",
    "* curve fitting\n",
    "* statistical modeling of noisy data\n",
    "* geodetic modeling (大地测量建模)\n",
    "\n",
    "Methods:\n",
    "* the normal equations\n",
    "* the QR decomposition\n",
    "* SVD\n",
    "    + frequently use\n",
    "    + properies\n",
    "    \n",
    "* 3.3 perturbation theory\n",
    "* 3.4 implementation datails and roundoff analysis\n",
    "* 3.5 ill-conditioned situation \n",
    "* 3.7 other kind LSP"
   ]
  },
  {
   "cell_type": "markdown",
   "metadata": {},
   "source": [
    "**Example 3.1**: curving fitting\n",
    "\n",
    "```\n",
    "numpy.polyfit(x, y, deg)\n",
    ">>> x = np.array([0.0, 1.0, 2.0, 3.0,  4.0,  5.0])\n",
    ">>> y = np.array([0.0, 0.8, 0.9, 0.1, -0.8, -1.0])\n",
    ">>> z = np.polyfit(x, y, 3)\n",
    ">>> z\n",
    "array([ 0.08703704, -0.81349206,  1.69312169, -0.03968254])\n",
    "```\n",
    "* show the coding process\n",
    "* plot the figure\n",
    "* analysis the result \n",
    "* basis $1, x, x^2, \\cdots, x^k$ "
   ]
  },
  {
   "cell_type": "markdown",
   "metadata": {
    "collapsed": true
   },
   "source": [
    "One can change to another kind of funcdtion as basis function.\n",
    "\n",
    "$f_1(y), f_2(y), \\cdot, f_3(y)$"
   ]
  },
  {
   "cell_type": "markdown",
   "metadata": {},
   "source": [
    "**Example 3.2** Statistical modeling\n",
    "\n",
    "* GPA\n",
    "* SAT\n",
    "    + verbal \n",
    "    + quantitative "
   ]
  },
  {
   "cell_type": "markdown",
   "metadata": {},
   "source": [
    "* linear regression\n",
    "* maximum-likelihood estimate \n",
    "* covariance matrix "
   ]
  },
  {
   "cell_type": "markdown",
   "metadata": {},
   "source": [
    "**Example 3.3**\n",
    "\n",
    "* Gauss invented least squares"
   ]
  },
  {
   "cell_type": "markdown",
   "metadata": {},
   "source": [
    "* US National Geodetic Survey\n",
    "* useful \n",
    "* big scale \n",
    "* computation by computer 1978"
   ]
  },
  {
   "cell_type": "markdown",
   "metadata": {},
   "source": [
    "The formulation of this problem. \n",
    "* nonlinear \n",
    "* approcimaing by many LSPs\n",
    "* details\n",
    "    + points: latitude, longitude and elevation \n",
    "    + distance \n",
    "    + angle\n",
    "    + linearize\n",
    "* aim is to estimate the corrections"
   ]
  }
 ],
 "metadata": {
  "kernelspec": {
   "display_name": "Python 3",
   "language": "python",
   "name": "python3"
  },
  "language_info": {
   "codemirror_mode": {
    "name": "ipython",
    "version": 3
   },
   "file_extension": ".py",
   "mimetype": "text/x-python",
   "name": "python",
   "nbconvert_exporter": "python",
   "pygments_lexer": "ipython3",
   "version": "3.5.2"
  },
  "latex_envs": {
   "bibliofile": "biblio.bib",
   "cite_by": "apalike",
   "current_citInitial": 1,
   "eqLabelWithNumbers": true,
   "eqNumInitial": 0
  }
 },
 "nbformat": 4,
 "nbformat_minor": 1
}
