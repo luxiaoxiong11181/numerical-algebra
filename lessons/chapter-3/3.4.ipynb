{
 "cells": [
  {
   "cell_type": "markdown",
   "metadata": {},
   "source": [
    "# 3.4 Orthogonal Matrices"
   ]
  },
  {
   "cell_type": "markdown",
   "metadata": {},
   "source": [
    "GS isn not stable for OR decompositon."
   ]
  },
  {
   "cell_type": "markdown",
   "metadata": {},
   "source": [
    "* Householder reflections.\n",
    "* Givens rotations(吉文斯旋转)\n",
    "\n",
    "1. introduce zeros into vecotrs that they multiply\n",
    "2. automatically stable\n",
    "3. apply to QR and SVD"
   ]
  },
  {
   "cell_type": "markdown",
   "metadata": {},
   "source": [
    "MGS algorithm has important uses in numerical linear algebra. \n",
    "\n",
    "1. the possibility of nonorthogonal $Q$\n",
    "1. uses\n",
    "    + finding eigenvectors of symmetric tridiagonal matrices\n",
    "    + Arnoldi and Lanczos algorithms (sparse matrix problem)"
   ]
  },
  {
   "cell_type": "markdown",
   "metadata": {},
   "source": [
    "## 3.4.1 Householder Transformations"
   ]
  },
  {
   "cell_type": "markdown",
   "metadata": {},
   "source": [
    "$$\n",
    "P = I - 2uu^T\n",
    "$$\n",
    "\n",
    "where $\\|u\\|_2 = 1$. \n",
    "\n",
    "1. symmetric\n",
    "1. orthogonal\n",
    "\n",
    "It is called a reflection because $Px$ is refection of $x$ in the plane throught 0 perpendicular to $u$."
   ]
  },
  {
   "cell_type": "markdown",
   "metadata": {},
   "source": [
    "$$\n",
    "Px = [c, 0, ..., 0]^T = c\\cdot e_1\n",
    "$$\n",
    "\n",
    "$$\n",
    "Px = x - 2u(u^Tx) = c\\cdot e_1\n",
    "$$\n",
    "\n",
    "$$\n",
    "u = \\frac{1}{2(u^Tx)}(x- c\\cdot e_1)\n",
    "$$\n",
    "\n",
    "$$\n",
    "\\|x\\|_2 = \\|Px\\|_2 = |c|\n",
    "$$\n",
    "\n",
    "$u$ must be parallel to vector：\n",
    "$$\n",
    "\\tilde u = x\\pm \\|x\\|_2 e_1\n",
    "$$\n",
    "\n",
    "One can verify that either choice of sign yields a $u$ satifying $Px=ce_1$, as long as $\\tilde u\\ne 0$."
   ]
  },
  {
   "cell_type": "markdown",
   "metadata": {},
   "source": [
    "$$\n",
    "\\tilde u = x + sign(x_1) \\|x\\|_2 e_1\n",
    "$$\n",
    "\n",
    "This means that there is no cancellation in computing the first component of $\\tilde u$. \n",
    "\n",
    "$$ u = \\text{House}(x)$$"
   ]
  },
  {
   "cell_type": "markdown",
   "metadata": {},
   "source": [
    "** Example 3.5 **"
   ]
  },
  {
   "cell_type": "markdown",
   "metadata": {},
   "source": [
    "** Algorithm 3.2 **\n",
    "\n",
    "1. why $\\min(m-1, n)$?\n",
    "2. explain the details "
   ]
  },
  {
   "cell_type": "markdown",
   "metadata": {},
   "source": [
    "## 3.4.2 Givens Rotations"
   ]
  },
  {
   "cell_type": "markdown",
   "metadata": {},
   "source": [
    "## 3.4.3 Roundoff Error Analysis for Orthogonal Matrices"
   ]
  },
  {
   "cell_type": "markdown",
   "metadata": {},
   "source": [
    "** Lemma 3.1 **"
   ]
  },
  {
   "cell_type": "markdown",
   "metadata": {},
   "source": [
    "** Theorem 3.5 **"
   ]
  },
  {
   "cell_type": "markdown",
   "metadata": {},
   "source": [
    "## 3.4.4 "
   ]
  }
 ],
 "metadata": {
  "kernelspec": {
   "display_name": "Python 3",
   "language": "python",
   "name": "python3"
  },
  "language_info": {
   "codemirror_mode": {
    "name": "ipython",
    "version": 3
   },
   "file_extension": ".py",
   "mimetype": "text/x-python",
   "name": "python",
   "nbconvert_exporter": "python",
   "pygments_lexer": "ipython3",
   "version": "3.5.2"
  },
  "latex_envs": {
   "bibliofile": "biblio.bib",
   "cite_by": "apalike",
   "current_citInitial": 1,
   "eqLabelWithNumbers": true,
   "eqNumInitial": 0
  }
 },
 "nbformat": 4,
 "nbformat_minor": 1
}
