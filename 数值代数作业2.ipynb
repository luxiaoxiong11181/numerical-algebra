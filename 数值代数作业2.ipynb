{
 "cells": [
  {
   "cell_type": "markdown",
   "metadata": {},
   "source": [
    "# Lemma 1.7"
   ]
  },
  {
   "cell_type": "markdown",
   "metadata": {},
   "source": [
    "### 2.  $\\left \\| AB \\right \\|\\le\\left \\| A \\right \\|\\cdot\\left \\| B \\right \\|$ ,对任何算子范数或Frobenius范数成立.      换言之  ，任何算子范数或（Frobenius范数）和它本身是相互相容的.\n"
   ]
  },
  {
   "cell_type": "markdown",
   "metadata": {},
   "source": [
    "### 证明   由$$\\left \\| Ax \\right \\|\\le\\left \\| A \\right \\|\\cdot\\left \\| x \\right \\|\n",
    "$$"
   ]
  },
  {
   "cell_type": "markdown",
   "metadata": {},
   "source": [
    "### 得$$\\left \\| ABx \\right \\|\\le\\left \\| A \\right \\|\\cdot\\left \\| Bx \\right \\|\\le\\left \\| A \\right \\|\\cdot\\left \\| B \\right \\|\\cdot\\left \\| x\\right \\|\n",
    "$$"
   ]
  },
  {
   "cell_type": "markdown",
   "metadata": {},
   "source": [
    "### 当 $x\\neq0$ 时，有"
   ]
  },
  {
   "cell_type": "markdown",
   "metadata": {},
   "source": [
    "$$\\frac{\\left \\| ABx \\right \\|}{\\left \\| x \\right \\|}\\le\\left \\| A \\right \\|\\cdot\\left \\| B \\right \\|\n",
    "$$"
   ]
  },
  {
   "cell_type": "markdown",
   "metadata": {},
   "source": [
    "$$\\left \\| AB \\right \\|=\\max_{x\\neq0}\\frac{\\left \\| ABx \\right \\|}{\\left \\| x \\right \\|}\\le\\left \\| A \\right \\|\\cdot\\left \\| B \\right \\|\n",
    "$$"
   ]
  },
  {
   "cell_type": "markdown",
   "metadata": {},
   "source": [
    "### 故$$\\left \\| AB \\right \\|\\le\\left \\| A \\right \\|\\cdot\\left \\| B \\right \\|\n",
    "$$"
   ]
  },
  {
   "cell_type": "markdown",
   "metadata": {},
   "source": [
    "### 4. $\\left \\| QAZ \\right \\|=\\left \\| A \\right \\|$ ,   当Q和Z是正交阵和酉阵时，对Frobenius范数及由$\\left \\| \\cdot  \\right \\|_2$导出的算子范数成立 ."
   ]
  },
  {
   "cell_type": "markdown",
   "metadata": {},
   "source": [
    "### 证明    首先证明$\\forall A \\in C^{m\\times n}$成立\n",
    "$$\\left \\| A \\right \\|_F^2 = tr(A^HA) = tr(AA^H)\n",
    "$$"
   ]
  },
  {
   "cell_type": "markdown",
   "metadata": {},
   "source": [
    "### 事实上 $A^HA$的$i$行$i$列的元素为\n",
    "$$\\sum_{k=1}^m \\overline{a_{ki}}a_{ki} = \\sum_{k=1}^m\\left|a_{ki}\\right|^2\n",
    "$$"
   ]
  },
  {
   "cell_type": "markdown",
   "metadata": {},
   "source": [
    "### 因此\n",
    "$$tr(A^HA) = \\sum_{i=1}^n\\sum_{k=1}^m\\left|a_{ki}\\right|^2 = \\left \\| A \\right \\|_F^2\n",
    "$$"
   ]
  },
  {
   "cell_type": "markdown",
   "metadata": {},
   "source": [
    "### 于是\n",
    "$$\\left \\| A \\right \\|_F^2 = \\left \\| A^H \\right \\|_F^2 = tr((A^H)^HA^H) = tr(AA^H)\n",
    "$$"
   ]
  },
  {
   "cell_type": "markdown",
   "metadata": {},
   "source": [
    "### 下证   当Q和Z是酉阵时（正交阵同理可证），对Frobenius范数满足\n",
    "$$\\left \\| QAZ \\right \\|_F=\\left \\| A \\right \\|_F\n",
    "$$"
   ]
  },
  {
   "cell_type": "markdown",
   "metadata": {},
   "source": [
    "### 因为\n",
    "$$\\left \\| QAZ \\right \\|_F^2 = tr((QAZ)^H(QAZ)) = tr(Z^HA^HQ^HQAZ) = tr(Z^HA^HAZ) = tr(A^HA) = \\left \\| A \\right \\|_F^2\n",
    "$$"
   ]
  },
  {
   "cell_type": "markdown",
   "metadata": {},
   "source": [
    "### 故\n",
    "$$\\left \\| QAZ \\right \\|_F=\\left \\| A \\right \\|_F\n",
    "$$"
   ]
  },
  {
   "cell_type": "markdown",
   "metadata": {},
   "source": [
    "### 证明   当Q和Z是酉阵时（正交阵同理可证），对由$\\left \\| \\cdot  \\right \\|_2$导出的算子范数成立\n",
    "$$\\left \\| QAZ \\right \\|_2=\\left \\| A \\right \\|_2\n",
    "$$\n"
   ]
  },
  {
   "cell_type": "markdown",
   "metadata": {},
   "source": [
    "### 因为\n",
    "$$\\left \\| QAZ \\right \\|_2 = \\sqrt{\\lambda_{max}((QAZ)^H(QAZ))} =\\sqrt{\\lambda_{max}(Z^HA^HQ^HQAZ)} = \\sqrt{\\lambda_{max}(Z^HA^HAZ)} = \\sqrt{\\lambda_{max}(A^HA)} = \\left \\| A \\right \\|_2\n",
    "$$"
   ]
  },
  {
   "cell_type": "markdown",
   "metadata": {},
   "source": [
    "### 故\n",
    "$$\\left \\| QAZ \\right \\|_2=\\left \\| A \\right \\|_2\n",
    "$$"
   ]
  },
  {
   "cell_type": "markdown",
   "metadata": {},
   "source": [
    "### 6.$\\left \\| A \\right \\|_1\\equiv\\max_{x\\neq0}\\frac{\\left \\| Ax \\right \\|_1}{\\left \\| x \\right \\|_1} = \\left \\| A^T \\right \\|_\\infty = \\max_j\\sum_i\\left|a_{ij}\\right|$ = 最大的绝对值列和"
   ]
  },
  {
   "cell_type": "markdown",
   "metadata": {},
   "source": [
    "### 证明 设$x=(x_1,x_2,\\cdots,x_n)^T\\neq 0,$ 不妨设$A\\neq 0.$ 记$t=max\\left|x_i\\right|, \\qquad \\mu =  \\max_j\\sum_i\\left|a_{ij}\\right|$,  则"
   ]
  },
  {
   "cell_type": "markdown",
   "metadata": {},
   "source": [
    "$$\\left \\| A \\right \\|_1 = \\max_j\\left|\\sum_ia_{ij}x_j\\right|\\le \\max_j\\sum_i\\left|a_{ij}\\right|\\left|x_j\\right| \\le t\\max_j\\sum_i\\left|a_{ij}\\right|\n",
    "$$\n",
    "### 这说明，对于任何非零$x$,有\n",
    "$$\\frac{\\left \\| Ax \\right \\|_1}{\\left \\| x \\right \\|_1}\\le\\mu\n",
    "$$"
   ]
  },
  {
   "cell_type": "markdown",
   "metadata": {},
   "source": [
    "### 下面说明有一向量$x_0\\neq0$, 使$\\frac{\\left \\| Ax \\right \\|_1}{\\left \\| x \\right \\|_1} = \\mu$.  设$\\mu = \\sum_i\\left|a_{ij_0}\\right|$,取向量"
   ]
  },
  {
   "cell_type": "markdown",
   "metadata": {},
   "source": [
    "### $$x_0=(x_1,x_2,\\cdots,x_n)^T\n",
    "$$\n",
    "### 其中$$x_i = sgn(a_{ij_0}) \\qquad (i = 1,2,\\cdots,n)\n",
    "$$\n",
    "### 显然$\\left \\| x_0 \\right \\|_1 = 1$,$\\qquad$且$Ax_0$的第$j_0$个分量为$\\sum_ia_{ij_0}x_i = \\sum_i\\left|a_{ij_0}\\right|$,这说明"
   ]
  },
  {
   "cell_type": "markdown",
   "metadata": {},
   "source": [
    "### $$\\left \\| Ax_0 \\right \\|_1 =  \\max_j\\sum_i\\left|a_{ij}x_i\\right| = \\sum_i\\left|a_{ij_0}\\right| = \\mu\n",
    " $$"
   ]
  },
  {
   "cell_type": "markdown",
   "metadata": {},
   "source": [
    "### 故$$\\left \\| A \\right \\|_1\\equiv\\max_{x\\neq0}\\frac{\\left \\| Ax \\right \\|_1}{\\left \\| x \\right \\|_1} = \\left \\| A^T \\right \\|_\\infty = \\max_j\\sum_i\\left|a_{ij}\\right| = 最大的绝对值列和\n",
    "$$"
   ]
  },
  {
   "cell_type": "markdown",
   "metadata": {},
   "source": [
    "### 8.$\\left \\| A \\right \\|_2 = \\left \\| A^T \\right \\|_2$"
   ]
  },
  {
   "cell_type": "markdown",
   "metadata": {},
   "source": [
    "### 证明 首先证明$\\qquad$若 A 和 B都是$n\\times n$阶矩阵，则AB和BA有相同的特征值"
   ]
  },
  {
   "cell_type": "markdown",
   "metadata": {},
   "source": [
    "### $\\quad$设$\\lambda$是AB的一个特征值，$X$是对应于$\\lambda$的一个特征向量.则$$\\quad(AB)X = \\lambda X\\quad \\quad$$等式两边左乘B.$\\quad$得到\n",
    "### $$BA(BX) = \\lambda(BX)\n",
    "$$"
   ]
  },
  {
   "cell_type": "markdown",
   "metadata": {},
   "source": [
    "### 当$BX = 0$时，$\\lambda X = A(BX) = 0$,而$X\\neq 0$,则$\\lambda = 0$,于是\n",
    "### $$\\left| AB -0E \\right| = \\left| AB \\right| = \\left| BA \\right| = \\left| BA -0E \\right| = 0\n",
    "$$\n",
    "### 所以$\\lambda = 0$ 是BA的特征值"
   ]
  },
  {
   "cell_type": "markdown",
   "metadata": {},
   "source": [
    "### 当$BX \\neq 0$时，由定义有非零向量$BX$就是$BA$对应于特征值$\\lambda$的特征向量，所以$\\lambda$也是$BA$的特征值\n",
    "\n"
   ]
  },
  {
   "cell_type": "markdown",
   "metadata": {},
   "source": [
    "### 故$$\\left \\| A \\right \\|_2 = \\sqrt{\\lambda_{max}(A^TA)} =\\sqrt{\\lambda_{max}(AA^T)} = \\left \\| A^T\\right \\|_2\n",
    "$$"
   ]
  },
  {
   "cell_type": "markdown",
   "metadata": {},
   "source": [
    "### 10.$若 A 是$$n\\times n$阶矩阵，$\\quad$则$n^{-1/2}\\left \\| A \\right \\|_2 \\le\\left \\| A \\right \\|_1\\le n^{1/2}\\left \\| A \\right \\|_2$."
   ]
  },
  {
   "cell_type": "markdown",
   "metadata": {},
   "source": [
    "### 证明 首先，设 $\\lambda_1,\\lambda_2,\\cdots,\\lambda_n$ 是矩阵 $A^TA$ 的特征值。"
   ]
  },
  {
   "cell_type": "markdown",
   "metadata": {},
   "source": [
    "### 对于左边的不等式$$\\left \\| A \\right \\|_2^2 = \\lambda_{max}(A^TA) \\le \\lambda_1 + \\lambda_2 + \\cdots + \\lambda_n = tr(A^TA) = \\sum_i\\left| a_{i1} \\right|^2 + \\sum_i\\left| a_{i2} \\right|^2 + \\cdots + \\sum_i\\left| a_{in} \\right|^2 = \\sum_j\\sum_i\\left| a_{ij} \\right|^2 = \\sum_i\\sum_j\\left| a_{ij} \\right|^2 = \\sum_j\\left| a_{1j} \\right|^2 + \\sum_j\\left| a_{2j} \\right|^2 + \\cdots + \\sum_j\\left| a_{nj} \\right|^2 \\le n \\max_j\\left(\\sum_i\\left| a_{ij}\\right)| \\right)^2 = n\\left \\| A \\right \\|_1^2\n",
    "$$"
   ]
  },
  {
   "cell_type": "markdown",
   "metadata": {},
   "source": [
    "### 所以$$n^{-1/2}\\left \\| A \\right \\|_2 \\le\\left \\| A \\right \\|_1\n",
    "$$"
   ]
  },
  {
   "cell_type": "markdown",
   "metadata": {},
   "source": [
    "### 对于右边的不等式$$\\left \\| A \\right \\|_1^2 = \\max_j\\left(\\sum_i\\left| a_{ij}\\right|\\right)^2 \\le \\sum_j\\left| a_{1j} \\right|^2 + \\sum_j\\left| a_{2j} \\right|^2 + \\cdots + \\sum_j\\left| a_{nj} \\right|^2 = \\sum_i\\sum_j\\left| a_{ij} \\right|^2 = \\sum_j\\sum_i\\left| a_{ij} \\right|^2 = \\sum_i\\left| a_{i1} \\right|^2 + \\sum_i\\left| a_{i2} \\right|^2 + \\cdots + \\sum_i\\left| a_{in} \\right|^2 = tr(A^TA) = \\lambda_1 + \\lambda_2 + \\cdots + \\lambda_n \\le n\\lambda_{max}(A^TA) = n\\left \\| A \\right \\|_2^2\n",
    "$$ "
   ]
  },
  {
   "cell_type": "markdown",
   "metadata": {},
   "source": [
    "### 所以$$\\left \\| A \\right \\|_1\\le n^{1/2}\\left \\| A \\right \\|_2\n",
    "$$"
   ]
  },
  {
   "cell_type": "markdown",
   "metadata": {},
   "source": [
    "### 故$$n^{-1/2}\\left \\| A \\right \\|_2 \\le\\left \\| A \\right \\|_1\\le n^{1/2}\\left \\| A \\right \\|_2\n",
    "$$"
   ]
  },
  {
   "cell_type": "markdown",
   "metadata": {},
   "source": [
    "### 12.$若 A 是$$n\\times n$阶矩阵，$\\quad$则$n^{-1}\\left \\| A \\right \\|_\\infty \\le\\left \\| A \\right \\|_1\\le n\\left \\| A \\right \\|_\\infty$."
   ]
  },
  {
   "cell_type": "markdown",
   "metadata": {},
   "source": [
    "### 证明\n",
    "### 对于右边的不等式$$\\left \\| A \\right \\|_1 = \\max_j\\sum_i\\left| a_{ij} \\right| \\le \\sum_i\\left| a_{i1} \\right| + \\sum_i\\left| a_{i2} \\right| + \\cdots + \\sum_i\\left| a_{in} \\right| = \\sum_j\\sum_i\\left| a_{ij} \\right| = \\sum_i\\sum_j\\left| a_{ij} \\right| = \\sum_j\\left| a_{1j} \\right| + \\sum_j\\left| a_{2j} \\right| + \\cdots + \\sum_j\\left| a_{nj} \\right| \\le n \\max_i\\sum_j\\left| a_{ij}\\right| =  n\\left \\| A \\right \\|_\\infty\n",
    "$$"
   ]
  },
  {
   "cell_type": "markdown",
   "metadata": {},
   "source": [
    "### 对于左边的不等式$$\\left \\| A \\right \\|_\\infty = \\max_i\\sum_j\\left| a_{ij}\\right| \\le \\sum_j\\left| a_{1j} \\right| + \\sum_j\\left| a_{2j} \\right| + \\cdots + \\sum_j\\left| a_{nj} \\right| = \\sum_i\\sum_j\\left| a_{ij} \\right| = \\sum_j\\sum_i\\left| a_{ij} \\right| = \\sum_i\\left| a_{i1} \\right| + \\sum_i\\left| a_{i2} \\right| + \\cdots + \\sum_i\\left| a_{in} \\right|\\le n \\max_j\\sum_i\\left| a_{ij}\\right| = n\\left \\| A \\right \\|_1\n",
    "$$ \n",
    "### 所以$$n^{-1}\\left \\| A \\right \\|_\\infty \\le\\left \\| A \\right \\|_1\n",
    "$$"
   ]
  },
  {
   "cell_type": "markdown",
   "metadata": {},
   "source": [
    "### 故$$n^{-1}\\left \\| A \\right \\|_\\infty \\le\\left \\| A \\right \\|_1\\le n\\left \\| A \\right \\|_\\infty\n",
    "$$"
   ]
  },
  {
   "cell_type": "code",
   "execution_count": null,
   "metadata": {
    "collapsed": true
   },
   "outputs": [],
   "source": []
  },
  {
   "cell_type": "code",
   "execution_count": null,
   "metadata": {
    "collapsed": true
   },
   "outputs": [],
   "source": []
  },
  {
   "cell_type": "code",
   "execution_count": null,
   "metadata": {
    "collapsed": true
   },
   "outputs": [],
   "source": []
  },
  {
   "cell_type": "code",
   "execution_count": null,
   "metadata": {
    "collapsed": true
   },
   "outputs": [],
   "source": []
  },
  {
   "cell_type": "code",
   "execution_count": null,
   "metadata": {
    "collapsed": true
   },
   "outputs": [],
   "source": []
  },
  {
   "cell_type": "code",
   "execution_count": null,
   "metadata": {
    "collapsed": true
   },
   "outputs": [],
   "source": []
  },
  {
   "cell_type": "code",
   "execution_count": null,
   "metadata": {
    "collapsed": true
   },
   "outputs": [],
   "source": []
  },
  {
   "cell_type": "code",
   "execution_count": null,
   "metadata": {
    "collapsed": true
   },
   "outputs": [],
   "source": []
  },
  {
   "cell_type": "code",
   "execution_count": null,
   "metadata": {
    "collapsed": true
   },
   "outputs": [],
   "source": []
  },
  {
   "cell_type": "code",
   "execution_count": null,
   "metadata": {
    "collapsed": true
   },
   "outputs": [],
   "source": []
  },
  {
   "cell_type": "code",
   "execution_count": null,
   "metadata": {
    "collapsed": true
   },
   "outputs": [],
   "source": []
  },
  {
   "cell_type": "code",
   "execution_count": null,
   "metadata": {
    "collapsed": true
   },
   "outputs": [],
   "source": []
  }
 ],
 "metadata": {
  "kernelspec": {
   "display_name": "Python 3",
   "language": "python",
   "name": "python3"
  },
  "language_info": {
   "codemirror_mode": {
    "name": "ipython",
    "version": 3
   },
   "file_extension": ".py",
   "mimetype": "text/x-python",
   "name": "python",
   "nbconvert_exporter": "python",
   "pygments_lexer": "ipython3",
   "version": "3.6.1"
  }
 },
 "nbformat": 4,
 "nbformat_minor": 2
}
