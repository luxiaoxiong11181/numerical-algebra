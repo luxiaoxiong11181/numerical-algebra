{
 "cells": [
  {
   "cell_type": "markdown",
   "metadata": {},
   "source": [
    "1 \n",
    " $$\n",
    " \\quad\n",
    " $$证明：\n",
    " $$\n",
    " \\quad\n",
    " $$\n",
    " 由 $\\lVert A\\rVert = \\max\\limits_{x\\neq0}\\frac{\\lVert Ax\\rVert}{\\lVert x\\rVert}$ \n",
    " $$\n",
    " \\quad\n",
    " $$\n",
    " $\\Rightarrow$ 当 $x\\neq0$ 时，$\\frac{\\lVert Ax\\rVert}{\\lVert x\\rVert}\\leq\\lVert A\\rVert$\n",
    " $$\n",
    " \\quad\n",
    " $$\n",
    " $\\Rightarrow \\lVert Ax\\rVert\\leq\\lVert A\\rVert\\lVert x\\rVert$\n",
    " $$\n",
    " \\quad\n",
    " $$\n",
    "而且，在这种 $x = 0$ 情况下，\n",
    " $$\n",
    " \\lVert Ax\\rVert\\leq\\lVert A\\rVert\\lVert x\\rVert\n",
    " $$\n",
    " 显然成立"
   ]
  },
  {
   "cell_type": "markdown",
   "metadata": {},
   "source": [
    " 2 $$\n",
    " \\quad\n",
    " $$\n",
    " 证明：\n",
    " $$\n",
    " \\quad\n",
    " $$由 $\\lVert A\\rVert = \\max\\limits_{x\\neq0}\\frac{\\lVert Ax\\rVert}{\\lVert x\\rVert}$ 可以得到 $\\lVert Ax\\rVert\\leq\\lVert A\\rVert\\lVert x\\rVert$\n",
    "$$\n",
    "\\quad\n",
    "$$\n",
    "由相容性条件 $\\lVert Ax\\rVert\\leq\\lVert A\\rVert\\lVert x\\rVert$ ,由\n",
    "$$\n",
    "\\lVert ABx\\rVert\\leq\\lVert A\\rVert\\lVert Bx\\rVert\\leq\\lVert A\\rVert\\lVert B\\rVert\\lVert x\\rVert\n",
    "$$\n",
    "在 $x\\neq0$ 成立时，有下列情况\n",
    "$$\n",
    "\\frac{\\lVert ABx\\rVert}{\\lVert x\\rVert}\\leq\\lVert A\\rVert\\lVert B\\rVert\n",
    "$$\n",
    "因此\n",
    "$$\n",
    "\\lVert AB\\rVert = \\max\\limits\\frac{\\lVert ABx\\rVert}{\\lVert x\\rVert}\\leq\\lVert A\\rVert\\lVert B\\rVert\n",
    "$$"
   ]
  },
  {
   "cell_type": "markdown",
   "metadata": {},
   "source": [
    " 3 \n",
    "$$\n",
    "\\quad\n",
    "$$\n",
    "证明： $\\quad$ 取 $x = (1, 0, 1)^T$ ，$A = \\begin{bmatrix}\n",
    "1 & 0 & 1 \\\\\n",
    "0 & \\frac{3}{2} & 0 \\\\\n",
    "0 & 1 &0\n",
    "\\end{bmatrix}$ ,\n",
    "$ Ax = \\begin{bmatrix}\n",
    "2 \\\\\n",
    "0 \\\\\n",
    "0 \n",
    "\\end{bmatrix}$ , 其中\n",
    "$$\n",
    "\\lVert x\\rVert_{max} = 1\n",
    "$$\n",
    "\n",
    "$$\n",
    "\\quad\\lVert A\\rVert_{max} = \\frac{3}{2}\\\\\n",
    "$$\n",
    "$$\n",
    "\\lVert A\\rVert_{max} = max_{x\\neq0}\\frac{\\lVert Ax\\rVert_{max}}{\\lVert x\\rVert_{max}} = max_{x\\neq0}\\lVert Ax\\rVert_{max} = 2\n",
    "$$"
   ]
  },
  {
   "cell_type": "markdown",
   "metadata": {},
   "source": [
    "4\n",
    "证明 首先证明$\\forall A \\in C^{m\\times n}$成立\n",
    "$$\\left \\| A \\right \\|_F^2 = tr(A^HA) = tr(AA^H)\n",
    "$$\n",
    "事实上 $A^HA$的$i$行$i$列的元素为\n",
    "$$\\sum_{k=1}^m \\overline{a_{ki}}a_{ki} = \\sum_{k=1}^m\\left|a_{ki}\\right|^2\n",
    "$$\n",
    "因此\n",
    "$$tr(A^HA) = \\sum_{i=1}^n\\sum_{k=1}^m\\left|a_{ki}\\right|^2 = \\left \\| A \\right \\|_F^2\n",
    "$$于是\n",
    "$$\\left \\| A \\right \\|_F^2 = \\left \\| A^H \\right \\|_F^2 = tr((A^H)^HA^H) = tr(AA^H)\n",
    "$$下证 当Q和Z是酉阵时（正交阵同理可证），对Frobenius范数满足\n",
    "$$\\left \\| QAZ \\right \\|_F=\\left \\| A \\right \\|_F\n",
    "$$因为\n",
    "$$\\left \\| QAZ \\right \\|_F^2 = tr((QAZ)^H(QAZ)) = tr(Z^HA^HQ^HQAZ) = tr(Z^HA^HAZ) = tr(A^HA) = \\left \\| A \\right \\|_F^2\n",
    "$$故\n",
    "$$\\left \\| QAZ \\right \\|_F=\\left \\| A \\right \\|_F\n",
    "$$"
   ]
  },
  {
   "cell_type": "markdown",
   "metadata": {},
   "source": [
    "5 \n",
    "$$\n",
    "\\quad\n",
    "$$\n",
    "证明：$\\quad$ 设 $x = (x_1,x_2,\\cdots,x_n)^T\\neq0$ ,不妨设 $A\\neq0$ .记\n",
    "$$\n",
    "t = \\lVert x\\rVert_\\infty = \\max\\limits_{1\\leq i\\leq n}|x_i|,\\quad\\mu = \\max\\limits_{1\\leq i\\leq n}\\sum_{j = 1}^n|a_ij|\n",
    "$$则\n",
    "$$\n",
    "\\lVert Ax\\rVert_\\infty = \\max\\limits_{1\\leq i\\leq n}|\\sum_{j = 1}^na_{ij}x_j\\;|\\leq \\max\\limits_{1\\leq i\\leq n}\\sum_{j = 1}^n|a_ij||x_j|\\leq t \\max_i\\sum_{j = 1}^n|a_{ij}|\n",
    "$$这就说明对任意的非零 $x\\in R^n$ ,有\n",
    "$$\n",
    "\\frac{\\lVert Ax\\rVert_\\infty}{\\lVert x\\rVert_\\infty}\\leq\\mu\n",
    "$$\n",
    "下面来说明有一向量 $x_0\\neq0$ ,使 $\\frac{\\lVert Ax\\rVert_\\infty}{\\lVert x\\rVert_\\infty}  = \\mu$ .设 $\\mu = \\sum_{j = 1}^n|a_{i_0j}|$ ,取向量 $x = (x_1,x_2,\\cdots,x_n)^T$ ,其中 $x_j = sgn(a_{i_0j})(j = 1, 2, \\cdots, n)$ .\n",
    "$$\n",
    "\\quad\n",
    "$$\n",
    "显然 $\\lVert x_0\\rVert_\\infty = 1$ ,且 $Ax_0$ 的第 $i_0$ 个分量为 $\\sum_{i = 1}^na_{i_0j}x_j = \\sum_{j = 1}^n |a_{i_0j}|$ ,这说明\n",
    "$$\n",
    "\\lVert Ax_0\\rVert_\\infty = \\max_{1\\leq i\\leq n}|\\sum_{j = 1}^na_{ij}x_j\\;| = \\sum_{j = 1}^n|a_{i_0j}| = \\mu\n",
    "$$"
   ]
  },
  {
   "cell_type": "markdown",
   "metadata": {},
   "source": [
    "6\n",
    "\n",
    "证明 设$x=(x_1,x_2,\\cdots,x_n)^T\\neq 0,$ 不妨设$A\\neq 0.$ 记$t=max\\left|x_i\\right|, \\qquad \\mu =  \\max_j\\sum_i\\left|a_{ij}\\right|$,  则\n",
    "$$\\left \\| A \\right \\|_1 = \\max_j\\left|\\sum_ia_{ij}x_j\\right|\\le \\max_j\\sum_i\\left|a_{ij}\\right|\\left|x_j\\right| \\le t\\max_j\\sum_i\\left|a_{ij}\\right|\n",
    "$$这说明，对于任何非零$x$,有\n",
    "$$\\frac{\\left \\| Ax \\right \\|_1}{\\left \\| x \\right \\|_1}\\le\\mu\n",
    "$$ $$x_0=(x_1,x_2,\\cdots,x_n)^T$$其中$$x_i = sgn(a_{ij_0}) \\qquad (i = 1,2,\\cdots,n)\n",
    "$$显然$\\left \\| x_0 \\right \\|_1 = 1$,$\\qquad$且$Ax_0$的第$j_0$个分量为$\\sum_ia_{ij_0}x_i = \\sum_i\\left|a_{ij_0}\\right|$,这说明\n",
    "$$\\left \\| Ax_0 \\right \\|_1 =  \\max_j\\sum_i\\left|a_{ij}x_i\\right| = \\sum_i\\left|a_{ij_0}\\right| = \\mu\n",
    "$$ 故$$\\left \\| A \\right \\|_1\\equiv\\max_{x\\neq0}\\frac{\\left \\| Ax \\right \\|_1}{\\left \\| x \\right \\|_1} = \\left \\| A^T \\right \\|_\\infty = \\max_j\\sum_i\\left|a_{ij}\\right| = 最大的绝对值列和\n",
    "$$"
   ]
  },
  {
   "cell_type": "markdown",
   "metadata": {},
   "source": [
    "8\n",
    "\n",
    "证明 首先证明$\\qquad$若 A 和 B都是$n\\times n$阶矩阵，则AB和BA有相同的特征值\n",
    "$\\quad$设$\\lambda$是AB的一个特征值，$X$是对应于$\\lambda$的一个特征向量.则$$\\quad(AB)X = \\lambda X\\quad \\quad$$等式两边左乘B.$\\quad$得到$$BA(BX) = \\lambda(BX)\n",
    "$$当$BX = 0$时，$\\lambda X = A(BX) = 0$,而$X\\neq 0$,则$\\lambda = 0$,于是\n",
    " $$\\left| AB -0E \\right| = \\left| AB \\right| = \\left| BA \\right| = \\left| BA -0E \\right| = 0\n",
    "$$\n",
    "所以$\\lambda = 0$ 是BA的特征值\n",
    "当$BX \\neq 0$时，由定义有非零向量$BX$就是$BA$对应于特征值$\\lambda$的特征向量，所以$\\lambda$也是$BA$的特征值\n",
    "$$\\left \\| A \\right \\|_2 = \\sqrt{\\lambda_{max}(A^TA)} =\\sqrt{\\lambda_{max}(AA^T)} = \\left \\| A^T\\right \\|_2\n",
    "$$"
   ]
  },
  {
   "cell_type": "markdown",
   "metadata": {},
   "source": [
    " 9 \n",
    "\n",
    "证明： $A$ 是正规阵，必然存在酉阵 $Q$ 满足 $Q^\\prime *A*Q = D$ , $D$ 为对角阵且对角线的元素都是 $A$ 的特征值。记 $D = diag{{\\lambda_1, \\lambda_2, \\cdots, \\lambda_n}}$ 满足 $|\\lambda_1|\\geq|\\lambda_2|\\geq\\cdots\\geq|\\lambda_n|$ ，则 $|\\lambda_1|$ 为 $A$ 的最大的特征值。\n",
    "$$\n",
    "\\quad\n",
    "$$ \n",
    "令 $x_1$为 $\\lambda_1$ 对应的右特征向量，满足 $A*x_1 = \\lambda_1*x_1$ ,必然有： $\\frac{{\\lVert A*x_1\\rVert}_2}{{\\lVert x_1\\rVert}_2} = |\\lambda_1|{\\geq\\lVert A\\rVert}_2$ \n",
    "$$\n",
    "\\quad\n",
    "$$\n",
    "令 $y_1$ 为 $\\lVert A\\rVert_2$ 对应的单位向量，即： $\\lVert y_1\\rVert_2 = 1$ 且 $\\lVert A\\rVert_1 = \\lVert A*y_1\\rVert_2$ . $y_1$可以被 $Q$ 线性表出为 $y_1 = Q*z_1$ ,且 $z_1$ 也为单位向量。那么不难得出：\n",
    "$$\n",
    "\\lVert A\\rVert_2 = \\lVert A*y_1\\rVert_2 = \\lVert A*Q*z_1\\rVert_2 = \\lVert Q*z_1\\rVert_2 \\leq|\\lambda_1|\n",
    "$$\n",
    "即： $\\lVert A\\rVert_2 = \\max\\limits_i|\\lambda_i(A)|$\n"
   ]
  },
  {
   "cell_type": "markdown",
   "metadata": {},
   "source": [
    "10\n",
    "\n",
    "证明：\n",
    "$$n^{-1/2}\\left \\| A \\right \\|_2 \\le\\left \\| A \\right \\|_1\n",
    "$$\n",
    "对于右边的不等式$$\\left \\| A \\right \\|_1^2 = \\max_j\\left(\\sum_i\\left| a_{ij}\\right|\\right)^2 \\le \\sum_j\\left| a_{1j} \\right|^2 + \\sum_j\\left| a_{2j} \\right|^2 + \\cdots + \\sum_j\\left| a_{nj} \\right|^2 = \\sum_i\\sum_j\\left| a_{ij} \\right|^2 = \\sum_j\\sum_i\\left| a_{ij} \\right|^2 = \\sum_i\\left| a_{i1} \\right|^2 + \\sum_i\\left| a_{i2} \\right|^2 + \\cdots + \\sum_i\\left| a_{in} \\right|^2 = tr(A^TA) = \\lambda_1 + \\lambda_2 + \\cdots + \\lambda_n \\le n\\lambda_{max}(A^TA) = n\\left \\| A \\right \\|_2^2\n",
    "$$ \n",
    "所以$$\\left \\| A \\right \\|_1\\le n^{1/2}\\left \\| A \\right \\|_2\n",
    "$$\n",
    "故$$n^{-1/2}\\left \\| A \\right \\|_2 \\le\\left \\| A \\right \\|_1\\le n^{1/2}\\left \\| A \\right \\|_2\n",
    "$$"
   ]
  },
  {
   "cell_type": "markdown",
   "metadata": {},
   "source": [
    "11\n",
    "\n",
    "$$\n",
    "\\quad\n",
    "$$\n",
    "证明 : $\\quad$首先，定义 $\\lambda_1,\\lambda_2,\\cdots,\\lambda_n$ 是矩阵 $A^TA$ 的特征值。\n",
    "$$\n",
    "\\quad\n",
    "$$\n",
    "对于左边的不等式，有\n",
    "$$\n",
    "\\lVert A\\rVert_2^2 = \\max_{1\\leq i\\leq n}\\lambda_i(A^TA)\\leq \\lambda_1(A^TA) + \\lambda_2(A^TA) + \\cdots + \\lambda_n(A^TA) \\\\= tr(A^TA) = \\sum_{i=1}^n|a_{i1}|^2 +\\sum_{i=1}^n|a_{i2}|^2 + \\cdots +\\sum_{i=1}^n|a_{in}|^2   \\\\ =\\sum_{i=1}^n\\sum_{j=1}^n|a_{ij}|^2 = \\sum_{j=1}^n|a_{1j}|^2 +\\sum_{j=1}^n|a_{2j}|^2 + \\cdots +\\sum_{j=1}^n|a_{nj}|^2 \\\\\\leq n \\max\\limits_j \\left( \\sum_{i = 1}^n |a_{ij}| \\right)^2 = n\\lVert A\\rVert_\\infty^2\n",
    "$$\n",
    "即： $n^{\\frac{-1}{2}}\\lVert A\\rVert_2 \\leq \\lVert A\\rVert_\\infty$\n",
    "对于右边的不等式，我们有\n",
    "$$\n",
    "\\lVert A\\rVert_\\infty^2 =  \\max\\limits_j \\left( \\sum_{i = 1}^n |a_{ij}| \\right) ^2 \\leq\\sum_{j=1}^n|a_{1j}|^2 +\\sum_{j=1}^n|a_{2j}|^2 + \\cdots +\\sum_{j=1}^n|a_{nj}|^2 \\\\=\\sum_{j=1}^n\\sum_{i=1}^n|a_{ij}|^2 = \\sum_{i=1}^n|a_{i1}|^2 +\\sum_{i=1}^n|a_{i2}|^2 + \\cdots +\\sum_{i=1}^n|a_{in}|^2 \\\\ = tr(A^TA) = \\lambda_1(A^TA) + \\lambda_2(A^TA) + \\cdots + \\lambda_n(A^TA)\\\\ \\leq n \\max_{1\\leq i\\leq n}\\lambda_i(A^TA) = n\\lVert A\\rVert_2^2\n",
    "$$\n",
    "即： $\\lVert A\\rVert_\\infty \\leq n^{\\frac{1}{2}}\\lVert A\\rVert_2$\n",
    "故\n",
    "$$\n",
    "n^{\\frac{-1}{2}}\\lVert A\\rVert_2 \\leq\\lVert A\\rVert_\\infty \\leq n^{\\frac{1}{2}}\\lVert A\\rVert_2\n",
    "$$"
   ]
  },
  {
   "cell_type": "markdown",
   "metadata": {},
   "source": [
    "12\n",
    "\n",
    "证明：\n",
    "\n",
    "对于右边的不等式$$\\left \\| A \\right \\|_1 = \\max_j\\sum_i\\left| a_{ij} \\right| \\le \\sum_i\\left| a_{i1} \\right| + \\sum_i\\left| a_{i2} \\right| + \\cdots + \\sum_i\\left| a_{in} \\right| = \\sum_j\\sum_i\\left| a_{ij} \\right| = \\sum_i\\sum_j\\left| a_{ij} \\right| = \\sum_j\\left| a_{1j} \\right| + \\sum_j\\left| a_{2j} \\right| + \\cdots + \\sum_j\\left| a_{nj} \\right| \\le n \\max_i\\sum_j\\left| a_{ij}\\right| =  n\\left \\| A \\right \\|_\\infty\n",
    "$$\n",
    "对于左边的不等式$$\\left \\| A \\right \\|_\\infty = \\max_i\\sum_j\\left| a_{ij}\\right| \\le \\sum_j\\left| a_{1j} \\right| + \\sum_j\\left| a_{2j} \\right| + \\cdots + \\sum_j\\left| a_{nj} \\right| = \\sum_i\\sum_j\\left| a_{ij} \\right| = \\sum_j\\sum_i\\left| a_{ij} \\right| = \\sum_i\\left| a_{i1} \\right| + \\sum_i\\left| a_{i2} \\right| + \\cdots + \\sum_i\\left| a_{in} \\right|\\le n \\max_j\\sum_i\\left| a_{ij}\\right| = n\\left \\| A \\right \\|_1\n",
    "$$ \n",
    " 所以$$n^{-1}\\left \\| A \\right \\|_\\infty \\le\\left \\| A \\right \\|_1\n",
    "$$\n",
    " 故$$n^{-1}\\left \\| A \\right \\|_\\infty \\le\\left \\| A \\right \\|_1\\le n\\left \\| A \\right \\|_\\infty\n",
    "$$"
   ]
  },
  {
   "cell_type": "markdown",
   "metadata": {},
   "source": [
    "13\n",
    "$$\n",
    "\\quad\n",
    "$$\n",
    "证明：$\\quad$有定义可以知道 \n",
    "$$\n",
    "\\lVert A\\rVert_1^2 = \\max\\limits_i\\sum_{j = 1}^n |a_{ij}|\n",
    "$$\n",
    "因此\n",
    "$$\n",
    "\\lVert A\\rVert_1^2 = \\max\\limits_i\\sum_{j = 1}^n |a_{ij}|\\leq\\sum_{i=1}^n|a_{i1}|^2 +\\sum_{i=1}^n|a_{i2}|^2 + \\cdots +\\sum_{i=1}^n|a_{in}|^2 = \\sum_{i = 1}^n\\sum_{j = 1}^n|a_{ij}|^2 = \\lVert A\\rVert_F^2\n",
    "$$\n",
    "即： $\\lVert A\\rVert_1 \\leq\\lVert A\\rVert_F$\n",
    "$$\n",
    "\\quad\n",
    "$$\n",
    "对于右边的不等式，定义 $\\lambda_1,\\lambda_2,\\cdots,\\lambda_n$ 是矩阵 $A$ 的特征值，那么有\n",
    "$$\n",
    "\\lVert A\\rVert_F^2 =  \\sum_{i = 1}^n\\sum_{j = 1}^n|a_{ij}|^2 = \\sum_{i=1}^n|a_{i1}|^2 +\\sum_{i=1}^n|a_{i2}|^2 + \\cdots +\\sum_{i=1}^n|a_{in}|^2 \\\\ = tr(A^TA) = \\lambda_1(A^TA) + \\lambda_2(A^TA) + \\cdots + \\lambda_n(A^TA)\\\\\\leq n \\max_{1\\leq i\\leq n}\\lambda_i(A^TA) = n\\lVert A\\rVert_2^2\n",
    "$$\n",
    "即： $\\lVert A\\rVert_F \\leq n^{\\frac{1}{2}}\\lVert A\\rVert_2$\n",
    "$$\n",
    "\\quad\n",
    "$$\n",
    "故\n",
    "$$\n",
    "\\lVert A\\rVert_1 \\leq\\lVert A\\rVert_F \\leq n^{\\frac{1}{2}}\\lVert A\\rVert_2\n",
    "$$"
   ]
  },
  {
   "cell_type": "code",
   "execution_count": null,
   "metadata": {
    "collapsed": true
   },
   "outputs": [],
   "source": []
  }
 ],
 "metadata": {
  "kernelspec": {
   "display_name": "Python 3",
   "language": "python",
   "name": "python3"
  },
  "language_info": {
   "codemirror_mode": {
    "name": "ipython",
    "version": 3
   },
   "file_extension": ".py",
   "mimetype": "text/x-python",
   "name": "python",
   "nbconvert_exporter": "python",
   "pygments_lexer": "ipython3",
   "version": "3.6.1"
  }
 },
 "nbformat": 4,
 "nbformat_minor": 2
}
