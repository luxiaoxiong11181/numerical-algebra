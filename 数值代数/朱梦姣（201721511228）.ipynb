{
 "cells": [
  {
   "cell_type": "markdown",
   "metadata": {},
   "source": [
    "1.证明:对一个向量范数$\\left\\|x\\right\\|$及其对应的算子范数$\\left\\|A\\right\\|$，有$\\left\\|A\\right\\|$=$max_{x\\neq0}$$\\frac{\\left\\|Ax\\right\\|}{\\left\\|x\\right\\|}$,所以$\\frac{\\left\\|Ax\\right\\|}{\\left\\|x\\right\\|}$$\\leqslant$$\\left\\|A\\right\\|$，从而$\\left\\|Ax\\right\\|$$\\leqslant$$\\left\\|x\\right\\|$$\\left\\|A\\right\\|$\n"
   ]
  },
  {
   "cell_type": "markdown",
   "metadata": {},
   "source": [
    "2.证明：$\\left\\|(AB)x\\right\\|$=$\\left\\|A(Bx)\\right\\|$$\\leqslant$$\\left\\|A\\right\\|$$\\left\\|Bx\\right\\|$$\\leqslant$$\\left\\|A\\right\\|$$\\left\\|B\\right\\|$$\\left\\|x\\right\\|$,从而$\\frac{\\left\\|(AB)x\\right\\|}{\\left\\|x\\right\\|}$$\\leqslant$$\\left\\|A\\right\\|$$\\left\\|B\\right\\|$,即$max_{x\\neq0}$$\\frac{\\left\\|(AB)x\\right\\|}{\\left\\|x\\right\\|}$$\\leqslant$$\\left\\|A\\right\\|$$\\left\\|B\\right\\|$.故$\\left\\|AB\\right\\|$=$max_{x\\neq0}$$\\frac{\\left\\|(AB)x\\right\\|}{\\left\\|x\\right\\|}$$\\leqslant$$\\left\\|A\\right\\|$$\\left\\|B\\right\\|$,结论成立."
   ]
  },
  {
   "cell_type": "markdown",
   "metadata": {},
   "source": [
    "3.因为最大范数与弗罗贝尼乌斯范数不从属于任意向量范数，所以都不是算子范数。"
   ]
  },
  {
   "cell_type": "markdown",
   "metadata": {},
   "source": [
    "4.证明:$\\left\\|A\\right\\|_F$=$(\\sum\\left|a_{ij}\\right|^2)^{\\frac{1}{2}}$=$\\sqrt{trac(A^TA)}$,所以$(\\left\\|A\\right\\|_F)^2$=$trac(A^TA)$.\n",
    "同理,若Q,Z是正交矩阵，则有$(\\left\\|QAZ\\right\\|_F)^2$=$trac(Z^TA^TQ^TQAZ)$=$trac(Z^TA^TAZ)$=$trac(A^TAZZ^T)$=$trac(A^TA)$=$(\\left\\|A\\right\\|_F)^2$,从而$(\\left\\|QAZ\\right\\|_F)$=$(\\left\\|A\\right\\|_F)$.若Q,Z是酉矩阵，则$A^*A$=I(I为单位矩阵),以同样方法证明。$\\left\\|A\\right\\|_2$=$\\sqrt{\\lambda_{max}(A^*A)}$,所以$(\\left\\|A\\right\\|_2)^2$=$\\lambda_{max}(A^*A)$.\n",
    "则有$(\\left\\|QAZ\\right\\|_2)^2$=$\\lambda_{max}(Z^*A^*Q^*QAZ)$=$\\lambda_{max}(Z^*A^*AZ)$=$\\lambda_{max}(A^*AZZ^*)$=$\\lambda_{max}(A^*A)$=$(\\left\\|A\\right\\|_2)^2$,从而$(\\left\\|QAZ\\right\\|_2)$=$(\\left\\|A\\right\\|_2)$.\n"
   ]
  },
  {
   "cell_type": "markdown",
   "metadata": {},
   "source": [
    "5.证明：设$x=(x_1,x_2,...,x_n)^T\\neq0$,不妨设$A\\neq0$.记t=$\\left\\|x\\right\\|_{\\infty}=max_{1\\leqslant i\\leqslant n}\\left|x_i\\right|$,$u=max_{1\\leqslant i\\leqslant n}\\sum_{j=1}^n\\left|a_{ij}\\right|$,则$\\left\\|Ax\\right\\|_{\\infty}=max_{1\\leqslant i\\leqslant n}\\left|\\sum_{j=1}^na_{ij}x_j\\right|\\leqslant max_i\\sum_{j=1}^n\\left|a_{ij}\\right|\\left|x_j\\right|\\leqslant t max_i\\sum_{j=1}^n\\left|a_{ij}\\right|$.\n",
    "则对任何非零$x\\in R^n$,有\n",
    "$\\frac{\\left\\|Ax\\right\\|_{\\infty}}{$\\left\\|x\\right\\|_{\\infty}}\\leqslant u$.\n",
    "下证有一向量$x_0\\neq0$,使$\\frac{\\left\\|Ax_0\\right\\|_{\\infty}}{\\left\\|x_0\\right\\|_{\\infty}}\\leqslant u$,设$u=\\sum_{j=1}^n\\left|a_{i_0j}\\right|$,取向量$x_0=(x_1,x_2,...,x_n)^T$,其中$x_j=sgn(a_{i_0j})(j=1,2,...,n)$.显然$\\left\\|x_0\\right\\|_{\\infty}=1$,且$Ax_0的第i_0个分量为\\sum_{i=1}^n\\left|a_{i_0j}x_j\\right|$,这说明\n",
    "$\\left\\|Ax_0\\right\\|_{\\infty}=max_{1\\leqslant i\\leqslant n}\\left|\\sum_{j=1}^na_{ij}x_j\\right|=\\sum_{j=1}^n\\left|a_{i_0j}\\right|=u$."
   ]
  },
  {
   "cell_type": "markdown",
   "metadata": {},
   "source": [
    "6.证明：令M=$max_j\\sum_i\\left|a_{ij}\\right|$,设$A=(\\alpha_1,\\alpha_2,...,\\alpha_n),x=(x_1,x_2,...,x_n)^T,M=max_j\\left\\|\\alpha_j\\right\\|_1$,且$\\left\\|Ax\\right\\|_1=\\left\\|x_1\\alpha_1+x_2\\alpha_2+...+x_n\\alpha_n\\right\\|_1$$\\leqslant$$\\left|x_1\\right|\\left\\|\\alpha_1\\right\\|_1$+$\\left|x_2\\right|\\left\\|\\alpha_2\\right\\|_1$+...+$\\left|x_n\\right|\\left\\|\\alpha_n\\right\\|_1$$\\leqslant$$(\\left|x_1\\right|+\\left|x_2\\right|+...+\\left|x_2\\right|)M$=$\\left\\|x\\right\\|_1M$,\n",
    "故$\\left\\|A\\right\\|_1$=$max_{x\\neq0}$$\\frac{\\left\\|Ax\\right\\|_1}{\\left\\|x\\right\\|_1}$$\\leqslant M$.\n",
    "另一方面，设$M=\\sum_i\\left|a_{ir}\\right|$,取$x_r=(0,0,...,1,0,...,0)^T$,$第r个位置元素为1，则\\left\\|x_r\\right\\|_1=1$,且$\\left\\|A\\right\\|_1\\geqslant\\left\\|Ax-r\\right\\|_1=\\sum_i\\left|a_{ir}\\right|=M$,综上所述，有$\\left\\|A\\right\\|_1=max_j\\sum_i\\left|a_{ij}\\right|$."
   ]
  },
  {
   "cell_type": "markdown",
   "metadata": {
    "collapsed": true
   },
   "source": [
    "7.证明：因为$A^*A$是埃尔米特矩阵，所以存在一个特征分解$A^*A$=$Q\\Lambda$$Q^*$,其中，$Q$是酉阵（列是特征向量），$\\Lambda=diag(\\lambda_1,...,\\lambda_n$)是包含特征值的对角阵，而特征值必定都是实的，所有的$\\lambda_i\\geqslant0$,因为若某个$\\lambda$是负的，则取$q$为它的特征向量，有0$\\leqslant$$\\left\\|Aq\\right\\|_2^2$=$q^TA^TAq$=$q^T$$\\lambda$$q$=$\\lambda$$\\left\\|q\\right\\|_2^2$<0,矛盾。所以\n",
    "$\\left\\|A\\right\\|_2$$=$$max_{x\\neq0}$$\\frac{\\left\\|Ax\\right\\|_2}{\\left\\|x\\right\\|_2}$$=$$max_{x\\neq0}$$\\frac{(x^*A^*Ax)^\\frac{1}{2}}{\\left\\|x\\right\\|_2}$=$max_{x\\neq0}$$\\frac{(x^*Q\\Lambda Q^*x)^\\frac{1}{2}}{\\left\\|x\\right\\|_2}$=$max_{x\\neq0}$$\\frac{((Q^*x)^*\\Lambda Q^*x)^\\frac{1}{2}}{\\left\\|Q^*x\\right\\|_2}$=$max_{y\\neq0}$$\\frac{(y^*\\Lambda Q^*y)^\\frac{1}{2}}{\\left\\|y\\right\\|_2}$=$max_{y\\neq0}$$\\frac{\\sqrt{\\sum\\lambda_iy_i^2}}{\\sqrt{\\sum y_i^2}}$$\\leqslant max_{y\\neq0}\\sqrt{\\lambda_{max}}$$\\sqrt\\frac{\\sum y_i^2}{\\sum y_i^2}=\\sqrt{\\lambda_{max}}$"
   ]
  },
  {
   "cell_type": "markdown",
   "metadata": {},
   "source": [
    "8.证明:$\\left\\|A\\right\\|_2^2=\\lambda_{max}(A^TA),\\left\\|A^T\\right\\|_2^2=\\lambda_{max}(AA^T),\n",
    "对任意向量x,有Ax=\\lambda x,且A^Tx=\\lambda x,故A^TAx=\\lambda A^Tx=\\lambda^2x,AA^Tx=\\lambda Ax=\\lambda^2x,\n",
    "从而\\lambda_{max}(A^TA)=\\lambda_{max}(AA^T),所以\\left\\|A\\right\\|_2=\\left\\|A^T\\right\\|_2$。"
   ]
  },
  {
   "cell_type": "markdown",
   "metadata": {},
   "source": [
    "9.证明：若A是正规阵，则存在酉阵$Q$满足$Q^TAQ=D,D为对角矩阵且每个元为A的特征值$，$\\left\\|A\\right\\|_2=\\sqrt{\\lambda_{max}(A^*A)}=\\sqrt{\\lambda_{max}(A^*A)}$,记$D=diag(\\lambda_1,\\lambda_2,...,\\lambda_n)满足\\left|\\lambda_1\\right|\\geqslant\\left|\\lambda_2\\right|\\geqslant...\\geqslant\\left|\\lambda_n\\right|$,令$Ax_1=\\lambda_1x_1$,则有$\\left\\|Ax_1\\right\\|_2=\\left\\|\\lambda_1x_1\\right\\|_2=\\left|\\lambda_1\\right|\\left\\|x_1\\right\\|_2\\leqslant\\left\\|A\\right\\|_2\\left\\|x_1\\right\\|_2,从而\\left\\|A\\right\\|_2\\geqslant\\left|\\lambda_1\\right|$.再令$\\left\\|y_1\\right\\|_2=1,其中y_1为\\left\\|A\\right\\|_2对应的单位向量，y_1=Qz_1(z_1也是单位向量)，则\\left\\|A\\right\\|_2=\\left\\|Ay_1\\right\\|_2=\\left\\|Ay_1\\right\\|_2=\\left\\|Qz_1\\right\\|_2=\n",
    "\\left\\|Dz_1\\right\\|_2\\leqslant\\left|\\lambda_1\\right|,\n",
    "从而\\left\\|A\\right\\|_2=\\left|\\lambda_1\\right|=max_i\\left|\\lambda_i(A)\\right|$.\n"
   ]
  },
  {
   "cell_type": "markdown",
   "metadata": {},
   "source": [
    "10.证明：由向量范数的等价性，存在常数$c_1,c_2>0,使得对一切x有c_1\\left\\|Ax\\right\\|_2\\leqslant\\left\\|Ax\\right\\|_1\\leqslant c_2\\left\\|Ax\\right\\|_2$,\n",
    "$c_2\\left\\|x\\right\\|_2\\leqslant\\left\\|x\\right\\|_1\\leqslant c_1\\left\\|x\\right\\|_2$,\n",
    "$\\frac{c_1}{c_2}\\frac{\\left\\|Ax\\right\\|_2}{\\left\\|x\\right\\|_2}\\leqslant\\frac{\\left\\|Ax\\right\\|_1}{\\left\\|x\\right\\|_1}\\leqslant\\frac{c_2}{c_1}\\frac{\\left\\|Ax\\right\\|_2}{\\left\\|x\\right\\|_2}$,\n",
    "从而$\\frac{c_1}{c_2}max_{x\\neq0}\\frac{\\left\\|Ax\\right\\|_2}{\\left\\|x\\right\\|_2}\\leqslant max_{x\\neq0}\\frac{\\left\\|Ax\\right\\|_1}{\\left\\|x\\right\\|_1}\\leqslant\\frac{c_2}{c_1}max_{x\\neq0}\\frac{\\left\\|Ax\\right\\|_2}{\\left\\|x\\right\\|_2}$,\n",
    "令$\\frac{c_1}{c_2}=n^{-\\frac{1}{2}},\\frac{c_2}{c_1}=n^{\\frac{1}{2}}$,\n",
    "有$n^{-\\frac{1}{2}}\\left\\|x\\right\\|_2\\leqslant\\left\\|A\\right\\|_1\\leqslant n^{\\frac{1}{2}}\\left\\|x\\right\\|_2$\n"
   ]
  },
  {
   "cell_type": "markdown",
   "metadata": {},
   "source": [
    "11..证明：由向量范数的等价性，存在常数$c_1,c_2>0,使得对一切x有c_1\\left\\|Ax\\right\\|_2\\leqslant\\left\\|Ax\\right\\|_{\\infty}\\leqslant c_2\\left\\|Ax\\right\\|_2$,\n",
    "$c_2\\left\\|x\\right\\|_2\\leqslant\\left\\|x\\right\\|_{\\infty}\\leqslant c_1\\left\\|x\\right\\|_2$,\n",
    "$\\frac{c_1}{c_2}\\frac{\\left\\|Ax\\right\\|_2}{\\left\\|x\\right\\|_2}\\leqslant\\frac{\\left\\|Ax\\right\\|_{\\infty}}{\\left\\|x\\right\\|_{\\infty}}\\leqslant\\frac{c_2}{c_1}\\frac{\\left\\|Ax\\right\\|_2}{\\left\\|x\\right\\|_2}$,\n",
    "从而$\\frac{c_1}{c_2}max_{x\\neq0}\\frac{\\left\\|Ax\\right\\|_2}{\\left\\|x\\right\\|_2}\\leqslant max_{x\\neq0}\\frac{\\left\\|Ax\\right\\|_{\\infty}}{\\left\\|x\\right\\|_{\\infty}}\\leqslant\\frac{c_2}{c_1}max_{x\\neq0}\\frac{\\left\\|Ax\\right\\|_2}{\\left\\|x\\right\\|_2}$,\n",
    "令$\\frac{c_1}{c_2}=n^{-\\frac{1}{2}},\\frac{c_2}{c_1}=n^{\\frac{1}{2}}$,\n",
    "有$n^{-\\frac{1}{2}}\\left\\|x\\right\\|_2\\leqslant\\left\\|A\\right\\|_{\\infty}\\leqslant n^{\\frac{1}{2}}\\left\\|x\\right\\|_2$\n"
   ]
  },
  {
   "cell_type": "markdown",
   "metadata": {},
   "source": [
    "12.证明：由向量范数的等价性，存在常数$c_1,c_2>0,使得对一切x有c_1\\left\\|Ax\\right\\|_{\\infty}\\leqslant\\left\\|Ax\\right\\|_1\\leqslant c_2\\left\\|Ax\\right\\|_{\\infty}$,\n",
    "$c_2\\left\\|x\\right\\|_{\\infty}\\leqslant\\left\\|x\\right\\|_1\\leqslant c_1\\left\\|x\\right\\|_{\\infty}$,\n",
    "$\\frac{c_1}{c_2}\\frac{\\left\\|Ax\\right\\|_{\\infty}}{\\left\\|x\\right\\|_{\\infty}}\\leqslant\\frac{\\left\\|Ax\\right\\|_1}{\\left\\|x\\right\\|_1}\\leqslant\\frac{c_2}{c_1}\\frac{\\left\\|Ax\\right\\|_{\\infty}}{\\left\\|x\\right\\|_{\\infty}}$,\n",
    "从而$\\frac{c_1}{c_2}max_{x\\neq0}\\frac{\\left\\|Ax\\right\\|_{\\infty}}{\\left\\|x\\right\\|_{\\infty}}\\leqslant max_{x\\neq0}\\frac{\\left\\|Ax\\right\\|_1}{\\left\\|x\\right\\|_1}\\leqslant\\frac{c_2}{c_1}max_{x\\neq0}\\frac{\\left\\|Ax\\right\\|_{\\infty}}{\\left\\|x\\right\\|_{\\infty}}$,\n",
    "令$\\frac{c_1}{c_2}=n^{-1},\\frac{c_2}{c_1}=n$,\n",
    "有$n^{-1}\\left\\|x\\right\\|_{\\infty}\\leqslant\\left\\|x\\right\\|_1\\leqslant n\\left\\|x\\right\\|_{\\infty}$\n"
   ]
  },
  {
   "cell_type": "markdown",
   "metadata": {},
   "source": [
    "13.证明：$\\left\\|A\\right\\|_1^2=max_j(\\sum_i\\left|a_{ij}\\right|)^2,\\left\\|A\\right\\|_F^2=max_j(\\sum_i\\left|a_{ij}\\right|^2)$,\n",
    "从而$\\left\\|A\\right\\|_1\\leqslant\\left\\|A\\right\\|_F$\n",
    "又$\\left\\|A\\right\\|_2^2=\\lambda_{max}(A^TA)\\geqslant\\frac{1}{n}(\\lambda_1(A^TA)+\\lambda_2(A^TA)+...+\\lambda_n(A^TA))=\\frac{1}{n}trac(A^TA)$=\n",
    "$\\frac{1}{n}\\left\\|A\\right\\|_F^2$,\n",
    "故$\\left\\|A\\right\\|_1\\leqslant\\left\\|A\\right\\|_F\\leqslant n^{\\frac{1}{2}}\\left\\|A\\right\\|_2$."
   ]
  },
  {
   "cell_type": "code",
   "execution_count": null,
   "metadata": {
    "collapsed": true
   },
   "outputs": [],
   "source": []
  }
 ],
 "metadata": {
  "kernelspec": {
   "display_name": "Python 3",
   "language": "python",
   "name": "python3"
  },
  "language_info": {
   "codemirror_mode": {
    "name": "ipython",
    "version": 3
   },
   "file_extension": ".py",
   "mimetype": "text/x-python",
   "name": "python",
   "nbconvert_exporter": "python",
   "pygments_lexer": "ipython3",
   "version": "3.6.1"
  }
 },
 "nbformat": 4,
 "nbformat_minor": 2
}
