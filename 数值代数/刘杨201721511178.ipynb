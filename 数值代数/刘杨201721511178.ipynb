{
 "cells": [
  {
   "cell_type": "markdown",
   "metadata": {},
   "source": [
    "性质1  \n",
    "证明：$\\left\\|A\\right\\|={max}_{x\\neq0}\\frac{\\left\\|Ax\\right\\|}{\\left\\|x\\right\\|}$  \n",
    "$$x\\neq0时，\\frac{\\left\\|Ax\\right\\|}{\\left\\|x\\right\\|}\\le\\left\\|A\\right\\|\\Rightarrow\\left\\|Ax\\right\\|\\le\\left\\|A\\right\\|\\left\\|x\\right\\|$$  \n",
    "$$x=0时，\\left\\|Ax\\right\\|\\le\\left\\|A\\right\\|\\left\\|x\\right\\|显然成立.$$"
   ]
  },
  {
   "cell_type": "markdown",
   "metadata": {},
   "source": [
    "性质2  \n",
    "证明: $\\forall$ $A=(a_{ik})\\in C^{m\\times n}$,$B=(b_{sj})\\in C^{n\\times l}$, $\\left\\|x\\right\\|_\\infty$,  \n",
    "$$\\left\\|AB\\right\\|_F^2=\\sum_{i=1}^m\\sum_{j=1}^l\\left|\\sum_{k=1}^na_{ik}b_{kj}\\right|^2\\le\\sum_{i=1}^m\\sum_{j=1}^l\\left|\\sum_{k=1}^n\\right|\\left|a_{ik}\\right| \\left|b_{ki}\\right|)^2\\le\\sum_{i=1}^m\\sum_{j=1}^l(\\sum_{k=1}^n|a_{ik}|^2)(\\sum_{s=1}^n|b_{sj}|^2)\\\\\n",
    "=(\\sum_{i=1}^m\\sum_{k=1}^n|a_{ik}|^2)(\\sum_{s=1}^n\\sum_{j=1}^l|b_{sj}|^2)=\\left\\|A\\right\\|_F^2\\left\\|B\\right\\|_F^2$$  \n",
    "$$\\left\\|AB\\right\\|=\\max_{x\\neq0}\\frac{\\left\\|(AB)x\\right\\|}{\\left\\|x\\right\\|}=\\max_{x\\neq0}\\frac{\\left\\|A(B)x\\right\\|}{\\left\\|x\\right\\|}\\le\\max_{x\\neq0}\\frac{\\left\\|A\\right\\|\\left\\|Bx\\right\\|}{\\left\\|x\\right\\|}=\\left\\|A\\right\\|\\max_{x\\neq0}\\frac{\\left\\|Bx\\right\\|}{\\left\\|x\\right\\|}=\\left\\|A\\right\\|\\left\\|B\\right\\|$$"
   ]
  },
  {
   "cell_type": "markdown",
   "metadata": {},
   "source": [
    "性质3  \n",
    "证明:令$A=\\begin{vmatrix}1&2\\\\3&4\\end{vmatrix},x=(5,6)^T，Ax=\\begin{vmatrix}15&18\\\\36&42\\end{vmatrix}$  \n",
    "则$A$的最大范数为4，$x$的最大范数是6，$Ax$的最大范数是42，所以$\\frac{\\left\\|Ax\\right\\|}{\\left\\|x\\right\\|}=7\\neq\\left\\|A\\right\\|=4$  \n",
    "$A$的弗罗贝尼乌斯范数为$30^\\frac{1}{2}$，$x$的弗罗贝尼乌斯范数为$61^\\frac{1}{2}$，$Ax$的弗罗贝尼乌斯范数为$3538^\\frac{1}{2}$，所以$\\frac{\\left\\|Ax\\right\\|}{\\left\\|x\\right\\|}=58^\\frac{1}{2}\\neq\\left\\|A\\right\\|=30^\\frac{1}{2}$"
   ]
  },
  {
   "cell_type": "markdown",
   "metadata": {},
   "source": [
    "性质4  \n",
    "证明：Q和Z是酉阵或正交阵  \n",
    "$$\\left\\|QAZ\\right\\|=\\max_{\\left\\|x\\right\\|\\neq0}\\frac{\\left\\|QAZx\\right\\|}{\\left\\|Z^{-1}Zx\\right\\|}=\\max_{\\left\\|z\\right\\|\\neq0}\\frac{\\left\\|QAz\\right\\|}{\\left\\|Z^{-1}z\\right\\|}=\\max_{\\left\\|z\\right\\|\\neq0}\\frac{\\left\\|QAz\\right\\|}{\\left\\|z\\right\\|}=\\max_{\\left\\|z\\right\\|\\neq0}\\frac{\\left\\|QAz\\right\\|}{\\left\\|Az\\right\\|}\\cdot\\frac{\\left\\|Az\\right\\|}{\\left\\|z\\right\\|}=\\max_{\\left\\|z\\right\\|\\neq0}\\frac{\\left\\|Az\\right\\|}{\\left\\|z\\right\\|}=\\left\\|A\\right\\|$$\n"
   ]
  },
  {
   "cell_type": "markdown",
   "metadata": {},
   "source": [
    "性质5  \n",
    "证明: $\\forall$ $A=(a_{ij})\\in C^{m\\times n},x\\in C^n,\\left\\|x\\right\\|_\\infty=1$,  \n",
    "$$|(Ax)_i|=|\\sum_{j=1}^na_{ij}x_j|\\le\\sum_{j=1}^n|a_{ij}||x_j|\\le\\sum_{j=1}^n|a_{ij}|\\cdot1=\\sum_{j=1}^n|a_{ij}|\\le \\max_{1\\le i\\le m}\\sum_{j=1}^n|a_{ij}|,$$\n",
    "因此$\\left\\|A\\right\\|_\\infty\\le max_{1\\le i\\le m}\\sum_{j=1}^n|a_{ij}|.$  \n",
    "假设$A$第$k$行为行所有元素之和最大的一行，取$x^*$如下, \n",
    "$$x_j=\\begin{cases}1,&\\mbox a_{kj}\\mbox{is zero}\\\\-1,&\\mbox a_{kj}\\mbox{is not zero}\\end{cases}$$则$ \\left\\|x\\right\\|_\\infty=1$  \n",
    "$$（Ax）_{k}=|\\sum_{j=1}^n a_{kj}x_j|=\\sum_{j=1}^n|a_{kj}|,\\quad \\left\\|Ax\\right\\|_\\infty=\\sum_{j=1}^n|a_{kj}|=\\max_{1\\le i\\le m}\\sum_{j=1}^n|a_{ij}|$$\n"
   ]
  },
  {
   "cell_type": "markdown",
   "metadata": {},
   "source": [
    "性质6  \n",
    "证明： $\\forall$ $A=(a_{ij})\\in C^{m\\times n},x\\in C^n,\\left\\|x\\right\\|_1=1,|(Ax)_i|=|\\sum_{j=1}^na_{ij}x_j|\\le\\sum_{j=1}^n|a_{ij}||x_j|,$  \n",
    "$$\\left\\|Ax\\right\\|_1=\\sum_{i=1}^m|\\sum_{k=1}^na_{ik}x_k|\\le\\sum_{i=1}^m\\sum_{k=1}^n|a_{ik}||x_k|=\\sum_{k=1}^n|x_k|\\sum_{i=1}^m|a_{ik}|\\le\\sum_{k=1}^n|x_k|( max_{1\\le j\\le n}\\sum_{i=1}^m|a_{ij}|)= max_{1\\le j\\le n}\\sum_{i=1}^m|a_{ij}|$$  \n",
    "因此，$\\left\\|A\\right\\|_1\\le max_{1\\le j\\le n}\\sum_{i=1}^m|a_{ij}|$  \n",
    "假设A第$j_0$列为A的1-范数最大的列，$e_j$为n阶单位矩阵的第j列,$\\left\\|Ae_{j0}\\right\\|_1=\\left\\|a_{j0}\\right\\|_1=\\sum_{i=1}^m|a_{ij0}|=max_{1\\le j\\le n}\\sum_{i=1}^m|a_{ij}|$  \n",
    "所以$\\left\\|A\\right\\|_1\\ge\\left\\|Ae_{j0}\\right\\|=max_{1\\le j\\le n}\\sum_{i=1}^m|a_{ij}|$  \n",
    "所以$\\left\\|A\\right\\|_1=max_{1\\le j\\le n}\\sum_{i=1}^m|a_{ij}|$"
   ]
  },
  {
   "cell_type": "markdown",
   "metadata": {},
   "source": [
    "性质8  \n",
    "证明：令$A^*A=Q^*Q,则QA^*AQ^*=\\Lambda$  \n",
    "$\\qquad A^{*T}A^T=A^{*T}Q^TQ^{*T}A^T=(QA^*)^T(AQ^*)^T=(QA^*)^T((QA^*)^{-1}\\lambda)^T=(QA^*)^T{\\Lambda}^T((QA^*)^T)^{-1}=(QA^*)^T\\Lambda((QA^*)^T)^{-1}$  \n",
    "$\\qquad$所以$A^*A和A^{*T}A^{T}$有相同的特征值  \n",
    "$\\qquad\\left\\|A\\right\\|_2^2=\\lambda_{max}(A^*A)=\\lambda_{max}A^{*T}A^{T}=\\left\\|A^T\\right\\|_2^2$ "
   ]
  },
  {
   "cell_type": "markdown",
   "metadata": {},
   "source": [
    "性质9  \n",
    "证明：对弗罗贝尼乌斯范数和谱范数，对任意酉矩阵U,V恒有  \n",
    "$$\\left\\|UA\\right\\|_F=\\left\\|A\\right\\|_F\\left\\|AV\\right\\|_F$$  \n",
    "$$\\left\\|UA\\right\\|_2=\\left\\|UA\\right\\|_2\\left\\|UA\\right\\|_2$$\n",
    "$$\\left\\|A\\right\\|_2=\\max_{x\\neq0}\\frac{\\left\\|Ax\\right\\|_2}{\\left\\|x\\right\\|_2}=\\max_{x\\neq0}\\frac{(x^*A^*Ax)^{\\frac{1}{2}}}{(x^*x)^{\\frac{1}{2}}}=\\max_{x\\neq0}\\frac{x^*U^*\\Lambda^*UU^*\\Lambda Ux)}{(x^*U^*Ux)^{\\frac{1}{2}}}=\\max_{x\\neq0}\\frac{(x^*U^*\\Lambda^*\\Lambda Ux)^{\\frac{1}{2}}}{(x^*U^*Ux)^{\\frac{1}{2}}}=\\max_{y\\neq0}\\frac{(y^*\\Lambda^*\\Lambda y)^{\\frac{1}{2}}}{(y^*y)^{\\frac{1}{2}}}=\\max_{y\\neq0}\\frac{(\\sum \\lambda_i^2y_i^2)^\\frac{1}{2}}{(\\sum y_i^2)^\\frac{1}{2}}=\\max_i|\\lambda_i(y)|$$ "
   ]
  },
  {
   "cell_type": "markdown",
   "metadata": {},
   "source": [
    "性质10  \n",
    "证明：$\\left\\|x\\right\\|_2\\le\\left\\|x\\right\\|_1\\le n^{\\frac{1}{2}}\\left\\|x\\right\\|_2$  \n",
    "$\\qquad\\left\\|Ax\\right\\|_1\\le n^{\\frac{1}{2}}\\left\\|Ax\\right\\|_2\\le n^{\\frac{1}{2}}\\left\\|A\\right\\|_2\\left\\|x\\right\\|_2\\le n^{\\frac{1}{2}}\\left\\|A\\right\\|_2\\left\\|x\\right\\|_1\\Rightarrow\\left\\|A\\right\\|_1\\le n^{\\frac{1}{2}}\\left\\|A\\right\\|_2$  \n",
    "$\\qquad\\left\\|Ax\\right\\|_2\\le\\left\\|Ax\\right\\|_1\\le\\left\\|A\\right\\|_1\\left\\|x\\right\\|_1\\le n^{\\frac{1}{2}}\\left\\|A\\right\\|_1\\left\\|x\\right\\|_2\\Rightarrow n^\\frac{-1}{2}\\left\\|A\\right\\|_2\\le\\left\\|A\\right\\|_1$  "
   ]
  },
  {
   "cell_type": "markdown",
   "metadata": {
    "collapsed": true
   },
   "source": [
    "性质11  \n",
    "证明：$\\left\\|x\\right\\|_\\infty\\le\\left\\|x\\right\\|_2\\le n^{\\frac{1}{2}}\\left\\|x\\right\\|_\\infty$   \n",
    "$\\qquad\\left\\|Ax\\right\\|_2\\le n^{\\frac{1}{2}}\\left\\|Ax\\right\\|_\\infty\\le n^{\\frac{1}{2}}\\left\\|A\\right\\|_\\infty\\left\\|x\\right\\|_\\infty\\le n^{\\frac{1}{2}}\\left\\|A\\right\\|_\\infty\\left\\|x\\right\\|_2\\Rightarrow n^\\frac{-1}{2}\\left\\|A\\right\\|_2\\le\\left\\|A\\right\\|_\\infty$  \n",
    "$\\qquad\\left\\|Ax\\right\\|_\\infty\\le\\left\\|Ax\\right\\|_2\\le\\left\\|A\\right\\|_2\\left\\|x\\right\\|_2\\le n^{\\frac{1}{2}}\\left\\|A\\right\\|_2\\left\\|x\\right\\|_\\infty\\Rightarrow\\left\\|A\\right\\|_\\infty\\le n^{\\frac{1}{2}}\\left\\|A\\right\\|_2$"
   ]
  },
  {
   "cell_type": "markdown",
   "metadata": {},
   "source": [
    "性质12  \n",
    "证明：$\\left\\|x\\right\\|_\\infty\\le\\left\\|x\\right\\|_1\\le n\\left\\|x\\right\\|_\\infty$  \n",
    "$\\qquad\\left\\|Ax\\right\\|_1\\le n\\left\\|Ax\\right\\|_\\infty\\le n\\left\\|A\\right\\|_\\infty\\left\\|x\\right\\|_\\infty\\le n\\left\\|A\\right\\|_\\infty\\left\\|x\\right\\|_1\\Rightarrow\\left\\|A\\right\\|_1\\le n\\left\\|A\\right\\|_\\infty$  \n",
    "$\\qquad\\left\\|Ax\\right\\|_\\infty\\le \\left\\|Ax\\right\\|_1\\le\\left\\|A\\right\\|_1\\left\\|x\\right\\|_1\\le n\\left\\|A\\right\\|_1\\left\\|x\\right\\|_\\infty\\Rightarrow n^{-1}\\left\\|A\\right\\|_\\infty\\le\\left\\|A\\right\\|_1$"
   ]
  },
  {
   "cell_type": "markdown",
   "metadata": {},
   "source": [
    "性质13  \n",
    "$\\qquad\\left\\|A\\right\\|_1^2=max_{j}\\sum_{i}|a_{ij}|\\le\\sum_{i=1}^n|a_{i1}|^2+\\sum_{i=1}^n|a_{i2}|^2+\\cdots+\\sum_{i=1}^n|a_{in}|^2=\\sum_{j=1}^n(\\sum_{i=1}^n|a_{ij}|^2)=\\left\\|A\\right\\|_F^2$  \n",
    "$\\qquad\\left\\|A\\right\\|_F^2=\\sum|a_{ij}|^2=Tr(A^T A)=\\sum_i\\lambda_i(A^T A)\\le n\\max_i\\lambda_i(A^T A)=n\\left\\|A\\right\\|_2$"
   ]
  }
 ],
 "metadata": {
  "kernelspec": {
   "display_name": "Python 3",
   "language": "python",
   "name": "python3"
  },
  "language_info": {
   "codemirror_mode": {
    "name": "ipython",
    "version": 3
   },
   "file_extension": ".py",
   "mimetype": "text/x-python",
   "name": "python",
   "nbconvert_exporter": "python",
   "pygments_lexer": "ipython3",
   "version": "3.6.1"
  }
 },
 "nbformat": 4,
 "nbformat_minor": 2
}
