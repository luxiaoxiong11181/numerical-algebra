{
 "cells": [
  {
   "cell_type": "markdown",
   "metadata": {
    "collapsed": true
   },
   "source": []
  },
  {
   "cell_type": "markdown",
   "metadata": {},
   "source": [
    " \n",
    " $性质1：    $\n",
    "  \n",
    "  $$  \\left\\|Ax\\right\\|\\le\\|A\\|\\cdot\\|x\\|,对一个向量范数及其对应的算子范数，或向量2范数和矩阵Frobenius范数成立.$$\n",
    "\n",
    "$\\quad 证明：$ \n",
    "\n",
    "$$\\left\\|A\\right\\|\\ =\\max_{x\\ne 0}\\frac{||Ax||}{||x||}$$ \n",
    "\n",
    "  $ \\quad当{ x\\ne 0}时，    \\frac{||Ax||}{||x||}\\le\\left\\|A\\right\\| ,从而 \\left\\|Ax\\right\\|\\le\\|A\\|\\cdot\\|x\\|.$\n",
    "  \n",
    "  $ \\quad当x=0时，\\left\\|Ax\\right\\|\\le\\|A\\|\\cdot\\|x\\|显然成立.$"
   ]
  },
  {
   "cell_type": "markdown",
   "metadata": {},
   "source": [
    "$性质2：  $\n",
    "\n",
    "$$  \\left\\|AB\\right\\|\\le\\|A\\|\\cdot\\|B\\|,对任何算子范数，或Frobenius范数成立，换言之，任何算子范数和它本身是相互相应的.$$\n",
    "  \n",
    "   $\\quad证明：    $\n",
    "  \n",
    "  $$\\left\\|AB\\right\\|\\ =\\max_{x\\ne 0}\\frac{||(AB)x||}{||x||}=\\max_{x\\ne 0}\\frac{||A(Bx)||}{||x||}\\le\\max_{x\\ne 0}\\frac{||A||||Bx||}{||x||}=\\left\\|A\\right\\|\\max_{x\\ne 0}\\frac{||Bx||}{||x||}=\\|A\\|\\cdot\\|B\\|.$$"
   ]
  },
  {
   "cell_type": "markdown",
   "metadata": {
    "collapsed": true
   },
   "source": [
    "$性质3:    $\n",
    "\n",
    "$$最大范数和Frobenius范数不是算子范数.$$\n",
    "  \n",
    "  $\\quad证明：  $\n",
    "    $假设Frobenius范数是算子范数,则$\n",
    "   \n",
    "   $$\\left\\|A\\right\\|_{F}=\\max_{\\|x\\|=1}\\|Ax\\|. $$\n",
    " \n",
    "  $\\quad取A=I时,则$\n",
    " \n",
    "$$\\left\\|A\\right\\|_2=\\max_{i}|\\lambda_{i}(A)则\\left\\|I\\right\\|_{F}=\\max_{\\|x\\|=1}\\|Ix\\|=1\\quad        (1)$$\n",
    " \n",
    "$\\quad 实际上$\n",
    " \n",
    " $$\\left\\|I\\right\\|_{F}=(\\sum_{i,j}^n|a_{ij}|^2)^\\frac{1}{2}=n\\quad                     (2)$$\n",
    "\n",
    "$(1)与（2）矛盾，所以Frobenius范数不是算子范数.$\n"
   ]
  },
  {
   "cell_type": "markdown",
   "metadata": {
    "collapsed": true
   },
   "source": []
  },
  {
   "cell_type": "markdown",
   "metadata": {
    "collapsed": true
   },
   "source": [
    "$性质4：  $\n",
    "\n",
    "$\\quad \\left\\|QAZ\\right\\|=\\left\\|A\\right\\|,当Q和A是正交阵或酉阵时，对Frobenius范数及由\\|\\cdot\\|_{2}导出的算子范数成立.$\n",
    "\n",
    "$而这实际上正好是毕达哥拉斯定理.$\n",
    "\n",
    "$\\quad证明：   $\n",
    "\n",
    " $$ (QAZ)^*(QAZ)=(Z^*A^*Q^*)(QAZ)=Z^*(A^*A)Z,$$\n",
    " \n",
    " $$ (QAZ)^*(QAZ)=(A^*A),$$\n",
    " \n",
    " $\\quad 所以 $   \n",
    " \n",
    " $$ \\|QAZ\\|_{2}^2=max((QAZ)^*(QAZ))=max(A^*A)=\\|A\\|_{2}^2. $$\n",
    "\n",
    "$$\\|A\\|_{F}^2=\\sum_{i,j}^n a_{ij}^2=tr(A^*A)=\\sum_{i=1}^n(a_{i}^2),$$\n",
    "\n",
    "$其中a_{1}，a_{2}，\\cdots,a_{n}是A^*A的特征值. $\n",
    "\n",
    "$$\\|A\\|_{F}^2=\\sum_{i=1}^n a_{i}^2=\\sum_{i=1}^n{\\lambda}_{i}^2((QAZ)^*(QAZ))=\\|QAZ\\|_{F}^2.$$ "
   ]
  },
  {
   "cell_type": "markdown",
   "metadata": {},
   "source": [
    "$性质5：   $\n",
    "  \n",
    "$$\\left\\|A\\right\\|_\\infty=\\max_{x\\ne  0}\\frac{||Ax||_\\infty}{||x||_\\infty}=\\max_{i}\\sum_{j}|a_{ij}|\n",
    "=最大的绝对值行和.$$\n",
    "\n",
    "$ \\quad 证明：$\n",
    "$设x=(x_{1},x_{2},\\cdots,x_{n})^T\\ne 0,A\\ne 0,记 t=\\left\\|x\\right\\|_\\infty. 则 $\n",
    "\n",
    " $$\\|Ax\\|_{\\infty}=\\max_{i}\\sum_{j}|a_{ij}x_{j}|\\le\\max_{i}\\sum_{j}|a_{ij}||x_{j}|\\le t\\max_{i}\\sum_{j}|a_{ij}|. $$\n",
    "\n",
    "$ \\quad所以 $\n",
    "  $$\\frac{\\|Ax\\|_{\\infty}}{\\|x\\|_{\\infty}}\\le u=\\max_{i}\\sum_{j}|a_{ij}|,u=\\sum_{j=1}^n|a_{i_{0}j}|.$$\n",
    "  $取x_{0}=(x_{1},x_{2},\\cdots,x_{n})^T,$\n",
    "\n",
    "$其中,若a_{i_{0}j}=0,则取x_{j}=0,若a_{i_{0}j}>0,则取x_{j}=1,a_{i_{0}j}<0,则取x_{j}=-1,(j=1,2,\\cdots,n),\\|x_{0}\\|_{\\infty}=1.$\n",
    "\n",
    "$Ax_{0}的第i_{0}个分量为\\sum_{j=1}^n|a_{i_{0}j}x_{j}|=\\sum_{j=1}^n|a_{i_{0}j}|,$\n",
    "\n",
    "$$\\|Ax_{0}\\|_{\\infty}=\\max_{i}|\\sum_{j=1}^na_{ij}x_{j}|=\\sum_{j=1}^n|a_{i_{0}j}|=u .$$\n",
    "\n",
    "$\\quad 所以$\n",
    "\n",
    "$$\\|A\\|_{\\infty}\\equiv\\max_{x\\ne 0}\\frac{\\|Ax\\|_{\\infty}}{\\|x\\|_{\\infty}}=\\max_{i}\\sum_{j}|a_{ij}|=最大的绝对值的行和. $$"
   ]
  },
  {
   "cell_type": "markdown",
   "metadata": {},
   "source": [
    "$性质6:       $\n",
    "\n",
    " $$\\left\\|A\\right\\|_1=\\max_{x\\ne  0}\\frac{||Ax||_1}{||x||_1}=\\|A^T\\|_\\infty=\\max_{j}\\sum_{i}|a_{ij}|\n",
    "=最大的绝对值列和.$$\n",
    "\n",
    " $ \\quad  证明：  $ \n",
    " $设w=\\max_{j}\\sum_{i}|a_{ij}|,\\quad \\|x\\|_{1}=1,A=[a_{1},a_{2},\\cdots,a_{n}],则有w=\\max_{j}\\|a_{j}\\|_{1}.$\n",
    " \n",
    " $设 x=(x_{1},x_{2},\\cdots,x_{n})^T,则$\n",
    "\n",
    "$$\\|Ax\\|_{1}=\\|x_{1}a_{1}+x_{2}a_{2}+\\cdots+x_{n}a_{n}\\|_{1}\\le|x_{1}|\\|a_{1}\\|+|x_{2}|\\|a_{2}\\|+\\cdots+|x_{n}|\\|a_{n}\\| \\qquad$$\n",
    "\n",
    "$$\\le(|x_{1}|+|x_{2}| +\\cdots+|x_{n}|)w.$$\n",
    " \n",
    " $\\quad另一方面$\n",
    " \n",
    " $\\quad设\\sum_{i}|a_{ir}|=w,取 x_{r}=(0,0,\\cdots,1,\\cdots,0),(第r项为1，其余为0)，则$\n",
    "\n",
    "$$  \\|x_{r}\\|_{1}=1 且 \\|Ax_{r}\\|_{1}=\\sum_{i}|a_{ir}|=w.$$\n",
    "$\\quad因此$\n",
    "$$\\|A\\|_{1}\\equiv\\max_{x\\ne 0}\\frac{\\|Ax\\|_{1}}{\\|x\\|_{1}}=\\max_{j}\\sum_{i}|a_{ij}|.$$\n"
   ]
  },
  {
   "cell_type": "markdown",
   "metadata": {
    "collapsed": true
   },
   "source": [
    "$性质7：   $\n",
    "\n",
    "$$\\left\\|A\\right\\|_2=\\max_{x\\ne  0}\\frac{||Ax||_2}{||x||_2}=\\sqrt{\\lambda_\\max(A^*A)},其中\\lambda_{max}表示最大的特征值.$$\n",
    "\n",
    "$ \\quad  证明：  $ \n",
    " $因为A^*A是埃尔米特矩阵，所以存在一个特征分解A^*A=Q\\Lambda Q^*,其中Q是酉阵,(列是特征向量), $   \n",
    " \n",
    " $\\Lambda=diag(\\lambda_{1},\\cdots,\\lambda_{n})是包含特征值的对角阵，而特征值都是实的,所有的\\lambda_{i}\\ge 0,因为若某个\\lambda 是负的，则取$\n",
    " \n",
    " $ q为它的特征向量，有0\\le \\|Aq\\|_{2}^2=q^TA^TAq=q^T\\lambda q=\\lambda\\|q\\|_{2}^2<0,矛盾 $\n",
    "\n",
    "$ \\quad 因此$\n",
    " \n",
    " $$\\|A\\|_{2}\\equiv\\max_{x\\ne 0}\\frac{\\|Ax\\|_{2}}{\\|x\\|_{2}}= \\max_{x\\ne 0}\\frac{(x^*A^*Ax)^\\frac{1}{2}}{\\|x\\|_{2}}\n",
    " =\\max_{x\\ne 0}\\frac{(x^*Q\\Lambda Q^*x)^\\frac{1}{2}}{\\|x\\|_{2}}=\\max_{x\\ne 0}\\frac{((Q^*x)^*\\Lambda Q^*x)^\\frac{1}{2}}{\\|Q^*x\\|_{2}}$$\n",
    "$$ =\\max_{y\\ne 0}\\frac{(y^*\\Lambda y)^\\frac{1}{2}}{\\|y\\|_{2}}=\\max_{y\\ne 0}(\\frac{\\sum y_{i}^2\\lambda_{i}}{y_{i}^2})^\\frac{1}{2}\\le max_{y\\ne 0}\\sqrt{\\lambda_{max}}\\sqrt{(\\frac{\\sum y_{i}^2}{\\sum y_{i}^2})}=\\sqrt{\\lambda_{max}}$$"
   ]
  },
  {
   "cell_type": "markdown",
   "metadata": {
    "collapsed": true
   },
   "source": [
    "$性质8：    $\n",
    "\n",
    "$$\\left\\|A\\right\\|_2=\\left\\|A^T\\right\\|_2.$$\n",
    "\n",
    " $ \\quad  证明：  $ \n",
    " $设\\lambda 是AB的特征值,有ABx=\\lambda x (x\\ne 0),所以(BA)(Bx)=\\lambda (Bx) (x\\ne 0), $\n",
    "\n",
    "$(i)若\\lambda\\ne 0,则Bx\\ne 0,可知\\lambda 也是BA的特征值. $\n",
    " \n",
    " $(ii)若 \\lambda= 0,AB有零特征值,有|0E-BA|=|-BA|=|-B||A|=|A||B|=|0E-AB|=0,$\n",
    " \n",
    " $所以AB的特征值全是BA的特征值.$\n",
    "\n",
    "$\\quad 同理可得： BA的特征值是AB的特征值，AB与BA的特征值相同.$\n",
    " \n",
    " $$\\|A\\|_{2}=\\sqrt{\\lambda_{max}(A^*A)}=\\sqrt{\\lambda_{max}(AA^*)}=\\|A^T\\|_{2}  $$\n",
    " "
   ]
  },
  {
   "cell_type": "markdown",
   "metadata": {
    "collapsed": true
   },
   "source": [
    "$性质9：   $  \n",
    "\n",
    "$$\\left\\|A\\right\\|_2=\\max_{i}|\\lambda_{i}(A)|,当A是正规阵，即AA^*=A^*A时成立.$$\n",
    "\n",
    "$\\quad 证明：    $\n",
    " $A是正规矩阵，必然存在酉阵Q，满足Q^\\prime*A*Q=D,D为对角阵且为对角线的元素都是$\n",
    "\n",
    "$ A的特征值，记D=diag(\\lambda_{1},\\lambda_{2},\\cdots,\\lambda_{n})满足|\\lambda_1|\\ge|\\lambda_2|\\ge\\cdots\\ge|\\lambda_{n}|,则|\\lambda_1|为A的最大特征值. $\n",
    "\n",
    "$\\quad 令x_1为\\lambda_1对应的右特征向量，满足Ax_1=\\lambda_1x_1,必然有\\frac{||Ax_1||}{||x_1||}=|\\lambda_1|\\ge\\left\\|A\\right\\|_2.$\n",
    "\n",
    "$\\quad 令y_1为\\left\\|A\\right\\|_2对应的单位向量.即\\left\\|y_1\\right\\|_2=1且\\left\\|A\\right\\|_1=\\left\\|Ay_1\\right\\|_2,y_1可以Q线性表出为y_1=Q*z_1,$\n",
    "\n",
    "$且z_1也为单位向量. $\n",
    "\n",
    "$\\quad 那么不难得出$\n",
    "\n",
    "$$\\left\\|A\\right\\|_2=\\left\\|Ay_1\\right\\|_2=\\left\\|AQz_1\\right\\|_2=\\left\\|Qz_1\\right\\|_2\\le\\lambda_1.$$\n",
    "\n",
    "$\\quad 即$\n",
    "$$\\left\\|A\\right\\|_2=\\max_{i}|\\lambda_{i}(A).$$\n",
    "\n",
    "\n"
   ]
  },
  {
   "cell_type": "markdown",
   "metadata": {
    "collapsed": true
   },
   "source": [
    "$性质10:     $\n",
    "\n",
    "$$若A是n\\times n阶矩阵，则n^{-1/2}\\left\\|A\\right\\|_2\\le\\|A\\|_1\\le n^{1/2}\\|A\\|_2.$$\n",
    "\n",
    "$ \\quad  证明： 由向量范数的等价性,存在常数，使对任意x有$\n",
    " \n",
    " $$c_{1}\\|Ax\\|_{2}\\le\\|Ax\\|_{1}\\le c_{2}\\|Ax\\|_{2},\n",
    "  c_{2}\\|x\\|_{2}\\le\\|x\\|_{1}\\le c_{1}\\|x\\|_{2}.$$\n",
    " \n",
    " $$ \\frac{c_{1}}{c_{2}}\\frac{\\|Ax\\|_{2}}{\\|x\\|_{2}}\\le\\frac{\\|Ax\\|_{2}}{\\|x\\|_{2}}\\le\\frac{c_{2}}{c_{1}}\\frac{\\|Ax\\|_{2}}{\\|x\\|_{2}}.\\frac{c_{1}}{c_{2}}=n^\\frac{-1}{2},\\frac{c_{2}}{c_{1}}=n^\\frac{1}{2},$$\n",
    "  \n",
    "  $\\quad 则有$\n",
    "  \n",
    "  $$n^\\frac{-1}{2}\\frac{\\|Ax\\|_{2}}{\\|x\\|_{2}}\\le\\frac{\\|Ax\\|_{2}}{\\|x\\|_{2}}\\le n^\\frac{1}{2}\\frac{\\|Ax\\|_{2}}{\\|x\\|_{2}}，$$\n",
    " \n",
    " $$ n^\\frac{-1}{2}\\max_{x\\ne 0}\\frac{\\|Ax\\|_{2}}{\\|x\\|_{2}}\\le\\max_{x\\ne 0}\\frac{\\|Ax\\|_{2}}{\\|x\\|_{2}}\\le n^\\frac{1}{2}\\max_{x\\ne 0}\\frac{\\|Ax\\|_{2}}{\\|x\\|_{2}}.$$\n",
    "\n",
    "$$n^\\frac{-1}{2}\\|A\\|_{2}\\le\\|A\\|_{1}\\le n^\\frac{1}{2}\\|A\\|_{2.}$$\n",
    "  "
   ]
  },
  {
   "cell_type": "markdown",
   "metadata": {
    "collapsed": true
   },
   "source": [
    "$性质11：    $\n",
    "\n",
    "$$若A是n\\times n阶矩阵，则n^{-1/2}\\left\\|A\\right\\|_2\\le\\|A\\|_\\infty\\le n^{1/2}\\|A\\|_2.$$\n",
    "\n",
    "$ \\quad  证明：因为  $ \n",
    " \n",
    " $$\\|x\\|_{\\infty}\\le\\|x\\|_{2}\\le\\sqrt n\\|x\\|_{\\infty},$$\n",
    " \n",
    " $\\quad 所以 $\n",
    " \n",
    " $$\\|Ax\\|_{\\infty}\\le\\|Ax\\|_{2}\\le\\|A\\|_{2}\\|x\\|_{2}\\le\\sqrt n\\|A\\|_{2}\\|x\\|_{\\infty}.$$\n",
    " \n",
    " $\\quad再由无穷范数的定义得$\n",
    " \n",
    " $$\\|A\\|_{\\infty}\\le n^\\frac{1}{2}\\|A\\|_{2}.$$\n",
    "\n",
    "$\\quad 另一方面 $\n",
    "\n",
    "$$n^\\frac{-1}{2}\\|A\\|_{2}\\le\\|Ax\\|_{\\infty}\\|A\\|_{\\infty}\\|x\\|_{\\infty}\\le\\|A\\|_{\\infty}\\|x\\|_{2}.$$\n",
    "\n",
    "$\\quad 再由2-范数的定义得 $\n",
    "\n",
    "$$n^\\frac{-1}{2}\\|A\\|_{2}\\le\\|A\\|_{\\infty}.$$"
   ]
  },
  {
   "cell_type": "markdown",
   "metadata": {},
   "source": [
    "$性质12：    $\n",
    "\n",
    "$$若A是n\\times n阶矩阵，则n^{-1}\\left\\|A\\right\\|_\\infty\\le\\|A\\|_1\\le n\\|A\\|_\\infty.$$\n",
    "$\\quad 证明:因为   $\n",
    " \n",
    " $$\\|x\\|_{\\infty}\\le\\|x\\|_{1}\\le n\\|x\\|_{\\infty}，$$\n",
    "\n",
    "$\\quad 所以  $\n",
    "\n",
    "$$n^{-1}\\|Ax\\|_{\\infty}\\le n^{-1}\\|Ax\\|_{1}\\le n^{-1}\\|A\\|_{1}\\|x\\|_{1}\\le \\|A\\|_{1}\\|x\\|_{\\infty}.$$\n",
    " \n",
    " $\\quad 再有无穷范数的定义得$\n",
    "\n",
    "$$n^{-1}\\|A\\|_{\\infty}\\le\\|A\\|_{1}.$$\n",
    " \n",
    " $$\\|Ax\\|_{1}\\le n\\|Ax\\|_{\\infty}\\le n\\|A\\|_{\\infty}\\|x\\|_{\\infty}\\le n\\|A\\|_{\\infty}\\|x\\|_{1}.$$\n",
    "\n",
    "$\\quad 再由1-范数的定义得$\n",
    "\n",
    "$$\\|A\\|_{1}\\le n\\|A\\|_{\\infty}.$$\n",
    "\n"
   ]
  },
  {
   "cell_type": "markdown",
   "metadata": {},
   "source": [
    "$性质13：    $\n",
    "\n",
    "$$若A是n\\times n阶矩阵，则\\left\\|A\\right\\|_1\\le\\|A\\|_{F}\\le n^{1/2}\\|A\\|_2.$$\n",
    "\n",
    "$ \\quad  证明：  $\n",
    " $$\\|A\\|_{2}^2=\\lambda_{1}(A^*A)\\ge n^{-1}[\\lambda_{2}(A^*A)+\\lambda_{max}(A^*A)+\\cdots+\\lambda_{n}(A^*A)]= n^{-1}tr(A^*A)=n^{-1}\\|A\\|_{F}^2$$\n",
    "\n",
    "$$ \\|A\\|_{F}\\le n^{1/2}\\|A\\|_{2} $$\n"
   ]
  },
  {
   "cell_type": "code",
   "execution_count": null,
   "metadata": {
    "collapsed": true
   },
   "outputs": [],
   "source": []
  }
 ],
 "metadata": {
  "kernelspec": {
   "display_name": "Python 3",
   "language": "python",
   "name": "python3"
  },
  "language_info": {
   "codemirror_mode": {
    "name": "ipython",
    "version": 3
   },
   "file_extension": ".py",
   "mimetype": "text/x-python",
   "name": "python",
   "nbconvert_exporter": "python",
   "pygments_lexer": "ipython3",
   "version": "3.6.1"
  }
 },
 "nbformat": 4,
 "nbformat_minor": 2
}
