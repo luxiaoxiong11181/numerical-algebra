{
 "cells": [
  {
   "cell_type": "markdown",
   "metadata": {
    "collapsed": true
   },
   "source": [
    "###  1、\n",
    " $\\quad$证明：(1)\n",
    "$\\quad$由算子范数的定义: $\\lVert A\\rVert = \\max\\limits_{x\\neq0}\\frac{\\lVert Ax\\rVert}{\\lVert x\\rVert}$ \n",
    " $\\quad$\n",
    "  可知，当 $x\\neq0$ 时，$\\frac{\\lVert Ax\\rVert}{\\lVert x\\rVert}\\leq\\lVert A\\rVert$\n",
    " $$\\quad$$\n",
    "  $\\quad$  $\\quad$ $\\therefore\\quad\\lVert Ax\\rVert\\leq\\lVert A\\rVert\\lVert x\\rVert，$\n",
    "  $即结论成立$\n",
    "   $$\\quad$$\n",
    "   (2)$\\quad$对于向量的2范数和矩阵的F范数\n",
    "   $$\\quad$$\n",
    "   取向量 $x = (x_1,x_2,\\cdots,x_n)^T,$ \n",
    "   $A=\\begin{bmatrix}\n",
    " a_{11} & \\cdots & a_{1n} \\\\\n",
    "\\vdots & \\ddots & \\vdots \\\\\n",
    " a_{n1} & \\cdots &  a_{nn}\n",
    "\\end{bmatrix}$\n",
    ",则Ax=$\\begin{bmatrix}\n",
    " \\sum_{j=1}^n a_{1j}x_j & \\cdots & \\sum_{j=1}^n a_{nj}x_j \n",
    "\\end{bmatrix}$\n",
    "   $$\\quad$$\n",
    "   $ 由柯西-施瓦茨不等式得{(\\sum_{j=1}^n a_{ij}x_j)}^2\\leqslant{\\lVert x\\rVert}_2^2\\sum_{j=1}^n a_{ij}^2\n",
    "   ，而\\lVert Ax\\rVert^2=\\sum_{i=1}^n(\\sum_{j=1}^n a_{ij}x_j)^2$   \n",
    "    $$\\quad$$\n",
    "    $\\therefore\\quad\\lVert Ax\\rVert\\leqslant\\lVert A\\rVert\\lVert x\\rVert$， $即结论成立$"
   ]
  },
  {
   "cell_type": "markdown",
   "metadata": {
    "collapsed": true
   },
   "source": [
    "###  2、\n",
    " 证明：（1）对于矩阵的F范数 $\\quad$设$A=A_{m*n},B=B_{n*p},AB=C_{m*p}$ $$\\quad$$\n",
    " 其中$ c_{ij}=\\sum_{t=1}^n a_{it}b_{tj},\\quad由施瓦茨不等式\\quad c_{ij}^2\\leqslant\\sum_{t=1}^n a_{it}^2\\centerdot\\sum_{t=1}^n b_{tj}^2$ $$\\quad$$\n",
    " $\\quad\\therefore\\quad \\lVert AB\\rVert=\\sum\\sum c_{ij}^2\\leqslant\\sum_{i=1}^m\\sum_{j=1}^p$\n",
    " $(\\sum_{t=1}^n a_{it}^2\\centerdot\\sum_{t=1}^nb_{tj}^2)$\n",
    " $=\\sum_{i=1}^m\\sum_{t=1}^na_{it}^2\\centerdot\\sum_{j=1}^p\\sum_{t=1}^nb_{tj}^2$\n",
    " $=\\lVert A\\rVert\\centerdot\\lVert B\\rVert$\n",
    "\n",
    "$\\quad $即结论成立\n",
    "\n",
    "（2）对于算在范数： 由 $\\quad\\lVert A\\rVert = \\max\\limits_{x\\neq0}\\frac{\\lVert Ax\\rVert}{\\lVert x\\rVert}$ $$\\quad$$\n",
    "  $ \\qquad 得 \\quad\\lVert AB\\rVert = \\max\\limits_{x\\neq0}\\frac{\\lVert ABx\\rVert}{\\lVert x\\rVert}= \\max\\limits_       {x\\neq0}\\frac{\\lVert A(Bx)\\rVert}{\\lVert x\\rVert}\\leqslant\\max\\limits_{x\\neq0}\\frac{\\lVert A\\rVert\\lVert Bx\\rVert}{\\lVert x\\rVert}$ $\\leqslant\\lVert A\\rVert\\max\\limits_{x\\neq0}\\frac{\\lVert Bx\\rVert}{\\lVert x\\rVert}=\\lVert A\\rVert \\lVert B\\rVert$\n",
    "  \n",
    " $\\qquad$ 综上可知结论成立；"
   ]
  },
  {
   "cell_type": "markdown",
   "metadata": {},
   "source": [
    "### 3、\n",
    "证明：（1）对于矩阵的最大范数$$\\quad$$\n",
    "$\\quad$ 取 $x = (1, 0, 1)^T$ ，$A = \\begin{bmatrix}\n",
    "0.5 & 0 & 0.6\\\\\n",
    "0 & 0.1 & 0 \\\\\n",
    "0 & 0 &0\n",
    "\\end{bmatrix}$ ,\n",
    "$ Ax = \\begin{bmatrix}\n",
    "1.1 \\\\\n",
    "0 \\\\\n",
    "0\n",
    "\\end{bmatrix}$，\n",
    "其中$\\lVert x\\rVert_{max} = 1，\\quad\\lVert A\\rVert_{max} = 0.6，\\quad\\lVert Ax\\rVert_{max} = 1$ $$\\quad$$\n",
    "$\\quad若其是算子算数，则由它的定义可知：\\quad\\lVert A\\rVert_{max}\\geqslant 1\\quad 这与 \\lVert A \\rVert_{max}=0.6\\quad矛盾；所以最大范数不是算子范数$\n"
   ]
  },
  {
   "cell_type": "markdown",
   "metadata": {},
   "source": [
    "### 5、\n",
    "$$\\quad$$\n",
    "证明： $\\quad$ 设 $x = (x_1,x_2,\\cdots,x_n)^T\\neq0$ ,不妨设 $A\\neq0$ .记\n",
    "$$\n",
    "t = \\lVert x\\rVert_\\infty = \\max\\limits_{1\\leq i\\leq n}|x_i|,\\quad\\mu = \\max\\limits_{1\\leq i\\leq n}\\sum_{j = 1}^n|a_ij|\n",
    "$$\n",
    "则\n",
    "$$\n",
    "\\lVert Ax\\rVert_\\infty = \\max\\limits_{1\\leq i\\leq n}|\\sum_{j = 1}^na_{ij}x_j\\;|\\leq \\max\\limits_{1\\leq i\\leq n}\\sum_{j = 1}^n|a_ij||x_j|\\leq t \\max_i\\sum_{j = 1}^n|a_{ij}|\n",
    "$$\n",
    "这就说明对任意的非零 $x\\in R^n$ ,有\n",
    "$$\n",
    "\\frac{\\lVert Ax\\rVert_\\infty}{\\lVert x\\rVert_\\infty}\\leq\\mu\n",
    "$$\n",
    "下面来说明有一向量 $x_0\\neq0$ ,使 $\\frac{\\lVert Ax\\rVert_\\infty}{\\lVert x\\rVert_\\infty}  = \\mu$ .设 $\\mu = \\sum_{j = 1}^n|a_{i_0j}|$ ,取向量 $x = (x_1,x_2,\\cdots,x_n)^T$ ,其中 $x_j = sgn(a_{i_0j})(j = 1, 2, \\cdots, n)$ .\n",
    "$$\n",
    "\\quad\n",
    "$$\n",
    "显然 $\\lVert x_0\\rVert_\\infty = 1$ ,且 $Ax_0$ 的第 $i_0$ 个分量为 $\\sum_{i = 1}^na_{i_0j}x_j = \\sum_{j = 1}^n |a_{i_0j}|$ ,这说明\n",
    "$$\n",
    "\\lVert Ax_0\\rVert_\\infty = \\max_{1\\leq i\\leq n}|\\sum_{j = 1}^na_{ij}x_j\\;| = \\sum_{j = 1}^n|a_{i_0j}| = \\mu\n",
    "$$"
   ]
  },
  {
   "cell_type": "markdown",
   "metadata": {},
   "source": [
    "### 6、\n",
    "$$\\quad$$\n",
    "$\\left \\| A \\right \\|_1\\equiv\\max_{x\\neq0}\\frac{\\left \\| Ax \\right \\|_1}{\\left \\| x \\right \\|_1} = \\left \\| A^T \\right \\|_\\infty = \\max_j\\sum_i\\left|a_{ij}\\right|$ = 最大的绝对值列和\n",
    "证明 设$x=(x_1,x_2,\\cdots,x_n)^T\\neq 0,$ 不妨设$A\\neq 0.$ 记$t=max\\left|x_i\\right|, \\qquad \\mu =  \\max_j\\sum_i\\left|a_{ij}\\right|$,  则\n",
    "$$\\left \\| A \\right \\|_1 = \\max_j\\left|\\sum_ia_{ij}x_j\\right|\\le \\max_j\\sum_i\\left|a_{ij}\\right|\\left|x_j\\right| \\le t\\max_j\\sum_i\\left|a_{ij}\\right|\n",
    "$$\n",
    "这说明，对于任何非零$x$,有\n",
    "$$\\frac{\\left \\| Ax \\right \\|_1}{\\left \\| x \\right \\|_1}\\le\\mu\n",
    "$$\n",
    "下面说明有一向量$x_0\\neq0$, 使$\\frac{\\left \\| Ax \\right \\|_1}{\\left \\| x \\right \\|_1} = \\mu$.  设$\\mu = \\sum_i\\left|a_{ij_0}\\right|$,取向量\n",
    "$$x_0=(x_1,x_2,\\cdots,x_n)^T\n",
    "$$\n",
    "其中$$x_i = sgn(a_{ij_0}) \\qquad (i = 1,2,\\cdots,n)\n",
    "$$\n",
    "显然$\\left \\| x_0 \\right \\|_1 = 1$,$\\qquad$且$Ax_0$的第$j_0$个分量为$\\sum_ia_{ij_0}x_i = \\sum_i\\left|a_{ij_0}\\right|$,这说明\n",
    "$$\\left \\| Ax_0 \\right \\|_1 =  \\max_j\\sum_i\\left|a_{ij}x_i\\right| = \\sum_i\\left|a_{ij_0}\\right| = \\mu\n",
    " $$\n",
    "$$\\left \\| Ax_0 \\right \\|_1 =  \\max_j\\sum_i\\left|a_{ij}x_i\\right| = \\sum_i\\left|a_{ij_0}\\right| = \\mu\n",
    " $$\n",
    "故$$\\left \\| A \\right \\|_1\\equiv\\max_{x\\neq0}\\frac{\\left \\| Ax \\right \\|_1}{\\left \\| x \\right \\|_1} = \\left \\| A^T \\right \\|_\\infty = \\max_j\\sum_i\\left|a_{ij}\\right| = 最大的绝对值列和\n",
    "$$"
   ]
  },
  {
   "cell_type": "markdown",
   "metadata": {},
   "source": [
    "### 8、\n",
    "   由矩阵代数知识可知，AB和BA的特征值是一样的，所以命题成立\n",
    "  "
   ]
  },
  {
   "cell_type": "markdown",
   "metadata": {},
   "source": [
    "### 10、\n",
    "$$\n",
    "\\quad\n",
    "$$\n",
    "证明 首先，设 $\\lambda_1,\\lambda_2,\\cdots,\\lambda_n$ 是矩阵 $A^TA$ 的特征值。\n",
    "对于左边的不等式$$\\left \\| A \\right \\|_2^2 = \\lambda_{max}(A^TA) \\le \\lambda_1 + \\lambda_2 + \\cdots + \\lambda_n = tr(A^TA) = \\sum_i\\left| a_{i1} \\right|^2 + \\sum_i\\left| a_{i2} \\right|^2 + \\cdots + \\sum_i\\left| a_{in} \\right|^2 = \\sum_j\\sum_i\\left| a_{ij} \\right|^2 = \\sum_i\\sum_j\\left| a_{ij} \\right|^2 = \\sum_j\\left| a_{1j} \\right|^2 + \\sum_j\\left| a_{2j} \\right|^2 + \\cdots + \\sum_j\\left| a_{nj} \\right|^2 \\le n \\max_j\\left(\\sum_i\\left| a_{ij}\\right)| \\right)^2 = n\\left \\| A \\right \\|_1^2\n",
    "$$\n",
    "所以$$n^{-1/2}\\left \\| A \\right \\|_2 \\le\\left \\| A \\right \\|_1\n",
    "$$对于右边的不等式$$\\left \\| A \\right \\|_1^2 = \\max_j\\left(\\sum_i\\left| a_{ij}\\right|\\right)^2 \\le \\sum_j\\left| a_{1j} \\right|^2 + \\sum_j\\left| a_{2j} \\right|^2 + \\cdots + \\sum_j\\left| a_{nj} \\right|^2 = \\sum_i\\sum_j\\left| a_{ij} \\right|^2 = \\sum_j\\sum_i\\left| a_{ij} \\right|^2 = \\sum_i\\left| a_{i1} \\right|^2 + \\sum_i\\left| a_{i2} \\right|^2 + \\cdots + \\sum_i\\left| a_{in} \\right|^2 = tr(A^TA) = \\lambda_1 + \\lambda_2 + \\cdots + \\lambda_n \\le n\\lambda_{max}(A^TA) = n\\left \\| A \\right \\|_2^2\n",
    "$$ \n",
    "所以$$\\left \\| A \\right \\|_1\\le n^{1/2}\\left \\| A \\right \\|_2\n",
    "$$\n",
    "故$$n^{-1/2}\\left \\| A \\right \\|_2 \\le\\left \\| A \\right \\|_1\\le n^{1/2}\\left \\| A \\right \\|_2\n",
    "$$"
   ]
  },
  {
   "cell_type": "markdown",
   "metadata": {},
   "source": [
    "### 11\n",
    "$$\n",
    "\\quad\n",
    "$$\n",
    "证明 : $\\quad$首先，定义 $\\lambda_1,\\lambda_2,\\cdots,\\lambda_n$ 是矩阵 $A^TA$ 的特征值。\n",
    "$$\n",
    "\\quad\n",
    "$$\n",
    "对于左边的不等式，有\n",
    "$$\n",
    "\\lVert A\\rVert_2^2 = \\max_{1\\leq i\\leq n}\\lambda_i(A^TA)\\leq \\lambda_1(A^TA) + \\lambda_2(A^TA) + \\cdots + \\lambda_n(A^TA) \\\\= tr(A^TA) = \\sum_{i=1}^n|a_{i1}|^2 +\\sum_{i=1}^n|a_{i2}|^2 + \\cdots +\\sum_{i=1}^n|a_{in}|^2   \\\\ =\\sum_{i=1}^n\\sum_{j=1}^n|a_{ij}|^2 = \\sum_{j=1}^n|a_{1j}|^2 +\\sum_{j=1}^n|a_{2j}|^2 + \\cdots +\\sum_{j=1}^n|a_{nj}|^2 \\\\\\leq n \\max\\limits_j \\left( \\sum_{i = 1}^n |a_{ij}| \\right)^2 = n\\lVert A\\rVert_\\infty^2\n",
    "$$\n",
    "即： $n^{\\frac{-1}{2}}\\lVert A\\rVert_2 \\leq \\lVert A\\rVert_\\infty$\n",
    "对于右边的不等式，我们有\n",
    "$$\n",
    "\\lVert A\\rVert_\\infty^2 =  \\max\\limits_j \\left( \\sum_{i = 1}^n |a_{ij}| \\right) ^2 \\leq\\sum_{j=1}^n|a_{1j}|^2 +\\sum_{j=1}^n|a_{2j}|^2 + \\cdots +\\sum_{j=1}^n|a_{nj}|^2 \\\\=\\sum_{j=1}^n\\sum_{i=1}^n|a_{ij}|^2 = \\sum_{i=1}^n|a_{i1}|^2 +\\sum_{i=1}^n|a_{i2}|^2 + \\cdots +\\sum_{i=1}^n|a_{in}|^2 \\\\ = tr(A^TA) = \\lambda_1(A^TA) + \\lambda_2(A^TA) + \\cdots + \\lambda_n(A^TA)\\\\ \\leq n \\max_{1\\leq i\\leq n}\\lambda_i(A^TA) = n\\lVert A\\rVert_2^2\n",
    "$$\n",
    "即： $\\lVert A\\rVert_\\infty \\leq n^{\\frac{1}{2}}\\lVert A\\rVert_2$\n",
    "故\n",
    "$$\n",
    "n^{\\frac{-1}{2}}\\lVert A\\rVert_2 \\leq\\lVert A\\rVert_\\infty \\leq n^{\\frac{1}{2}}\\lVert A\\rVert_2\n",
    "$$"
   ]
  },
  {
   "cell_type": "markdown",
   "metadata": {},
   "source": [
    "### 12、\n",
    "$$\n",
    "\\quad\n",
    "$$\n",
    "证明:\n",
    "对于右边的不等式$$\\left \\| A \\right \\|_1 = \\max_j\\sum_i\\left| a_{ij} \\right| \\le \\sum_i\\left| a_{i1} \\right| + \\sum_i\\left| a_{i2} \\right| + \\cdots + \\sum_i\\left| a_{in} \\right| = \\sum_j\\sum_i\\left| a_{ij} \\right| = \\sum_i\\sum_j\\left| a_{ij} \\right| = \\sum_j\\left| a_{1j} \\right| + \\sum_j\\left| a_{2j} \\right| + \\cdots + \\sum_j\\left| a_{nj} \\right| \\le n \\max_i\\sum_j\\left| a_{ij}\\right| =  n\\left \\| A \\right \\|_\\infty\n",
    "$$\n",
    "对于左边的不等式$$\\left \\| A \\right \\|_\\infty = \\max_i\\sum_j\\left| a_{ij}\\right| \\le \\sum_j\\left| a_{1j} \\right| + \\sum_j\\left| a_{2j} \\right| + \\cdots + \\sum_j\\left| a_{nj} \\right| = \\sum_i\\sum_j\\left| a_{ij} \\right| = \\sum_j\\sum_i\\left| a_{ij} \\right| = \\sum_i\\left| a_{i1} \\right| + \\sum_i\\left| a_{i2} \\right| + \\cdots + \\sum_i\\left| a_{in} \\right|\\le n \\max_j\\sum_i\\left| a_{ij}\\right| = n\\left \\| A \\right \\|_1\n",
    "$$ \n",
    "所以$$n^{-1}\\left \\| A \\right \\|_\\infty \\le\\left \\| A \\right \\|_1\n",
    "$$\n",
    "故$$n^{-1}\\left \\| A \\right \\|_\\infty \\le\\left \\| A \\right \\|_1\\le n\\left \\| A \\right \\|_\\infty\n",
    "$$"
   ]
  },
  {
   "cell_type": "markdown",
   "metadata": {},
   "source": [
    "### 13、 \n",
    "$$\n",
    "\\quad\n",
    "$$\n",
    "证明：$\\quad$有定义可以知道 \n",
    "$$\n",
    "\\lVert A\\rVert_1^2 = \\max\\limits_i\\sum_{j = 1}^n |a_{ij}|\n",
    "$$\n",
    "因此\n",
    "$$\n",
    "\\lVert A\\rVert_1^2 = \\max\\limits_i\\sum_{j = 1}^n |a_{ij}|\\leq\\sum_{i=1}^n|a_{i1}|^2 +\\sum_{i=1}^n|a_{i2}|^2 + \\cdots +\\sum_{i=1}^n|a_{in}|^2 = \\sum_{i = 1}^n\\sum_{j = 1}^n|a_{ij}|^2 = \\lVert A\\rVert_F^2\n",
    "$$\n",
    "即： $\\lVert A\\rVert_1 \\leq\\lVert A\\rVert_F$\n",
    "$$\n",
    "\\quad\n",
    "$$\n",
    "对于右边的不等式，定义 $\\lambda_1,\\lambda_2,\\cdots,\\lambda_n$ 是矩阵 $A$ 的特征值，那么有\n",
    "$$\n",
    "\\lVert A\\rVert_F^2 =  \\sum_{i = 1}^n\\sum_{j = 1}^n|a_{ij}|^2 = \\sum_{i=1}^n|a_{i1}|^2 +\\sum_{i=1}^n|a_{i2}|^2 + \\cdots +\\sum_{i=1}^n|a_{in}|^2 \\\\ = tr(A^TA) = \\lambda_1(A^TA) + \\lambda_2(A^TA) + \\cdots + \\lambda_n(A^TA)\\\\\\leq n \\max_{1\\leq i\\leq n}\\lambda_i(A^TA) = n\\lVert A\\rVert_2^2\n",
    "$$\n",
    "即： $\\lVert A\\rVert_F \\leq n^{\\frac{1}{2}}\\lVert A\\rVert_2$\n",
    "$$\n",
    "\\quad\n",
    "$$\n",
    "故\n",
    "$$\n",
    "\\lVert A\\rVert_1 \\leq\\lVert A\\rVert_F \\leq n^{\\frac{1}{2}}\\lVert A\\rVert_2\n",
    "$$"
   ]
  },
  {
   "cell_type": "code",
   "execution_count": null,
   "metadata": {
    "collapsed": true
   },
   "outputs": [],
   "source": []
  },
  {
   "cell_type": "code",
   "execution_count": null,
   "metadata": {
    "collapsed": true
   },
   "outputs": [],
   "source": []
  }
 ],
 "metadata": {
  "kernelspec": {
   "display_name": "Python 3",
   "language": "python",
   "name": "python3"
  },
  "language_info": {
   "codemirror_mode": {
    "name": "ipython",
    "version": 3
   },
   "file_extension": ".py",
   "mimetype": "text/x-python",
   "name": "python",
   "nbconvert_exporter": "python",
   "pygments_lexer": "ipython3",
   "version": "3.6.1"
  }
 },
 "nbformat": 4,
 "nbformat_minor": 2
}
