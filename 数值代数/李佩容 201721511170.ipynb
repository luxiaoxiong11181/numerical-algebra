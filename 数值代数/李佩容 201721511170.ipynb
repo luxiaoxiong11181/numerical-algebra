{
 "cells": [
  {
   "cell_type": "markdown",
   "metadata": {},
   "source": [
    "1、证明：由于$\\left\\|A\\right\\|=\\max_{x\\ne 0}\\frac{\\left\\|Ax\\right\\|}{\\left\\|x\\right\\|}$\n",
    "则：$$\\left\\|A\\right\\|\\ge\\frac{\\left\\|Ax\\right\\|}{\\left\\|x\\right\\|}$$\n",
    "从而：$$\\left\\|A\\right\\|\\cdot\\left\\|x\\right\\|\\ge\\left\\|Ax\\right\\|$$"
   ]
  },
  {
   "cell_type": "markdown",
   "metadata": {},
   "source": [
    "2、证明：由1、知：$$\\left\\|ABx\\right\\|=\\left\\|A(Bx)\\right\\|\\le\\left\\|A\\right\\|\\cdot\\left\\|Bx\\right\\|\\le\\left\\|A\\right\\|\\cdot\\left\\|B\\right\\|\\cdot\\left\\|x\\right\\|$$\n",
    "从而：$$\\frac{\\left\\|ABx\\right\\|}{\\left\\|x\\right\\|}\\le\\left\\|A\\right\\|\\cdot\\left\\|B\\right\\|$$\n",
    "又有：$$\\left\\|AB\\right\\|=\\max_{x\\ne 0}\\frac{\\left\\|ABx\\right\\|}{\\left\\|x\\right\\|}$$\n",
    "则：$$\\left\\|AB\\right\\|\\le\\left\\|A\\right\\|\\cdot\\left\\|B\\right\\|$$"
   ]
  },
  {
   "cell_type": "markdown",
   "metadata": {
    "collapsed": true
   },
   "source": [
    "3、弗罗贝尔乌斯范数不是算子范数。\n",
    "证明：对于任意 $x\\ne 0$，$$\\left\\|E\\right\\|=\\max_{x\\ne 0}\\frac{\\left\\|Ex\\right\\|}{\\left\\|x\\right\\|}$$\n",
    "而：$$\\frac{\\left\\|Ex\\right\\|}{\\left\\|x\\right\\|}=\\frac{\\left\\|x\\right\\|}{\\left\\|x\\right\\|}=1$$\n",
    "故：$$\\left\\|E\\right\\|=1$$\n",
    "但是：$$\\left\\|E\\right\\|_{F}=\\sqrt{\\sum_{i=1}^n 1^2}=\\sqrt{n}\\ne 1$$\n",
    "所以：弗罗贝尔乌斯范数不是算子范数。"
   ]
  },
  {
   "cell_type": "markdown",
   "metadata": {},
   "source": [
    "4、 证明：首先证明$\\forall A \\in C^{m\\times n}$成立：\n",
    "$$\\left \\| A \\right \\|_F^2 = tr(A^HA) = tr(AA^H)$$\n",
    "事实上 $A^HA$的$i$行$i$列的元素为：\n",
    "$$\\sum_{k=1}^m \\overline{a_{ki}}a_{ki} = \\sum_{k=1}^m\\left|a_{ki}\\right|^2$$\n",
    "因此：$$tr(A^HA) = \\sum_{i=1}^n\\sum_{k=1}^m\\left|a_{ki}\\right|^2 = \\left \\| A \\right \\|_F^2$$\n",
    "于是：$$\\left \\| A \\right \\|_F^2 = \\left \\| A^H \\right \\|_F^2 = tr((A^H)^HA^H) = tr(AA^H)$$\n",
    "下证：当Q和Z是酉阵时（正交阵同理可证），对Frobenius范数满足：\n",
    "$$\\left \\| QAZ \\right \\|_F=\\left \\| A \\right \\|_F$$ 因为\n",
    "$$\\left \\| QAZ \\right \\|_F^2 = tr((QAZ)^H(QAZ)) = tr(Z^HA^HQ^HQAZ) = tr(Z^HA^HAZ) = tr(A^HA) = \\left \\| A \\right \\|_F^2\n",
    "$$\n",
    "故：$$\\left \\| QAZ \\right \\|_F=\\left \\| A \\right \\|_F$$\n",
    "证明：当Q和Z是酉阵时（正交阵同理可证），对由$\\left \\| \\cdot  \\right \\|_2$导出的算子范数成立\n",
    "$$\\left \\| QAZ \\right \\|_2=\\left \\| A \\right \\|_2$$\n",
    "因为：$$\\left \\| QAZ \\right \\|_2 = \\sqrt{\\lambda_{max}((QAZ)^H(QAZ))} =\\sqrt{\\lambda_{max}(Z^HA^HQ^HQAZ)} = \\sqrt{\\lambda_{max}(Z^HA^HAZ)} = \\sqrt{\\lambda_{max}(A^HA)} = \\left \\| A \\right \\|_2$$ 故：\n",
    "$$\\left \\| QAZ \\right \\|_2=\\left \\| A \\right \\|_2$$"
   ]
  },
  {
   "cell_type": "markdown",
   "metadata": {},
   "source": [
    "5、证明：设$x=(x_{1},x_{2},\\cdots,x_{n})^{T},A=(\\alpha_{1},\\alpha_{2},\\cdots,\\alpha_{n})$\n",
    "则：$$\\left\\|Ax\\right\\|_{\\infty}=\\left\\|x_{1}\\alpha_{1}+x_{2}\\alpha_{2}+\\cdots+x_{n}\\alpha_{n}\\right\\|_{\\infty}\n",
    "=\\max_{i}\\left|\\sum_{j=1}^n a_{ij}x_{j}\\right |\n",
    "\\le\\max_{i}\\sum_{j=1}^n \\left|a_{ij}\\right| \\left|x_{j}\\right |\n",
    "\\le\\max_{i}\\left|x_{i}\\right|\\cdot\\max_{i}\\sum_{j=1}^n \\left|a_{ij}\\right|\n",
    "=\\left\\|x\\right\\|_{\\infty}\\cdot\\max_{i}\\sum_{j=1}^n \\left|a_{ij}\\right|$$\n",
    "从而有：$$\\frac{\\left\\|Ax\\right\\|_{\\infty}}{\\left\\|x\\right\\|_{\\infty}}\\le\\max_{i}\\sum_{j=1}^n \\left|a_{ij}\\right|$$\n",
    "故：$$\\left\\|A\\right\\|_{\\infty}=\\max_{x\\ne 0}\\frac{\\left\\|Ax\\right\\|_{\\infty}}{\\left\\|x\\right\\|_{\\infty}}\\le\\max_{i}\\sum_{j=1}^n \\left|a_{ij}\\right|$$\n",
    "又设：$$\\max_{i}\\sum_{j=1}^n \\left|a_{ij}\\right|=\\sum_{j=1}^n a_{rj}$$\n",
    "取$x_{r}=(0,0,\\cdots,1,0,\\cdots,0)^{T}$,第r个位置为1。\n",
    "则：$$\\left\\|x_{r}\\right\\|_{\\infty}=1$$\n",
    "且：$$\\left\\|A\\right\\|_{\\infty}\\ge\\left\\|Ax_{r}\\right\\|_{\\infty}=\\sum_{j=1}^n a_{rj}=\\max_{i}\\sum_{j=1}^n \\left|a_{ij}\\right|$$\n",
    "故：$$\\left\\|A\\right\\|_{\\infty}=\\max_{i}\\sum_{j=1}^n \\left|a_{ij}\\right|$$"
   ]
  },
  {
   "cell_type": "markdown",
   "metadata": {},
   "source": [
    "6、证明：设 $A=(\\alpha_{1},\\alpha_{2},\\cdots,\\alpha_{n}),x=(x_{1},x_{2},\\cdots,x_{n})^{T}$\n",
    "则：$$\\left\\|Ax\\right\\|_{1}=\\left\\|x_{1}\\alpha_{1}+x_{2}\\alpha_{2}+\\cdots+x_{n}\\alpha_{n}\\right\\|_{1}\n",
    "\\le\\left|x_{1}\\right|\\cdot\\left\\|\\alpha_{1}\\right\\|_{1}+\\left|x_{2}\\right|\\cdot\\left\\|\\alpha_{2}\\right\\|_{1}+\\cdots+\\left|x_{n}\\right|\\cdot\\left\\|\\alpha_{n}\\right\\|_{1}\n",
    "\\le(\\left|x_{1}\\right|+\\left|x_{2}\\right|+\\cdots+\\left|x_{n}\\right|)\\cdot\\max_{j}\\left\\|\\alpha_{j}\\right\\|_{1}\n",
    "=\\left\\|x\\right\\|_{1}\\cdot\\max_{j}\\left\\|\\alpha_{j}\\right\\|_{1}$$\n",
    "故：$$\\frac{\\left\\|Ax\\right\\|_{1}}{\\left\\|x\\right\\|_{1}}\\le\\max_{j}\\left\\|\\alpha_{j}\\right\\|_{1}$$\n",
    "又有：$$\\left\\|A\\right\\|_{1}=\\max_{x\\ne 0}\\frac{\\left\\|Ax\\right\\|_{1}}{\\left\\|x\\right\\|_{1}}$$\n",
    "从而：$$\\left\\|A\\right\\|_{1}\\le\\max_{j}\\left\\|\\alpha_{j}\\right\\|_{1}$$\n",
    "又设：$$\\max_{j}\\left\\|\\alpha_{j}\\right\\|_{1}=\\sum_{i=1}^m a_{ir}$$\n",
    "取$x_{r}=(0,0,\\cdots,1,0,\\cdots,0)^{T}$,第r个位置为1。\n",
    "则：$$\\left\\|x_{r}\\right\\|_{1}=1$$\n",
    "且：$$\\left\\|A\\right\\|_{1}\\ge\\left\\|Ax_{r}\\right\\|_{1}=\\sum_{i=1}^m a_{ir}=\\max_{j}\\left\\|\\alpha_{j}\\right\\|_{1}$$\n",
    "故：$$\\left\\|A\\right\\|_{1}=\\max_{j}\\left\\|\\alpha_{j}\\right\\|_{1}$$"
   ]
  },
  {
   "cell_type": "markdown",
   "metadata": {},
   "source": [
    "8、证明：首先证明:若 A 和 B都是$n\\times n$阶矩阵，则AB和BA有相同的特征值\n",
    "$\\quad$设$\\lambda$是AB的一个特征值，$X$是对应于$\\lambda$的一个特征向量.则:$$\\quad(AB)X = \\lambda X\\quad \\quad$$等式两边左乘B.$\\quad$得到\n",
    "$$BA(BX) = \\lambda(BX)$$\n",
    "当：$BX = 0$时，$\\lambda X = A(BX) = 0$,而：$X\\neq 0$,则：$\\lambda = 0$,于是：\n",
    "$$\\left| AB -0E \\right| = \\left| AB \\right| = \\left| BA \\right| = \\left| BA -0E \\right| = 0$$\n",
    "所以：$\\lambda = 0$ 是BA的特征值\n",
    "当：$BX \\neq 0$时，由定义有非零向量$BX$就是$BA$对应于特征值$\\lambda$的特征向量，所以：$\\lambda$也是$BA$的特征值\n",
    "故：$$\\left \\| A \\right \\|_2 = \\sqrt{\\lambda_{max}(A^TA)} =\\sqrt{\\lambda_{max}(AA^T)} = \\left \\| A^T\\right \\|_2$$"
   ]
  },
  {
   "cell_type": "markdown",
   "metadata": {},
   "source": [
    "9、证明： $A$ 是正规阵，必然存在酉阵 $Q$ 满足 $Q^\\prime *A*Q = D$ , $D$ 为对角阵且对角线的元素都是 $A$ 的特征值。记 $D = diag{{\\lambda_1, \\lambda_2, \\cdots, \\lambda_n}}$ 满足 $|\\lambda_1|\\geq|\\lambda_2|\\geq\\cdots\\geq|\\lambda_n|$ ，则 $|\\lambda_1|$ 为 $A$ 的最大的特征值。$$\n",
    "\\quad$$ \n",
    "令 $x_1$为 $\\lambda_1$ 对应的右特征向量，满足 $A*x_1 = \\lambda_1*x_1$ ,必然有： $\\frac{{\\lVert A*x_1\\rVert}_2}{{\\lVert x_1\\rVert}_2} = |\\lambda_1|{\\geq\\lVert A\\rVert}_2$ \n",
    "$$\\quad$$\n",
    "令 $y_1$ 为 $\\lVert A\\rVert_2$ 对应的单位向量，即： $\\lVert y_1\\rVert_2 = 1$ 且 $\\lVert A\\rVert_1 = \\lVert A*y_1\\rVert_2$ . $y_1$可以被 $Q$ 线性表出为 $y_1 = Q*z_1$ ,且 $z_1$ 也为单位向量。那么不难得出：\n",
    "$$\\lVert A\\rVert_2 = \\lVert A*y_1\\rVert_2 = \\lVert A*Q*z_1\\rVert_2 = \\lVert Q*z_1\\rVert_2 \\leq|\\lambda_1|$$\n",
    "即： $\\lVert A\\rVert_2 = \\max\\limits_i|\\lambda_i(A)|$"
   ]
  },
  {
   "cell_type": "markdown",
   "metadata": {},
   "source": [
    "10、证明：首先，设 $\\lambda_1,\\lambda_2,\\cdots,\\lambda_n$ 是矩阵 $A^TA$ 的特征值。\n",
    " 对于左边的不等式$$\\left \\| A \\right \\|_2^2 = \\lambda_{max}(A^TA) \\le \\lambda_1 + \\lambda_2 + \\cdots + \\lambda_n = tr(A^TA) = \\sum_i\\left| a_{i1} \\right|^2 + \\sum_i\\left| a_{i2} \\right|^2 + \\cdots + \\sum_i\\left| a_{in} \\right|^2 = \\sum_j\\sum_i\\left| a_{ij} \\right|^2 = \\sum_i\\sum_j\\left| a_{ij} \\right|^2 = \\sum_j\\left| a_{1j} \\right|^2 + \\sum_j\\left| a_{2j} \\right|^2 + \\cdots + \\sum_j\\left| a_{nj} \\right|^2 \\le n \\max_j\\left(\\sum_i\\left| a_{ij}\\right)| \\right)^2 = n\\left \\| A \\right \\|_1^2\n",
    "$$\n",
    "所以:$$n^{-1/2}\\left \\| A \\right \\|_2 \\le\\left \\| A \\right \\|_1\n",
    "$$\n",
    "对于右边的不等式$$\\left \\| A \\right \\|_1^2 = \\max_j\\left(\\sum_i\\left| a_{ij}\\right|\\right)^2 \\le \\sum_j\\left| a_{1j} \\right|^2 + \\sum_j\\left| a_{2j} \\right|^2 + \\cdots + \\sum_j\\left| a_{nj} \\right|^2 = \\sum_i\\sum_j\\left| a_{ij} \\right|^2 = \\sum_j\\sum_i\\left| a_{ij} \\right|^2 = \\sum_i\\left| a_{i1} \\right|^2 + \\sum_i\\left| a_{i2} \\right|^2 + \\cdots + \\sum_i\\left| a_{in} \\right|^2 = tr(A^TA) = \\lambda_1 + \\lambda_2 + \\cdots + \\lambda_n \\le n\\lambda_{max}(A^TA) = n\\left \\| A \\right \\|_2^2\n",
    "$$ \n",
    "所以：$$\\left \\| A \\right \\|_1\\le n^{1/2}\\left \\| A \\right \\|_2\n",
    "$$\n",
    "故：$$n^{-1/2}\\left \\| A \\right \\|_2 \\le\\left \\| A \\right \\|_1\\le n^{1/2}\\left \\| A \\right \\|_2\n",
    "$$"
   ]
  },
  {
   "cell_type": "markdown",
   "metadata": {},
   "source": [
    "11、证明 : $\\quad$首先，定义 $\\lambda_1,\\lambda_2,\\cdots,\\lambda_n$ 是矩阵 $A^TA$ 的特征值。\n",
    "$$\n",
    "\\quad\n",
    "$$\n",
    "对于左边的不等式，有\n",
    "$$\n",
    "\\lVert A\\rVert_2^2 = \\max_{1\\leq i\\leq n}\\lambda_i(A^TA)\\leq \\lambda_1(A^TA) + \\lambda_2(A^TA) + \\cdots + \\lambda_n(A^TA) \\\\= tr(A^TA) = \\sum_{i=1}^n|a_{i1}|^2 +\\sum_{i=1}^n|a_{i2}|^2 + \\cdots +\\sum_{i=1}^n|a_{in}|^2   \\\\ =\\sum_{i=1}^n\\sum_{j=1}^n|a_{ij}|^2 = \\sum_{j=1}^n|a_{1j}|^2 +\\sum_{j=1}^n|a_{2j}|^2 + \\cdots +\\sum_{j=1}^n|a_{nj}|^2 \\\\\\leq n \\max\\limits_j \\left( \\sum_{i = 1}^n |a_{ij}| \\right)^2 = n\\lVert A\\rVert_\\infty^2\n",
    "$$\n",
    "即： $n^{\\frac{-1}{2}}\\lVert A\\rVert_2 \\leq \\lVert A\\rVert_\\infty$\n",
    "对于右边的不等式，我们有\n",
    "$$\n",
    "\\lVert A\\rVert_\\infty^2 =  \\max\\limits_j \\left( \\sum_{i = 1}^n |a_{ij}| \\right) ^2 \\leq\\sum_{j=1}^n|a_{1j}|^2 +\\sum_{j=1}^n|a_{2j}|^2 + \\cdots +\\sum_{j=1}^n|a_{nj}|^2 \\\\=\\sum_{j=1}^n\\sum_{i=1}^n|a_{ij}|^2 = \\sum_{i=1}^n|a_{i1}|^2 +\\sum_{i=1}^n|a_{i2}|^2 + \\cdots +\\sum_{i=1}^n|a_{in}|^2 \\\\ = tr(A^TA) = \\lambda_1(A^TA) + \\lambda_2(A^TA) + \\cdots + \\lambda_n(A^TA)\\\\ \\leq n \\max_{1\\leq i\\leq n}\\lambda_i(A^TA) = n\\lVert A\\rVert_2^2\n",
    "$$\n",
    "即： $\\lVert A\\rVert_\\infty \\leq n^{\\frac{1}{2}}\\lVert A\\rVert_2$\n",
    "故\n",
    "$$\n",
    "n^{\\frac{-1}{2}}\\lVert A\\rVert_2 \\leq\\lVert A\\rVert_\\infty \\leq n^{\\frac{1}{2}}\\lVert A\\rVert_2\n",
    "$$"
   ]
  },
  {
   "cell_type": "markdown",
   "metadata": {},
   "source": [
    "12、证明：\n",
    " 对于右边的不等式$$\\left \\| A \\right \\|_1 = \\max_j\\sum_i\\left| a_{ij} \\right| \\le \\sum_i\\left| a_{i1} \\right| + \\sum_i\\left| a_{i2} \\right| + \\cdots + \\sum_i\\left| a_{in} \\right| = \\sum_j\\sum_i\\left| a_{ij} \\right| = \\sum_i\\sum_j\\left| a_{ij} \\right| = \\sum_j\\left| a_{1j} \\right| + \\sum_j\\left| a_{2j} \\right| + \\cdots + \\sum_j\\left| a_{nj} \\right| \\le n \\max_i\\sum_j\\left| a_{ij}\\right| =  n\\left \\| A \\right \\|_\\infty\n",
    "$$\n",
    " 对于左边的不等式$$\\left \\| A \\right \\|_\\infty = \\max_i\\sum_j\\left| a_{ij}\\right| \\le \\sum_j\\left| a_{1j} \\right| + \\sum_j\\left| a_{2j} \\right| + \\cdots + \\sum_j\\left| a_{nj} \\right| = \\sum_i\\sum_j\\left| a_{ij} \\right| = \\sum_j\\sum_i\\left| a_{ij} \\right| = \\sum_i\\left| a_{i1} \\right| + \\sum_i\\left| a_{i2} \\right| + \\cdots + \\sum_i\\left| a_{in} \\right|\\le n \\max_j\\sum_i\\left| a_{ij}\\right| = n\\left \\| A \\right \\|_1\n",
    "$$ \n",
    " 所以：$$n^{-1}\\left \\| A \\right \\|_\\infty \\le\\left \\| A \\right \\|_1\n",
    "$$\n",
    " 故：$$n^{-1}\\left \\| A \\right \\|_\\infty \\le\\left \\| A \\right \\|_1\\le n\\left \\| A \\right \\|_\\infty\n",
    "$$"
   ]
  },
  {
   "cell_type": "markdown",
   "metadata": {},
   "source": [
    "13、 证明：$\\quad$有定义可以知道 \n",
    "$$\n",
    "\\lVert A\\rVert_1^2 = \\max\\limits_i\\sum_{j = 1}^n |a_{ij}|\n",
    "$$\n",
    "因此:\n",
    "$$\n",
    "\\lVert A\\rVert_1^2 = \\max\\limits_i\\sum_{j = 1}^n |a_{ij}|\\leq\\sum_{i=1}^n|a_{i1}|^2 +\\sum_{i=1}^n|a_{i2}|^2 + \\cdots +\\sum_{i=1}^n|a_{in}|^2 = \\sum_{i = 1}^n\\sum_{j = 1}^n|a_{ij}|^2 = \\lVert A\\rVert_F^2\n",
    "$$\n",
    "即： $\\lVert A\\rVert_1 \\leq\\lVert A\\rVert_F$\n",
    "$$\n",
    "\\quad\n",
    "$$\n",
    "对于右边的不等式，定义 $\\lambda_1,\\lambda_2,\\cdots,\\lambda_n$ 是矩阵 $A$ 的特征值，那么有\n",
    "$$\n",
    "\\lVert A\\rVert_F^2 =  \\sum_{i = 1}^n\\sum_{j = 1}^n|a_{ij}|^2 = \\sum_{i=1}^n|a_{i1}|^2 +\\sum_{i=1}^n|a_{i2}|^2 + \\cdots +\\sum_{i=1}^n|a_{in}|^2 \\\\ = tr(A^TA) = \\lambda_1(A^TA) + \\lambda_2(A^TA) + \\cdots + \\lambda_n(A^TA)\\\\\\leq n \\max_{1\\leq i\\leq n}\\lambda_i(A^TA) = n\\lVert A\\rVert_2^2\n",
    "$$\n",
    "即： $\\lVert A\\rVert_F \\leq n^{\\frac{1}{2}}\\lVert A\\rVert_2$\n",
    "$$\n",
    "\\quad\n",
    "$$\n",
    "故:\n",
    "$$\n",
    "\\lVert A\\rVert_1 \\leq\\lVert A\\rVert_F \\leq n^{\\frac{1}{2}}\\lVert A\\rVert_2\n",
    "$$"
   ]
  },
  {
   "cell_type": "code",
   "execution_count": null,
   "metadata": {
    "collapsed": true
   },
   "outputs": [],
   "source": []
  }
 ],
 "metadata": {
  "kernelspec": {
   "display_name": "Python 3",
   "language": "python",
   "name": "python3"
  },
  "language_info": {
   "codemirror_mode": {
    "name": "ipython",
    "version": 3
   },
   "file_extension": ".py",
   "mimetype": "text/x-python",
   "name": "python",
   "nbconvert_exporter": "python",
   "pygments_lexer": "ipython3",
   "version": "3.6.1"
  }
 },
 "nbformat": 4,
 "nbformat_minor": 2
}
