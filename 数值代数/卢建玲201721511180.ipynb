{
 "cells": [
  {
   "cell_type": "markdown",
   "metadata": {},
   "source": [
    "引理1.7:\n",
    "1.证明：令$A$为$m\\times{n}$的矩阵,$x$为$n\\times{1}$的向量,则\n",
    "\n",
    "$\\left( 1 \\right)$当$x=0$时，不等式显然成立。当$x\\ne$0时，由定义1.9得\n",
    "\n",
    "$$\\left\\|A\\right\\|_{mn}\\equiv\\max\\frac{\\left\\|Ax\\right\\|_m}{\\left\\|x\\right\\|_n}$$\n",
    "\n",
    "得$$\\frac{\\left\\|Ax\\right\\|_m}{\\left\\|x\\right\\|_n}\\le\\left\\|A\\right\\|_{mn}$$\n",
    "\n",
    "故$$\\left\\|Ax\\right\\|_m\\le\\left\\|A\\right\\|_{mn}\\left\\|x\\right\\|_n$$\n",
    "\n",
    "$\\left( 2 \\right)$ $$\\left\\|Ax\\right\\|_2^2=\\sum_{i=1}^m\\left| \\sum_{j=1}^na_{ij}x_j\\right|^2\\le\\sum_{i=1}^m \\sum_{j=1}^n\\left|a_{ij}\\right|^2\\sum_{j=1}^n\\left| x_j\\right|^2=\\left\\|A\\right\\|_F^2\\left\\|x\\right\\|_2^2$$\n",
    "\n",
    "故$$\\left\\|Ax\\right\\|_2\\le\\left\\|A\\right\\|_F\\left\\|x\\right\\|_2$$\n",
    "\n",
    "证毕.\n"
   ]
  },
  {
   "cell_type": "markdown",
   "metadata": {},
   "source": [
    "2.证明：令$A$为$m\\times{n}$的矩阵,令$b$为$n\\times{p}$的矩阵,$x$为$p\\times{1}$的向量,则\n",
    "\n",
    "\n",
    "$\\left( 1 \\right)$ $$\\left\\|AB\\right\\|_{mp}\\equiv\\max\\frac{\\left\\|ABx\\right\\|_m}{\\left\\|x\\right\\|_p}\\le\\max\\frac{\\left\\|A\\right\\|_{mn}\\left\\|Bx\\right\\|_{n}}{\\left\\|x\\right\\|_p}=\\left\\|A\\right\\|_{mn}\\left\\|B\\right\\|_{n}$$\n",
    "\n",
    "$\\left( 2\\right)$ \n",
    "$$\n",
    "\\left\\|AB\\right\\|_F^2=\\sum_{i=1}^m\\sum_{k=1}^p\\left| \\sum_{j=1}^na_{ij}b_{jk}\\right|^2\\le\\sum_{i=1}^m\\left| \\sum_{j=1}^na_{ij}\\right|^2\\sum_{k=1}^p\\left| \\sum_{j=1}^nb_{jk}\\right|^2\\le\\sum\\left|a_{ij}\\right|\\sum\\left|b_{jk}\\right|=\\left\\|A\\right\\|_F^2\\left\\|B\\right\\|_F^2\n",
    "$$\n",
    "\n",
    "\n",
    "故$$\\left\\|AB\\right\\|_2\\le\\left\\|A\\right\\|_F\\left\\|B\\right\\|_F$$\n",
    "\n",
    "证毕."
   ]
  },
  {
   "cell_type": "markdown",
   "metadata": {},
   "source": [
    "3.举反例便可说明。\n",
    "\n",
    "$\\left( 1 \\right)$ \n",
    "$A=\\begin{pmatrix}1 & 1 \\\\2 & 1\\end{pmatrix}\n",
    "$ , $x=\\begin{pmatrix}2 \\\\ 1\\end{pmatrix}$, $Ax=\\begin{pmatrix}3 \\\\ 5\\end{pmatrix}$\n",
    "\n",
    "则$A的最大范数=max_{ij}\\left|a_{ij}\\right|=2$, $x的最大范数=max_i\\left|x_i\\right|=2$, $Ax的最大范数=max_i\\left|a_{ij}x_j\\right|=5$因此它们不满足算子范数的定义.\n",
    "\n",
    "$\\left( 2 \\right)$ \n",
    "由$\\left( 1 \\right)$知$\\left\\|A\\right\\|_F=\\sqrt{7},\\left\\|Ax\\right\\|_2=\\sqrt{34},\\left\\|x\\right\\|_2=\\sqrt{5}$, 显然它们不满足算子范数的定义."
   ]
  },
  {
   "cell_type": "markdown",
   "metadata": {},
   "source": [
    "4.证明：\n",
    "\n",
    "$\n",
    "因为对任意的A\\in C^{mn}有，\n",
    "$\n",
    "\n",
    "$$\n",
    "\\left\\|A\\right\\|_F^2=\\sum_{i=1}^m\\sum_{j=1}^n\\left|a_{ij}\\right|^2=\\sum_{j=1}^n\\sum_{i=1}^m\\left|a_{ij}\\right|^2=\\sum_{i=1}^m\\left|a_{i1}\\right|^2+\\sum_{i=1}^m\\left|a_{i2}\\right|^2+ \\cdots+\\sum_{i=1}^m\\left|a_{in}\\right|^2=tr\\left(A^*A\\right)=\\lambda_1\\left(A^*A\\right)+\\lambda_2\\left(A^*A\\right)+\\cdots+\\lambda_m\\left(A^*A\\right)=tr\\left(AA^*\\right).\n",
    "$$\n",
    "\n",
    "$当Q和Z是酉矩阵时，$\n",
    "\n",
    "$$\n",
    "\\left\\|QAZ\\right\\|_F^2=tr\\left(\\left(QAZ\\right)^*QAZ\\right)=tr\\left(Z^*A^*Q^*QAZ\\right)=tr\\left(Z^*A^*AZ\\right)=tr\\left(\\left(AZ\\right)^*AZ\\right)=tr\\left(AZ\\left(AZ\\right)^*\\right)=tr\\left(AZZ^*A^*\\right)=tr\\left(AA^*\\right)=\\left\\|A\\right\\|_F^2\n",
    "$$\n",
    "\n",
    "$得证\\left\\|QAZ\\right\\|_F=\\left\\|A\\right\\|_F.$\n",
    "\n",
    "$$\n",
    "\\left\\|QAZ\\right\\|_2=\\sqrt{\\lambda\\left(\\left(QAZ\\right)^*QAZ\\right)}=\\sqrt{\\lambda\\left(Z^*A^*Q^*QAZ\\right)}=\\sqrt{\\lambda\\left(A^*A\\right)}=\\left\\|A\\right\\|_2\n",
    "$$\n",
    "\n",
    "得证.\n",
    "\n",
    "$\n",
    "当Q和Z是正交阵时，同理可证.\n",
    "$"
   ]
  },
  {
   "cell_type": "markdown",
   "metadata": {},
   "source": [
    "5.证明：$$\\left\\|Ax\\right\\|_\\infty=max_i\\left|\\sum_{j=1}^na_{ij}x_j\\right|\\le\\max_i\\left\\{ \\sum_{j=1}^n\\left|a_{ij}\\right|\\left|x_j\\right|\\right\\}\\le\\max_i\\sum_{j=1}^n\\left|a_{ij}\\right|\\left\\|x\\right\\|_\\infty=\\left\\|A\\right\\|_\\infty\\left\\|x\\right\\|_\\infty$$\n",
    "\n",
    "所以\n",
    "$$\n",
    "\\frac{\\left\\|Ax\\right\\|_\\infty}{\\left\\|x\\right\\|_\\infty}\\le\\left\\|A\\right\\|_\\infty\n",
    "$$\n",
    "\n",
    "令$$\n",
    "t=\\sum_{j=1}^n\\left|a_{sj}\\right|=\\max_i\\sum_{j=1}^n\\left|a_{ij}\\right|\\qquad其中1\\le s\\le n\n",
    "$$\n",
    "\n",
    "记$a_{sj}=\\left|a_{sj}\\right|e^{i\\boldsymbol{\\theta}_j}\\left( j=1,2,\\cdots,n \\right)， z=\\left( e^{-i\\boldsymbol{\\theta}_1},\\cdots,e^{-i\\boldsymbol{\\theta}_n}\\right)^T,\\left\\|z\\right\\|_\\infty=1.$\n",
    "\n",
    "则$$\n",
    "\\left\\|Az\\right\\|_\\infty=\\max_i\\left|\\sum_{j=1}^na_{ij}e^{-i\\boldsymbol{\\theta}_j}\\right|\\ge\\max_i\\left|\\sum_{j=1}^na_{sj}e^{-i\\boldsymbol{\\theta}_j}\\right|=\\sum_{j=1}^n\\left|a_{sj}\\right|=t=t\\left\\| z \\right\\|_\\infty\n",
    "$$\n",
    "\n",
    "从而$$\n",
    "\\frac{\\left\\| Az \\right\\|_\\infty}{\\left\\| z \\right\\|_\\infty}\\ge t=\\left\\| A \\right\\|_\\infty\n",
    "$$\n",
    "\n",
    "所以$$\\left\\| A \\right\\|_\\infty=t=\\max_i\\sum_{j=1}^n\\left|a_{ij}\\right|$$\n",
    "\n",
    "证毕."
   ]
  },
  {
   "cell_type": "markdown",
   "metadata": {},
   "source": [
    "6.证明：$\n",
    "将A按列划分，则A=\\left(\\alpha_1,\\alpha_2,\\cdots,\\alpha_n \\right). 从而，\\left\\|A\\right\\|_1=\\max_i\\left\\|\\alpha_i\\right\\|_1.\n",
    "若x=\\left[x_i\\right].$\n",
    "\n",
    "$$\n",
    "\\left\\|A\\right\\|_1=\\left\\|x_1\\alpha_1+x_2\\alpha_2+\\cdots+x_n\\alpha_n\\right\\|_1\\le\\sum_{i=1}^n\\left\\|x_i\\alpha_i\\right\\|\\le\\sum_{i=1}^n\\left|x_i\\right|\\left\\|\\alpha_i\\right\\|_1\\le\\sum_{i=1}^n\\left|x_i\\right|\\left(\\max_k\\left\\|\\alpha_k\\right\\|_1\\right)=\\sum_{i=1}^n\\left|x_i\\right|\\left\\|A\\right\\|_1=\\left\\|x\\right\\|_1\\left\\|A\\right\\|_1\n",
    "$$\n",
    "\n",
    "则$$\n",
    "\\frac{\\left\\|Ax\\right\\|_1}{\\left\\|x\\right\\|_1}\\le\\left\\|A\\right\\|_1.\n",
    "$$\n",
    "\n",
    "$若取x=e_k, \\left(第k个数为1，其余为0.\\right), 则\\left\\|x\\right\\|_1=1. 对任意的k=1,\\cdots,n. $\n",
    "\n",
    "则$$\n",
    "\\max_{\\left\\|x\\right\\|_1}\\left\\|Ax\\right\\|_1\\ge\\left\\|\\alpha_k\\right\\|_1\n",
    "$$\n",
    "\n",
    "$$\n",
    "\\max_{\\left\\|x\\right\\|_1}\\left\\|Ax\\right\\|_1=\\max_k\\left\\|\\alpha_k\\right\\|_1=\\left\\|A\\right\\|_1\n",
    "$$\n",
    "\n",
    "证毕."
   ]
  },
  {
   "cell_type": "markdown",
   "metadata": {},
   "source": [
    "8.证明：\n",
    "\n",
    "$\n",
    "\\qquad A^*Ax=\\lambda x, 若\\lambda=0. A^*A非满秩，从而AA^*非满秩. \\lambda也是AA^*的特征值. 若\\lambda\\ne0, 则y=Ax\\ne0\n",
    "$\n",
    "\n",
    "$$\n",
    "AA^*y=AA^*Ax=A\\left(\\lambda x\\right)=\\lambda Ax=\\lambda y\n",
    "$$\n",
    "\n",
    "$\n",
    "所以\\lambda也是AA^*的特征值.\n",
    "$\n",
    "\n",
    "$$\n",
    "\\left\\|A\\right\\|_2=\\sqrt{\\lambda\\left(A^*A\\right)}=\\sqrt{\\lambda\\left(AA^*\\right)}=\\left\\|A^*\\right\\|_2\n",
    "$$\n",
    "\n",
    "$$\n",
    "\\left|\\lambda E-\\left(A^T\\right)^*A^T\\right|=\\left|\\lambda E-\\left(AA^*\\right)^T\\right|=\\left|\\lambda E-AA^*\\right|\n",
    "$$\n",
    "\n",
    "$\n",
    "所以\\left\\|A\\right\\|_2=\\left\\|A^*\\right\\|_2=\\left\\|A^T\\right\\|_2\n",
    "$\n",
    "\n",
    "证毕."
   ]
  },
  {
   "cell_type": "markdown",
   "metadata": {},
   "source": [
    "9.证明：\n",
    "$\n",
    "A是正规阵, 所以可以酉相似一个对角阵, 将A作特征值分解,\\ A=U\\land U^*, 其中U是酉矩阵.\\ \\land=diag\\left(\\lambda_1,\\cdots,\\lambda_n\\right),\\ \\lambda为A的特征值.\n",
    "$\n",
    "\n",
    "$$\n",
    "\\left\\|A\\right\\|_2=\\max_{x\\ne0}\\frac{\\left\\|Ax\\right\\|_2}{\\left\\|x\\right\\|_2}=\\max_{x\\ne0}\\frac{\\left\\|U\\land U^*\\right\\|_2}{\\left\\|x\\right\\|_2}=\\max_{x\\ne0}\\frac{\\sqrt{x^*U\\land U^*U\\land U^*x}}{\\left\\|x\\right\\|_2}\\le\\max_{x\\ne0}\\frac{\\sqrt{\\sum\\lambda_i^2x_i^2}}{\\sqrt{\\sum x_i^2}}\\le\\max_{x\\ne0}\\lambda\\sqrt{\\frac{\\sum x_i^2}{\\sum x_i^2}}=\\max_{x\\ne0}\\lambda\n",
    "$$\n",
    "\n",
    "$\n",
    "当x选择单位阵适当的列时，等号可以成立.\n",
    "$\n",
    "\n",
    "证毕."
   ]
  },
  {
   "cell_type": "markdown",
   "metadata": {},
   "source": [
    "10证明：\n",
    "\n",
    "$$\n",
    "\\left\\|A\\right\\|_1^2=\\left(\\max_j\\sum_i\\left|a_{ij}\\right|\\right)^2\\le\\sum_i\\left|a_{i1}\\right|^2+\\sum_i\\left|a_{i2}\\right|^2+\\cdots+\\sum_i\\left|a_{in}\\right|^2=tr\\left(A^TA\\right)=\\lambda_1\\left(A^TA\\right)+\\lambda_2\\left(A^TA\\right)+\\cdots+\\lambda_n\\left(A^TA\\right)\\le n\\lambda_\\max\\left(A^TA\\right)=n\\left\\|A\\right\\|_2^2\n",
    "$$\n",
    "\n",
    "$$\n",
    "\\left\\|A\\right\\|_2^2=\\lambda_\\max\\left(A^TA\\right)\\le\\lambda_1\\left(A^TA\\right)+\\lambda_2\\left(A^TA\\right)+\\cdots+\\lambda_n\\left(A^TA\\right)=tr\\left(A^TA\\right)=\\sum_i\\left|a_{i1}\\right|^2+\\sum_i\\left|a_{i2}\\right|^2+\\cdots+\\sum_i\\left|a_{in}\\right|^2\\le n\\max_j\\left(\\sum_i\\left|a_{ij}\\right|\\right)^2\\le n\\left(\\max_j\\sum_i\\left|a_{ij}\\right|\\right)^2=n\\left\\|A\\right\\|_1^2\n",
    "$$\n",
    "\n",
    "\n",
    "故得到\n",
    "$\n",
    "\\frac{1}{\\sqrt{n}}\\left\\|A\\right\\|_2\\le\\left\\|A\\right\\|_1\\le\\sqrt{n}\\left\\|A\\right\\|_2\n",
    "$\n",
    "\n",
    "证毕."
   ]
  },
  {
   "cell_type": "markdown",
   "metadata": {},
   "source": [
    "11.证明：\n",
    "\n",
    "$$\n",
    "\\left\\|A\\right\\|_\\infty^2=\\left(\\max_i\\sum_j\\left|a_{ij}\\right|\\right)^2\\le\\sum_j\\left|a_{1j}\\right|^2+\\sum_j\\left|a_{2j}\\right|^2+\\cdots+\\sum_j\\left|a_{nj}\\right|^2=tr\\left(AA^T\\right)=tr\\left(A^TA\\right)=\\lambda_1\\left(A^TA\\right)+\\lambda_2\\left(A^TA\\right)+\\cdots+\\lambda_n\\left(A^TA\\right)\\le n\\lambda_\\max\\left(A^TA\\right)=n\\left\\|A\\right\\|_2^2\n",
    "$$\n",
    "\n",
    "$$\n",
    "\\left\\|A\\right\\|_2^2=\\lambda_\\max\\left(A^TA\\right)\\le=\\lambda_1\\left(A^TA\\right)+\\lambda_2\\left(A^TA\\right)+\\cdots+\\lambda_n\\left(A^TA\\right)=tr\\left(A^TA\\right)=\\sum_i\\left|a_{i1}\\right|^2+\\sum_i\\left|a_{i2}\\right|^2+\\cdots+\\sum_i\\left|a_{in}\\right|^2=\\sum_{j=1}^n\\sum_{i=1}^n\\left|a_{ij}\\right|^2=\\sum_{i=1}^n\\sum_{j=1}^n\\left|a_{ij}\\right|^2=\\sum_j\\left|a_{1j}\\right|^2+\\sum_j\\left|a_{2j}\\right|^2+\\cdots+\\sum_j\\left|a_{nj}\\right|^2\\le n\\max_j\\sum_i\\left|a_{ij}\\right|^2\\le n\\left(\\max_j\\sum_i\\left|a_{ij}\\right|\\right)^2=n\\left\\|A\\right\\|_\\infty^2\n",
    "$$\n",
    "\n",
    "\n",
    "故得到\n",
    "$\n",
    "\\frac{1}{\\sqrt{n}}\\left\\|A\\right\\|_2\\le\\left\\|A\\right\\|_\\infty\\le\\sqrt{n}\\left\\|A\\right\\|_2\n",
    "$\n",
    "\n",
    "证毕."
   ]
  },
  {
   "cell_type": "markdown",
   "metadata": {},
   "source": [
    "12.证明：\n",
    "\n",
    "$$\n",
    "\\left\\|A\\right\\|_1=\\max_j\\sum_i\\left|a_{ij}\\right|\\le\\sum_i\\left|a_{i1}\\right|+\\sum_i\\left|a_{i2}\\right|+\\cdots+\\sum_i\\left|a_{in}\\right|=\\sum_{j=1}^n\\sum_{i=1}^n\\left|a_{ij}\\right|=\\sum_{i=1}^n\\sum_{j=1}^n\\left|a_{ij}\\right|=\\sum_j\\left|a_{1j}\\right|+\\sum_j\\left|a_{2j}\\right|+\\cdots+\\sum_j\\left|a_{nj}\\right|\\\\\\le n\\max_i\\sum_j\\left|a_{ij}\\right|\\le n\\max_i\\sum_j\\left|a_{ij}\\right|=n\\left\\|A\\right\\|_\\infty\n",
    "$$\n",
    "\n",
    "$$\n",
    "\\left\\|A\\right\\|_\\infty=\\left(\\max_i\\sum_j\\left|a_{ij}\\right|\\right)\\le\\sum_j\\left|a_{1j}\\right|+\\sum_j\\left|a_{2j}\\right|+\\cdots+\\sum_j\\left|a_{nj}\\right|=\\sum_{i=1}^n\\sum_{j=1}^n\\left|a_{ij}\\right|=\\sum_{j=1}^n\\sum_{i=1}^n\\left|a_{ij}\\right|\\le n\\max_j\\sum_i\\left|a_{ij}\\right|\\le n\\max_j\\sum_i\\left|a_{ij}\\right|=n\\left\\|A\\right\\|_1\n",
    "$$\n",
    "\n",
    "\n",
    "故得到\n",
    "$\n",
    "\\frac{1}{n}\\left\\|A\\right\\|_\\infty\\le\\left\\|A\\right\\|_1\\le n\\left\\|A\\right\\|_\\infty\n",
    "$\n",
    "\n",
    "证毕."
   ]
  },
  {
   "cell_type": "markdown",
   "metadata": {},
   "source": [
    "13.证明：\n",
    "\n",
    "$$\n",
    "\\left\\|A\\right\\|_1^2=\\left(\\max_j\\sum_i\\left|a_{ij}\\right|\\right)^2\\le\\sum_i\\left|a_{i1}\\right|^2+\\sum_i\\left|a_{i2}\\right|^2+\\cdots+\\sum_i\\left|a_{in}\\right|^2=\\sum_{j=1}^n\\sum_{i=1}^n\\left|a_{ij}\\right|^2=\\sum_{i=1}^n\\sum_{j=1}^n\\left|a_{ij}\\right|^2=\\left\\|A\\right\\|_F^2\n",
    "$$\n",
    "\n",
    "$$\n",
    "\\left\\|A\\right\\|_F^2=\\sum_{i=1}^n\\sum_{j=1}^n\\left|a_{ij}\\right|^2==\\sum_{j=1}^n\\sum_{i=1}^n\\left|a_{ij}\\right|^2=\\sum_i\\left|a_{i1}\\right|^2+\\sum_i\\left|a_{i2}\\right|^2+\\cdots+\\sum_i\\left|a_{in}\\right|^2\\\\=tr\\left(A^TA\\right)=\\lambda_1\\left(A^TA\\right)+\\lambda_2\\left(A^TA\\right)+\\cdots+\\lambda_n\\left(A^TA\\right)\\le n\\lambda_\\max\\left(A^TA\\right)=n\\left\\|A\\right\\|_2^2\n",
    "$$\n",
    "\n",
    "故得到\n",
    "$\n",
    "\\left\\|A\\right\\|_1\\le\\left\\|A\\right\\|_F\\le\\sqrt{n}\\left\\|A\\right\\|_2\n",
    "$\n",
    "\n",
    "证毕."
   ]
  },
  {
   "cell_type": "code",
   "execution_count": null,
   "metadata": {
    "collapsed": true
   },
   "outputs": [],
   "source": []
  }
 ],
 "metadata": {
  "kernelspec": {
   "display_name": "Python 3",
   "language": "python",
   "name": "python3"
  },
  "language_info": {
   "codemirror_mode": {
    "name": "ipython",
    "version": 3
   },
   "file_extension": ".py",
   "mimetype": "text/x-python",
   "name": "python",
   "nbconvert_exporter": "python",
   "pygments_lexer": "ipython3",
   "version": "3.6.1"
  }
 },
 "nbformat": 4,
 "nbformat_minor": 2
}
