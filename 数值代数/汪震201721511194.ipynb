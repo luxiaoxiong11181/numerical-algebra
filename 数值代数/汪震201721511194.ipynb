{
 "cells": [
  {
   "cell_type": "markdown",
   "metadata": {},
   "source": [
    "\n",
    "1.由于$\\left\\|A\\right\\|_{mn}=\\max\\limits_{\\substack{x \\neq 0\\\\x \\in R^n}}\\frac{\\left\\|Ax\\right\\|_m}{\\left\\|x\\right\\|_n}$,故$\\left\\|A\\right\\|\\cdot\\left\\|x\\right\\|=\\max\\limits_{\\substack{x \\neq 0\\\\x\\in R^n}}\\left\\|Ax\\right\\|$.即$\\left\\|Ax\\right\\|\\le\\left\\|A\\right\\|\\cdot\\left\\|x\\right\\|$."
   ]
  },
  {
   "cell_type": "markdown",
   "metadata": {},
   "source": [
    "2.由（1）可得：$$\\left\\|ABx\\right\\|\\le\\left\\|A\\right\\|\\cdot\\left\\|Bx\\right\\|\\le\\left\\|A\\right\\|\\cdot\\left\\|B\\right\\|\\cdot\\left\\|x\\right\\|$$\n",
    "当$x\\neq0$时，有$\\frac{\\left\\|ABx\\right\\|}{\\left\\|x\\right\\|}\\le\\left\\|A\\right\\|\\cdot\\left\\|B\\right\\|$\n",
    "故$\\left\\|AB\\right\\|=\\max\\limits_{\\substack{x \\neq 0\\\\x \\in R^n}}\\frac{\\left\\|ABx\\right\\|}{\\left\\|x\\right\\|}\\le\\left\\|A\\right\\|\\cdot\\left\\|B\\right\\|$.证毕."
   ]
  },
  {
   "cell_type": "markdown",
   "metadata": {},
   "source": [
    "3.取$x=(1,0,1)^T$,\n",
    "$A= \\begin{bmatrix}\n",
    "1  &  0  &  1 \\\\ \n",
    "0  &  \\frac{3}{2}  &  0 \\\\\n",
    "0  &  1  &  0\n",
    "\\end{bmatrix}$\n",
    "\n",
    "则$Ax=\\begin{bmatrix}\n",
    "1  &  0  &  1 \\\\ \n",
    "0  &  \\frac{3}{2}  &  0 \\\\\n",
    "0  &  1  &  0\n",
    "\\end{bmatrix}\\times(1,0,1)^T=(2,0,0)^T$\n",
    "\n",
    "$\\|A\\|_{max}=\\frac{3}{2}\\quad\\|x\\|_{max}=1\\quad\\|Ax\\|_{max}=2$\n",
    "\n",
    "然而$\\frac{\\|Ax\\|_{max}}{\\|x\\|_{max}}=2\\neq\\frac{3}{2}=\\|A\\|_{max}$\n",
    "\n",
    "故证最大范数不是算子范数\n",
    "\n",
    "$\\|A\\|_F=(1+\\frac{9}{4}+1+1)^\\frac{1}{2}=\\frac{\\sqrt{21}}{2}\\quad\\|x\\|_F=\\sqrt{2}\\quad\\|Ax\\|_F=2$\n",
    "\n",
    "然而$\\frac{\\|Ax\\|_F}{\\|x\\|_F}=\\frac{2}{\\sqrt{2}}=\\sqrt{2}\\neq\\frac{\\sqrt{21}}{2}=\\|A\\|_F$\n",
    "\n",
    "故证弗罗贝尼乌斯范数也不是算子范数"
   ]
  },
  {
   "cell_type": "markdown",
   "metadata": {
    "collapsed": true
   },
   "source": [
    "4.由于$A^TA$的第$i$行第$i$列元素为：$\\sum_{k=1}^m|a_{ki}|^2$\n",
    "$$\n",
    "\\quad\n",
    "$$\n",
    "故$tr(A^TA)=\\sum_{i=1}^n\\sum_{k=1}^m|a_{ki}|^2=\\|A\\|_F^2$\n",
    "$$\n",
    "\\quad\n",
    "$$\n",
    "由于$AA^T$的第$i$行第$i$列元素为:$\\sum_{k=1}^m|a_{ik}|^2$\n",
    "$$\n",
    "\\quad\n",
    "$$\n",
    "故$tr(AA^T)=\\sum_{i=1}^n\\sum_{k=1}^m|a_{ik}|^2=\\|A\\|_F^2$\n",
    "$$\n",
    "\\quad\n",
    "$$\n",
    "所以$\\|A\\|_F^2=tr(A^TA)=tr(AA^T)$\n",
    "$$\n",
    "\\quad\n",
    "$$\n",
    "当$Q$和$Z$是酉矩阵时，$\\|QAZ\\|_F^2=tr((QAZ)^TQAZ)=tr(Z^TA^TQ^TQAZ)=tr(Z^TA^TAZ)=tr(AZZ^TA^T)=tr(AA^T)=\\|A\\|_F^2$\n",
    "$$\n",
    "\\quad\n",
    "$$\n",
    "即证：当$Q$和$Z$是酉矩阵时：$\\|QAZ\\|_F=\\|A\\|_F$\n",
    "$$\n",
    "\\quad\n",
    "$$\n",
    "当$Q$和$Z$是酉矩阵时:$\\|QAZ\\|_2=\\sqrt{\\lambda_{max}((QAZ)^TQAZ)}=\\sqrt{\\lambda_{max}(Z^TA^TQ^TQAZ)}=\\sqrt{\\lambda_{max}(Z^TA^TAZ)}=\\sqrt{\\lambda_{max}(AA^T)}=\\|A\\|_F$\n",
    "$$\n",
    "\\quad\n",
    "$$\n",
    "即证：当$Q$和$Z$是酉矩阵时：$\\|QAZ\\|_2=\\|A\\|_F$"
   ]
  },
  {
   "cell_type": "markdown",
   "metadata": {},
   "source": [
    "5.设$x=(x_1,x_2,\\cdots,x_n)^T\\neq 0$.不妨设$A\\neq 0$,记$t=\\left\\|x\\right\\|_\\infty=\\max\\limits_{1 \\le i\\le n}\\mid x_i\\mid$,\n",
    "$\\mu=\\max\\limits_{1\\le i\\le n}\\sum_{j=1}^n\\mid a_{ij}\\mid$.则$$\\left\\|Ax\\right\\|_\\infty=\\max\\limits_{1\\le i\\le n}\\mid\\sum_{j=1}^n a_{ij}x_{j}\\mid\\le\\max\\limits_{i}\\sum_{j=1}^n\\left|a_{ij}\\right|\\cdot\\left|x_{j}\\right|\\le t\\max\\limits_{i}\\sum_{j=1}^n\\left|a_{ij}\\right|=\\left\\|x\\right\\|_\\infty\\cdot\\max\\limits_{1\\le i\\le n}\\sum_{j=1}^n\\mid a_{ij}\\mid$$\n",
    "这说明对任何非零$x\\in R^n$，有$\\frac{\\|Ax\\|_\\infty}{\\|x\\|_\\infty}\\le\\mu$.\n",
    "下面来说明有一向量$x_o\\neq0$使$\\frac{\\|Ax_o\\|_\\infty}{\\|x_o\\|_\\infty}=\\mu$.设$\\mu=\\sum_{j=1}^n\\mid a_{i_o j}\\mid$.取向量$x_o=(x_1,x_2,\\cdots,x_n)^T$,其中$x_j=sgn(a_{i_o} j)(j=1,2,\\cdots,n)$.显然$\\|x_o\\|_\\infty=1$且$Ax_o$的第$i_o$个分量为$\\sum_{i=1}^n a_{i_o j}x_j=\\sum_{j=1}^n\\mid a_{i_o j}\\mid$这说明\n",
    "$$\\|Ax_o\\|_\\infty=\\max\\limits_{1\\le i\\le n}\\mid\\sum_{j=1}^n a_{ij}x_j\\mid=\\sum_{j=1}^n\\mid a_{i_o j}\\mid=\\mu$$.\n",
    "由于$\\|A\\|_\\infty=\\max\\frac{\\|Ax\\|_\\infty}{\\|x\\|_\\infty}=\\mu=\\max\\limits_{1\\le i\\le n}\\sum_{j=1}^n \\mid a_{ij}\\mid$.所以$\\max\\frac{\\|Ax\\|_\\infty}{\\|x\\|_\\infty}=\\mu$."
   ]
  },
  {
   "cell_type": "markdown",
   "metadata": {},
   "source": [
    "6.设$x=(x_1,x_2,\\cdots,x_n)^T\\neq 0$.令$t=\\|x\\|_1=\\sum_{j=1}^n\\mid x_j\\mid$.$\\mu=\\max\\limits_{1\\le j\\le n}\\sum_{i=1}^n\\mid a_{ij}\\mid$.\n",
    "则$$\\|Ax\\|_1=\\sum_{i=1}^n\\mid \\sum_{j=1}^n a_{ij}x_j\\mid\\le\\sum_{i=1}^n\\sum_{j=1}^n\\mid a_{ij}\\mid\\cdot\\mid x_j\\mid=\\sum_{j=1}^n\\sum_{i=1}^n\\mid a_{ij}\\mid\\cdot\\mid x_j\\mid=\\sum_{j=1}^n\\mid x_j\\mid\\sum_{i=1}^n\\mid a_{ij}\\mid\\le\\|x\\|_1\\cdot\\mu$$\n",
    "所以对任何非零向量$x\\in R^n$,有$\\frac{\\|Ax\\|_1}{\\|x\\|_1}\\le\\mu$.下面来说明有一向量$x_o\\neq0$使$\\frac{\\|Ax\\|_1}{\\|x\\|_1}=\\mu$.设$\\mu=\\sum_{i=1}^n\\mid a_{ij_o}\\mid$,取$x_o=(0,0,\\cdots,x_{j_o},0,\\cdots,0)^T$,其中\n",
    "显然$\\|x_o\\|_1=1$且$Ax_o$的第$j_o$个分量为$\\sum_{i=1}^n a_{ij_o}x_{j_o}$.这说明$$\\|Ax_o\\|_1=\\sum_{i=1}^n\\mid \\sum_{j=1}^n a_{ij}x_j\\mid=\\sum_{i=1}^n\\mid a_{ij_o}x_{j_o}\\mid=\\sum_{i=1}^n\\mid a_{ij_o}\\mid=\\mu$$\n",
    "所以$\\|A\\|_1=\\max\\frac{\\|Ax\\|_1}{\\|x\\|_1}=\\mu=\\max\\limits_{1\\le j\\le n}\\sum_{i=1}^n\\mid a_{ij}\\mid$"
   ]
  },
  {
   "cell_type": "markdown",
   "metadata": {},
   "source": [
    "8.$\\|A\\|_2=\\sqrt{\\lambda\\max(A^*A)},\\|A^T\\|_2=\\sqrt{\\lambda\\max[(A^T)^*(A)^T]}=\\sqrt{\\lambda\\max[AA^*]^T}$\n",
    "由于$(A^*)^{-1}(A^*A)A^*=AA^*$，故$A^*A$与$AA^*$相似,故其有相同的特征值。\n",
    "由于$AA^*$与$(AA^*)^T$的特征值相同，故$A^*A$与$(AA^*)^T$的特征值相同。故$\\lambda_\\max(A^*A)=\\lambda_\\max[AA^*]^T$，所以$\\|A\\|_2=\\|A^T\\|_2$"
   ]
  },
  {
   "cell_type": "markdown",
   "metadata": {},
   "source": [
    "9.由于$A$是一个正规矩阵，所以存在一个特征分解 $A=O^*\\wedge Q=Q^*giag(\\lambda_1,\\lambda_2,\\cdots,\\lambda_n)Q$.其中$Q$是酉矩阵,$\\lambda_1,\\lambda_2,\\cdots,\\lambda_n$是$A$的特征值\n",
    "则$$A^*A=[Q^*giag(\\lambda_1,\\lambda_2,\\cdots,\\lambda_n)Q]^*Q^*giag(\\lambda_1,\\lambda_2,\\cdots,\\lambda_n)Q=Q^*giag(\\lambda_1^2,\\lambda_2^2,\\cdots,\\lambda_n^2)Q$$ 故$\\lambda_1^2,\\lambda_2^2,\\cdots,\\lambda_n^2$是$A^*A$的特征值,所以$\\|A\\|_2=\\sqrt{\\lambda\\max(A^*A)}=\\max\\mid \\lambda_i(A)\\mid$"
   ]
  },
  {
   "cell_type": "markdown",
   "metadata": {},
   "source": [
    "10.设$\\lambda_1,\\lambda_2,\\cdots,\\lambda_n$是矩阵$A^TA$的特征值\n",
    "$$\n",
    "\\quad\n",
    "$$\n",
    "$\\|A\\|_2^2=\\lambda_{max}\n",
    "(A^TA)\\leq\\lambda_1+\\lambda_2+\\cdots+\\lambda_n=tr(A^TA)=\\sum_{i=1}^n|a_{i1}|^2+\\sum_{i=1}^n|a_{i2}|^2+\\cdots+\\sum_{i=1}^n|a_{in}|^2\\leq{nmax_j(\\sum_{i=1}|a_ij|)^2}=n\\|A\\|_1^2$\n",
    "$$\n",
    "\\quad\n",
    "$$\n",
    "所以：$\\frac{1}{\\sqrt{n}}\\|A\\|_2\\leq\\|A\\|_1 \\quad 即n^\\frac{-1}{2}\\|A\\|_2\\leq\\|A\\|_1$\n",
    "$$\n",
    "\\quad\n",
    "$$\n",
    "$\\|A\\|_1^2=max_j(\\sum_{i=1}^n|a_ij|)^2\\leq\\sum_{j=1}^n|a_1j|^2+\\sum_{j=1}^n|a_2j|^2+\\cdots+\\sum_{j=1}^n|a_nj|^2=\\sum_{j=1}^n\\sum_{i=1}^n|a_{ij}|^2=tr(A^TA)=\\lambda_1+\\lambda_2+\\cdots+\\lambda_n\\leq{n\\lambda_{max}(A^TA)}=n\\|A\\|_2^2$\n",
    "$$\n",
    "\\quad\n",
    "$$\n",
    "所以：$\\|A\\|_1\\leq{n^\\frac{1}{2}\\|A\\|^2}$"
   ]
  },
  {
   "cell_type": "markdown",
   "metadata": {},
   "source": [
    "11.设$\\lambda_1,\\lambda_2,\\cdots,\\lambda_n$是矩阵$A^TA$的特征值\n",
    "$$\n",
    "\\quad\n",
    "$$\n",
    "$\\|A\\|_2^2=\\lambda_{max}(A^TA)\\leq\\lambda_1+\\lambda_2+\\cdots+\\lambda_n=tr(A^TA)=\\sum_{i=1}^n\\sum_{j=1}^n|a_{ij}|^2=\\sum_{j=1}^n|a_1j|^2+\\sum_{j=1}^n|a_2j|^2+\\cdots+\\sum_{j=1}^n|a_nj|^2\\leq{nmax_j(\\sum_{i=1}^n|a_ij|)^2}=n\\|A\\|_\\infty^2$\n",
    "$$\n",
    "\\quad\n",
    "$$\n",
    "即$n^\\frac{-1}{2}\\|A\\|_2\\leq\\|A\\|_\\infty$\n",
    "$$\n",
    "\\quad\n",
    "$$\n",
    "$\\|A\\|_\\infty^2=max_j(\\sum_{i=1}^n|a_ij|^2)\\leq\\sum_{j=1}^n|a_1j|^2+\\sum_{j=1}^n|a_2j|^2+\\cdots+\\sum_{j=1}^n|a_nj|^2==tr(\\sum_{i=1}^n\\sum_{j=1}^n|a_{ij}|^2=tr(A^TA)=\\lambda_1+\\lambda_2+\\cdots+\\lambda_n\\leq{n\\lambda_max(A^TA)}=n\\|A\\|_2^2$\n",
    "$$\n",
    "\\quad\n",
    "$$\n",
    "所以：$\\|A\\|_\\infty\\leq{n^\\frac{1}{2}\\|A\\|^2}$"
   ]
  },
  {
   "cell_type": "markdown",
   "metadata": {},
   "source": [
    "12.由于$\\|A\\|_1=\\max\\limits_{1\\le j\\le n}\\sum_{i=1}^n\\mid a_{ij}\\mid,\\|A\\|_\\infty=\\max\\limits_{1\\le i\\le n}\\sum_{j=1}^n\\mid a_{ij}\\mid$\n",
    "$$\\frac{\\|A\\|_\\infty=\\max\\limits_{1\\le i\\le n}\\sum_{j=1}^n\\mid a_{ij}\\mid}{n}\\le\\max\\mid a_{ij}\\mid\\le\\max\\sum_{i=1}^n\\mid a_{ij}\\mid\\le n\\max\\mid a_{ij}\\mid\\le n\\max\\limits_{1\\le i\\le n}\\sum_{j=1}^n\\mid a_{ij}\\mid$$\n",
    "即证:$\\frac{\\|A\\|_\\infty}{n}\\le\\|A\\|_1\\le n\\|A\\|_\\infty$"
   ]
  },
  {
   "cell_type": "markdown",
   "metadata": {},
   "source": [
    "13.由于$\\|A\\|_1^2=(max_i\\sum_{j=1}^n|a_{ij}|)^2$\n",
    "$$\n",
    "\\quad\n",
    "$$\n",
    "$\\|A\\|_1^2=(max_i\\sum_{j=1}^n|a_{ij}|)^2\\leq\\sum_{j=1}^n|a_{1j}|+\\sum_{j=1}^n|a_{2j}|+\\cdots+\\sum_{j=1}^n|a_{nj}|=\\sum_{i=1}^n\\sum_{j=1}^n|a_{ij}|^2=tr(A^TA)=\\|A\\|_F^2$\n",
    "$$\n",
    "\\quad\n",
    "$$\n",
    "由于$\\|A\\|_F^2=tr(A^TA)=\\sum_{i=1}^n\\sum_{j=1}^n|a_{ij}|^2\\quad\\|A\\|_2^2=\\lambda_{max}(A_TA)$\n",
    "$$\n",
    "\\quad\n",
    "$$\n",
    "所以$\\|A\\|_F^2=tr(A^TA)\\leq{n\\lambda_max{A^TA}}=n\\|A\\|_2^2$\n",
    "$$\n",
    "\\quad\n",
    "$$\n",
    "综上即证：$\\|A\\|_1\\leq\\|A\\|_F\\leq{n^\\frac{1}{2}\\|A\\|_2}$"
   ]
  }
 ],
 "metadata": {
  "kernelspec": {
   "display_name": "Python 2",
   "language": "python",
   "name": "python2"
  },
  "language_info": {
   "codemirror_mode": {
    "name": "ipython",
    "version": 2
   },
   "file_extension": ".py",
   "mimetype": "text/x-python",
   "name": "python",
   "nbconvert_exporter": "python",
   "pygments_lexer": "ipython2",
   "version": "2.7.13"
  }
 },
 "nbformat": 4,
 "nbformat_minor": 2
}
