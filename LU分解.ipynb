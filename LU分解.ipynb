{
 "cells": [
  {
   "cell_type": "code",
   "execution_count": 18,
   "metadata": {
    "collapsed": true
   },
   "outputs": [],
   "source": [
    "import numpy as np\n",
    "def lu(A):\n",
    "    if not A.shape[0] == A.shape[1]:\n",
    "        raise ValueError(\"Input matrix must be square\")\n",
    "    n = A.shape[0]\n",
    "    L = np.zeros((n, n), dtype=np.float)\n",
    "    U = np.zeros((n, n), dtype=np.float)\n",
    "    U[:] = A\n",
    "    np.fill_diagonal(L, 1)\n",
    "    for i in range(n-1):\n",
    "        for j in range(i+1, n):\n",
    "            L[j, i] = U[j, i]/U[i, i]\n",
    "            U[j, i:] = U[j, i:] - L[j, i]*U[i, i:]\n",
    "            U[j, i] = 0\n",
    "    return(L, U)"
   ]
  },
  {
   "cell_type": "code",
   "execution_count": 19,
   "metadata": {
    "collapsed": true
   },
   "outputs": [],
   "source": [
    "A = np.matrix([[1, 1, 1], [0, 4, -1], [2, -2, 1]])"
   ]
  },
  {
   "cell_type": "code",
   "execution_count": 20,
   "metadata": {},
   "outputs": [
    {
     "data": {
      "text/plain": [
       "(array([[ 1.,  0.,  0.],\n",
       "        [ 0.,  1.,  0.],\n",
       "        [ 2., -1.,  1.]]), array([[ 1.,  1.,  1.],\n",
       "        [ 0.,  4., -1.],\n",
       "        [ 0.,  0., -2.]]))"
      ]
     },
     "execution_count": 20,
     "metadata": {},
     "output_type": "execute_result"
    }
   ],
   "source": [
    "lu(A)"
   ]
  },
  {
   "cell_type": "code",
   "execution_count": 21,
   "metadata": {},
   "outputs": [],
   "source": [
    "B = np.matrix([[0.0001, 1], [1, 1]])"
   ]
  },
  {
   "cell_type": "code",
   "execution_count": 22,
   "metadata": {},
   "outputs": [
    {
     "data": {
      "text/plain": [
       "(array([[  1.00000000e+00,   0.00000000e+00],\n",
       "        [  1.00000000e+04,   1.00000000e+00]]),\n",
       " array([[  1.00000000e-04,   1.00000000e+00],\n",
       "        [  0.00000000e+00,  -9.99900000e+03]]))"
      ]
     },
     "execution_count": 22,
     "metadata": {},
     "output_type": "execute_result"
    }
   ],
   "source": [
    "lu(B)"
   ]
  },
  {
   "cell_type": "code",
   "execution_count": null,
   "metadata": {
    "collapsed": true
   },
   "outputs": [],
   "source": []
  }
 ],
 "metadata": {
  "kernelspec": {
   "display_name": "Python 3",
   "language": "python",
   "name": "python3"
  },
  "language_info": {
   "codemirror_mode": {
    "name": "ipython",
    "version": 3
   },
   "file_extension": ".py",
   "mimetype": "text/x-python",
   "name": "python",
   "nbconvert_exporter": "python",
   "pygments_lexer": "ipython3",
   "version": "3.6.1"
  }
 },
 "nbformat": 4,
 "nbformat_minor": 2
}
